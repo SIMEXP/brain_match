{
 "cells": [
  {
   "cell_type": "markdown",
   "metadata": {},
   "source": [
    "### EXP: kappa and dice consensus"
   ]
  },
  {
   "cell_type": "code",
   "execution_count": 1,
   "metadata": {},
   "outputs": [],
   "source": [
    "import os\n",
    "import pandas as pd\n",
    "import numpy as np\n",
    "import json\n",
    "import itertools\n",
    "import seaborn as sns\n",
    "from sklearn import metrics\n",
    "from matplotlib import gridspec as gs\n",
    "import matplotlib.pyplot as plt\n",
    "from functools import reduce"
   ]
  },
  {
   "cell_type": "code",
   "execution_count": 2,
   "metadata": {},
   "outputs": [],
   "source": [
    "%matplotlib inline\n",
    "%load_ext rpy2.ipython\n",
    "sns.set(style=\"white\")"
   ]
  },
  {
   "cell_type": "code",
   "execution_count": 3,
   "metadata": {},
   "outputs": [],
   "source": [
    "def CustomParser(data):\n",
    "    j1 = json.loads(data)\n",
    "    return j1"
   ]
  },
  {
   "cell_type": "code",
   "execution_count": 4,
   "metadata": {},
   "outputs": [],
   "source": [
    "# Read ratings \n",
    "Eraters_df = pd.read_csv('../data/rating/all_experts_ratings.csv')\n",
    "Zraters_df =  pd.read_csv('../data/rating/full_launch_zooniverse_raters_included.csv')"
   ]
  },
  {
   "cell_type": "code",
   "execution_count": 5,
   "metadata": {},
   "outputs": [],
   "source": [
    "# Randomly split Expert raters in three groups nd zooniverse in 2 groups\n",
    "import re\n",
    "import random\n",
    "random.seed(0)\n",
    "\n",
    "# match only raters names\n",
    "Er = re.compile(\"R.*\")\n",
    "Zr = re.compile(\"S.*\")\n",
    "Elist = list(filter(Er.match,Eraters_df.columns.get_values()))\n",
    "Zlist = list(filter(Zr.match,Zraters_df.columns.get_values()))\n",
    "# Split list\n",
    "Esplit = [['ID']+[Elist.pop(random.randrange(len(Elist))) for ii in range(3)] for ll in range(3)]\n",
    "Zsplit = [['ID']+[Zlist.pop(random.randrange(len(Zlist))) for ii in range(int(len(Zlist)/2))],['ID']+Zlist]"
   ]
  },
  {
   "cell_type": "code",
   "execution_count": 6,
   "metadata": {
    "scrolled": false
   },
   "outputs": [],
   "source": [
    "# Create dictionary of dataframes of splitted list\n",
    "Edata = {'Ec{}'.format(ii+1) :Eraters_df[ir] for ii,ir in enumerate(Esplit)}\n",
    "Zdata = {'Zc{}'.format(ii+1) :Zraters_df[ir] for ii,ir in enumerate(Zsplit)}"
   ]
  },
  {
   "cell_type": "code",
   "execution_count": 7,
   "metadata": {
    "scrolled": true
   },
   "outputs": [],
   "source": [
    "def sum_ratings(df):\n",
    "    '''sum all ratings for each image'''\n",
    "    stuff = np.array([[row.ID,\n",
    "                       np.sum(row[1:].values=='Fail'),\n",
    "                       np.sum(row[1:].values=='Maybe'),\n",
    "                       np.sum(row[1:].values=='OK')]  \n",
    "                      for ind, row in df.iterrows()])\n",
    "    df_ = pd.DataFrame(data=stuff, columns=['ID','Fail', 'Maybe', 'OK'])\n",
    "    return df_"
   ]
  },
  {
   "cell_type": "code",
   "execution_count": 8,
   "metadata": {},
   "outputs": [],
   "source": [
    "def norm_ratings(df_score,cons_name = 'Cons'):\n",
    "    # Normalise table's row\n",
    "    df_score_tmp = df_score[['Fail','Maybe','OK']].astype('int')\n",
    "    nb_rating = df_score[['Fail','Maybe','OK']].astype('int').sum(axis=\"columns\")\n",
    "    df_norm = pd.DataFrame( index=df_score.index,columns=['ID','Fail', 'Maybe', 'OK'])\n",
    "    for status in ['Fail','Maybe','OK']:\n",
    "        for image in df_score.index:\n",
    "            df_norm[status][image] = np.int(df_score[status][image])/nb_rating[image]\n",
    "            df_norm['ID'][image] = df_score['ID'][image]\n",
    "    # get max value\n",
    "    max_value = [row.iloc[1:].get_values().max() for ind,row in df_norm.iterrows()]\n",
    "    df_norm.loc[:,'{}Val'.format(cons_name)] = max_value\n",
    "    # get concensus rating\n",
    "    s = ['Fail', 'Maybe', 'OK']\n",
    "    max_rate = [s[row[1:].values.argmax()] for rid, row in df_norm.iterrows()]\n",
    "    df_norm.loc[:,'{}'.format(cons_name)] = max_rate\n",
    "    return df_norm"
   ]
  },
  {
   "cell_type": "code",
   "execution_count": 73,
   "metadata": {},
   "outputs": [],
   "source": [
    "# Create rating consensus\n",
    "Edfs = [norm_ratings(sum_ratings(Edata[ii]),ii)[['ID',ii]] for ii in list(Edata.keys())]\n",
    "Zdfs = [norm_ratings(sum_ratings(Zdata[ii]),ii)[['ID',ii]] for ii in list(Zdata.keys())[::-1]]"
   ]
  },
  {
   "cell_type": "code",
   "execution_count": 75,
   "metadata": {},
   "outputs": [],
   "source": [
    "# Merge all consensus in one dataframe \n",
    "Econ_ = reduce(lambda left,right: pd.merge(left,right,how='outer',on='ID'), Edfs)\n",
    "Zcon_ = reduce(lambda left,right: pd.merge(left,right,how='outer',on='ID'), Zdfs)\n",
    "EZcon_ = Eraters_df[['ID','Econ','Zcon']]\n",
    "EZdfs = [EZcon_,Econ_,Zcon_]\n",
    "cons_df = reduce(lambda left,right: pd.merge(left,right,how='outer',on='ID'), EZdfs)"
   ]
  },
  {
   "cell_type": "code",
   "execution_count": 76,
   "metadata": {},
   "outputs": [
    {
     "data": {
      "text/html": [
       "<div>\n",
       "<style scoped>\n",
       "    .dataframe tbody tr th:only-of-type {\n",
       "        vertical-align: middle;\n",
       "    }\n",
       "\n",
       "    .dataframe tbody tr th {\n",
       "        vertical-align: top;\n",
       "    }\n",
       "\n",
       "    .dataframe thead th {\n",
       "        text-align: right;\n",
       "    }\n",
       "</style>\n",
       "<table border=\"1\" class=\"dataframe\">\n",
       "  <thead>\n",
       "    <tr style=\"text-align: right;\">\n",
       "      <th></th>\n",
       "      <th>ID</th>\n",
       "      <th>Ec</th>\n",
       "      <th>Zc</th>\n",
       "      <th>Ec1</th>\n",
       "      <th>Ec2</th>\n",
       "      <th>Ec3</th>\n",
       "      <th>Zc1</th>\n",
       "      <th>Zc2</th>\n",
       "    </tr>\n",
       "  </thead>\n",
       "  <tbody>\n",
       "    <tr>\n",
       "      <th>0</th>\n",
       "      <td>X2081148</td>\n",
       "      <td>1</td>\n",
       "      <td>1</td>\n",
       "      <td>1</td>\n",
       "      <td>1</td>\n",
       "      <td>1</td>\n",
       "      <td>1</td>\n",
       "      <td>1</td>\n",
       "    </tr>\n",
       "    <tr>\n",
       "      <th>1</th>\n",
       "      <td>X3917422</td>\n",
       "      <td>2</td>\n",
       "      <td>2</td>\n",
       "      <td>2</td>\n",
       "      <td>2</td>\n",
       "      <td>3</td>\n",
       "      <td>2</td>\n",
       "      <td>2</td>\n",
       "    </tr>\n",
       "    <tr>\n",
       "      <th>2</th>\n",
       "      <td>X4104523</td>\n",
       "      <td>2</td>\n",
       "      <td>2</td>\n",
       "      <td>3</td>\n",
       "      <td>2</td>\n",
       "      <td>2</td>\n",
       "      <td>2</td>\n",
       "      <td>3</td>\n",
       "    </tr>\n",
       "    <tr>\n",
       "      <th>3</th>\n",
       "      <td>X3163200</td>\n",
       "      <td>2</td>\n",
       "      <td>2</td>\n",
       "      <td>2</td>\n",
       "      <td>2</td>\n",
       "      <td>1</td>\n",
       "      <td>2</td>\n",
       "      <td>3</td>\n",
       "    </tr>\n",
       "    <tr>\n",
       "      <th>4</th>\n",
       "      <td>X2297413</td>\n",
       "      <td>3</td>\n",
       "      <td>3</td>\n",
       "      <td>3</td>\n",
       "      <td>3</td>\n",
       "      <td>3</td>\n",
       "      <td>3</td>\n",
       "      <td>3</td>\n",
       "    </tr>\n",
       "  </tbody>\n",
       "</table>\n",
       "</div>"
      ],
      "text/plain": [
       "         ID  Ec  Zc  Ec1  Ec2  Ec3  Zc1  Zc2\n",
       "0  X2081148   1   1    1    1    1    1    1\n",
       "1  X3917422   2   2    2    2    3    2    2\n",
       "2  X4104523   2   2    3    2    2    2    3\n",
       "3  X3163200   2   2    2    2    1    2    3\n",
       "4  X2297413   3   3    3    3    3    3    3"
      ]
     },
     "execution_count": 76,
     "metadata": {},
     "output_type": "execute_result"
    }
   ],
   "source": [
    "# Replace OK with 1 , Maybe with 2 and Fail with 3\n",
    "cons_df.replace({'OK':1,'Maybe':2, 'Fail':3}, inplace=True)\n",
    "cons_df.rename(columns = {'Econ':'Ec','Zcon':'Zc'}, inplace=True)\n",
    "cons_df.head()"
   ]
  },
  {
   "cell_type": "code",
   "execution_count": 77,
   "metadata": {},
   "outputs": [],
   "source": [
    "%%R\n",
    "suppressPackageStartupMessages(library(dplyr))\n",
    "#install.packages(\"irr\") \n",
    "library(irr)"
   ]
  },
  {
   "cell_type": "code",
   "execution_count": 78,
   "metadata": {},
   "outputs": [
    {
     "name": "stdout",
     "output_type": "stream",
     "text": [
      " Percentage agreement (Tolerance=0)\n",
      "\n",
      " Subjects = 100 \n",
      "   Raters = 7 \n",
      "  %-agree = 40 \n",
      "\n"
     ]
    }
   ],
   "source": [
    "# Percenteage of agrrement between raters with R package IRR\n",
    "agree_ = cons_df.drop(['ID'],axis=1)\n",
    "%Rpush agree_\n",
    "agree_n = %R agree(agree_)\n",
    "print(agree_n)"
   ]
  },
  {
   "cell_type": "code",
   "execution_count": 79,
   "metadata": {},
   "outputs": [],
   "source": [
    "# FDR correction\n",
    "from statsmodels.sandbox.stats import multicomp as smi\n",
    "\n",
    "def fdr_transf(mat,log10 = False):\n",
    "    '''compute fdr of a given matrix'''\n",
    "    \n",
    "    row = mat.shape[0]\n",
    "    col = mat.shape[1]\n",
    "    flatt = mat.flatten()\n",
    "    fdr_2d = smi.multipletests(flatt, alpha=0.05, method='fdr_bh')[1]\n",
    "    if log10 == True:\n",
    "        fdr_2d = [-np.log10(ii) if ii != 0 else 50 for ii in fdr_2d  ]\n",
    "    fdr_3d = np.reshape(fdr_2d,(row,col))\n",
    "    return fdr_3d"
   ]
  },
  {
   "cell_type": "code",
   "execution_count": 80,
   "metadata": {},
   "outputs": [],
   "source": [
    "# Kappa calculation\n",
    "def kappa_score(k_df,log10 = False):\n",
    "    '''compute Kappa between diferent raters organized in dataframe'''\n",
    "    k_store = np.zeros((len(k_df.columns), len(k_df.columns)))\n",
    "    p_store = np.zeros((len(k_df.columns), len(k_df.columns)))\n",
    "    %Rpush k_df\n",
    "    for user1_id, user1 in enumerate(k_df.columns):\n",
    "        for user2_id, user2 in enumerate(k_df.columns):\n",
    "            weight = np.unique(kappa_df[[user1,user2]])\n",
    "            %Rpush user1_id user1 user2_id user2 weight\n",
    "            kappaR =  %R kappa2(k_df[,c(user1,user2)],weight)\n",
    "            \n",
    "            # store the kappa\n",
    "            k_store[user1_id, user2_id] = [kappaR[x][0] for x in range(np.shape(kappaR)[0])][4]\n",
    "            p_store[user1_id, user2_id] = [kappaR[x][0] for x in range(np.shape(kappaR)[0])][-1]\n",
    "            \n",
    "    # FDR Correction       \n",
    "    p_store = fdr_transf(p_store,log10)\n",
    "    return k_store, p_store"
   ]
  },
  {
   "cell_type": "code",
   "execution_count": 81,
   "metadata": {},
   "outputs": [
    {
     "name": "stdout",
     "output_type": "stream",
     "text": [
      "Mean Kappa : 0.66 , std : 0.09\n",
      "\n",
      " Fleiss' Kappa for m Raters\n",
      "\n",
      " Subjects = 100 \n",
      "   Raters = 7 \n",
      "    Kappa = 0.6 \n",
      "\n",
      "        z = 38.2 \n",
      "  p-value = 0 \n",
      "\n"
     ]
    }
   ],
   "source": [
    "# Get Kappa score out of all different combination of ratings\n",
    "kappa_df  = cons_df.drop(['ID'],axis=1)\n",
    "kappa_store, Pval_store = kappa_score(kappa_df)\n",
    "mean_kap = np.mean(kappa_store[np.triu_indices(len(kappa_store),k=1)])\n",
    "std_kap = np.std(kappa_store[np.triu_indices(len(kappa_store),k=1)])\n",
    "print('Mean Kappa : {0:.2f} , std : {1:.2f}\\n'.format(mean_kap, std_kap))\n",
    "\n",
    "#calculte the over all kappa values of all ratings\n",
    "%Rpush kappa_df\n",
    "fleiss_kappa = %R kappam.fleiss(kappa_df,c(0,1,2))\n",
    "print(fleiss_kappa)"
   ]
  },
  {
   "cell_type": "code",
   "execution_count": 84,
   "metadata": {},
   "outputs": [
    {
     "data": {
      "image/png": "[encoded data removed]",
      "text/plain": [
       "<Figure size 216x216 with 2 Axes>"
      ]
     },
     "metadata": {},
     "output_type": "display_data"
    }
   ],
   "source": [
    "# Plot kappa matrix for expert only\n",
    "kappa_out = pd.DataFrame(kappa_store, \n",
    "                         index=kappa_df.columns.get_values(),\n",
    "                         columns=kappa_df.columns.get_values())\n",
    "\n",
    "\n",
    "# Set up the matplotlib figure\n",
    "f, axes = plt.subplots(figsize = (3,3))\n",
    "f.subplots_adjust(hspace= .8)\n",
    "sns.set(font_scale=0.6)\n",
    "f.suptitle('Inter-consensus Kappa matrix',x=0.49,y=1.05, fontsize=10, fontweight='bold')\n",
    "# Draw kappa heat map\n",
    "mask = np.zeros_like(kappa_out)\n",
    "mask[np.triu_indices_from(mask)] = True\n",
    "sns.heatmap(kappa_out,vmin=0.1,vmax=0.8,cmap=\"YlGnBu_r\",\n",
    "            square=True,\n",
    "            annot=True,annot_kws={\"size\": 6},\n",
    "            mask = mask,\n",
    "            linewidths=.5, \n",
    "            cbar_kws={\"shrink\": .3,\"label\": \"Cohen's Kappa\"},  \n",
    "            ax=axes)\n",
    "sns.set(style=\"white\")\n",
    "sns.axes_style(\"white\")\n",
    "\n",
    "axes.set_yticks([x+0.5 for x in range(len(kappa_df.columns))])\n",
    "axes.set_yticklabels(kappa_df.columns,rotation=0,fontsize=7)\n",
    "axes.set_xticklabels(kappa_df.columns,rotation=0,fontsize=7)\n",
    "\n",
    "text_title = '''\n",
    "Cohen's Kappa matrix for {} images from\n",
    "{} QC consensus'''.format(len(cons_df),len(cons_df.columns[1:]))\n",
    "axes.set_title(text_title,pad=20,fontsize=8)\n",
    "#axes.annotate('Low', xy=(-0.17, 0.97),xytext=(-0.2, -0), xycoords='axes fraction',\n",
    "              #arrowprops=dict(arrowstyle=\"fancy,tail_width=1.2,head_width=01\",\n",
    "                            #fc=\"0.7\", ec=\"none\",\n",
    "                            #linewidth =2))\n",
    "\n",
    "# Caption\n",
    "pval = np.unique(Pval_store)[-1]\n",
    "txt = '''\n",
    "    Fig1: Kappa matrix for {} expert raters. Kappa's P-values range from\n",
    "            {:.2g} to {:.2g} '''.format(len(cons_df.columns[1:]),Pval_store.min(), Pval_store.max())\n",
    "f.text(0.1,-0.1,txt,fontsize=8);\n",
    "#f.text(0.11,0.88,'High',fontsize=12)\n",
    "#f.text(0.10,0.62,'Level of QC expertise',fontsize=12,rotation=90)\n",
    "# Save figure\n",
    "f.savefig('../reports/figures/Results/Consensus/Full-Launch-experts_qc.svg')"
   ]
  },
  {
   "cell_type": "code",
   "execution_count": 85,
   "metadata": {
    "scrolled": true
   },
   "outputs": [
    {
     "data": {
      "text/html": [
       "<img src=\"https://i.stack.imgur.com/kYNd6.png\" width=\"600\" height=\"600\"/>"
      ],
      "text/plain": [
       "<IPython.core.display.Image object>"
      ]
     },
     "execution_count": 85,
     "metadata": {},
     "output_type": "execute_result"
    }
   ],
   "source": [
    "from IPython.display import Image\n",
    "Image(url= \"https://i.stack.imgur.com/kYNd6.png\" ,width=600, height=600)"
   ]
  },
  {
   "cell_type": "markdown",
   "metadata": {},
   "source": [
    "### Boxplot of kappa distribution between raters"
   ]
  },
  {
   "cell_type": "code",
   "execution_count": 86,
   "metadata": {},
   "outputs": [
    {
     "data": {
      "text/html": [
       "<div>\n",
       "<style scoped>\n",
       "    .dataframe tbody tr th:only-of-type {\n",
       "        vertical-align: middle;\n",
       "    }\n",
       "\n",
       "    .dataframe tbody tr th {\n",
       "        vertical-align: top;\n",
       "    }\n",
       "\n",
       "    .dataframe thead th {\n",
       "        text-align: right;\n",
       "    }\n",
       "</style>\n",
       "<table border=\"1\" class=\"dataframe\">\n",
       "  <thead>\n",
       "    <tr style=\"text-align: right;\">\n",
       "      <th></th>\n",
       "      <th>Ec</th>\n",
       "      <th>Zc</th>\n",
       "      <th>Ec1</th>\n",
       "      <th>Ec2</th>\n",
       "      <th>Ec3</th>\n",
       "      <th>Zc1</th>\n",
       "      <th>Zc2</th>\n",
       "    </tr>\n",
       "  </thead>\n",
       "  <tbody>\n",
       "    <tr>\n",
       "      <th>Ec</th>\n",
       "      <td>1.000000</td>\n",
       "      <td>0.758978</td>\n",
       "      <td>0.736359</td>\n",
       "      <td>0.768744</td>\n",
       "      <td>0.867852</td>\n",
       "      <td>0.650602</td>\n",
       "      <td>0.619952</td>\n",
       "    </tr>\n",
       "    <tr>\n",
       "      <th>Zc</th>\n",
       "      <td>0.758978</td>\n",
       "      <td>1.000000</td>\n",
       "      <td>0.642692</td>\n",
       "      <td>0.636150</td>\n",
       "      <td>0.726841</td>\n",
       "      <td>0.723158</td>\n",
       "      <td>0.782188</td>\n",
       "    </tr>\n",
       "    <tr>\n",
       "      <th>Ec1</th>\n",
       "      <td>0.736359</td>\n",
       "      <td>0.642692</td>\n",
       "      <td>1.000000</td>\n",
       "      <td>0.616426</td>\n",
       "      <td>0.637024</td>\n",
       "      <td>0.565416</td>\n",
       "      <td>0.622080</td>\n",
       "    </tr>\n",
       "    <tr>\n",
       "      <th>Ec2</th>\n",
       "      <td>0.768744</td>\n",
       "      <td>0.636150</td>\n",
       "      <td>0.616426</td>\n",
       "      <td>1.000000</td>\n",
       "      <td>0.664751</td>\n",
       "      <td>0.500951</td>\n",
       "      <td>0.551105</td>\n",
       "    </tr>\n",
       "    <tr>\n",
       "      <th>Ec3</th>\n",
       "      <td>0.867852</td>\n",
       "      <td>0.726841</td>\n",
       "      <td>0.637024</td>\n",
       "      <td>0.664751</td>\n",
       "      <td>1.000000</td>\n",
       "      <td>0.596391</td>\n",
       "      <td>0.589780</td>\n",
       "    </tr>\n",
       "  </tbody>\n",
       "</table>\n",
       "</div>"
      ],
      "text/plain": [
       "           Ec        Zc       Ec1       Ec2       Ec3       Zc1       Zc2\n",
       "Ec   1.000000  0.758978  0.736359  0.768744  0.867852  0.650602  0.619952\n",
       "Zc   0.758978  1.000000  0.642692  0.636150  0.726841  0.723158  0.782188\n",
       "Ec1  0.736359  0.642692  1.000000  0.616426  0.637024  0.565416  0.622080\n",
       "Ec2  0.768744  0.636150  0.616426  1.000000  0.664751  0.500951  0.551105\n",
       "Ec3  0.867852  0.726841  0.637024  0.664751  1.000000  0.596391  0.589780"
      ]
     },
     "execution_count": 86,
     "metadata": {},
     "output_type": "execute_result"
    }
   ],
   "source": [
    "#compute kappa\n",
    "kappa_df  = cons_df.drop(['ID'],axis=1)\n",
    "kappa_store, Pval_store = kappa_score(kappa_df)\n",
    "# Get results into data frame\n",
    "df_resul= pd.DataFrame(kappa_store,columns=kappa_df.columns,index=kappa_df.columns)\n",
    "df_resul.head()"
   ]
  },
  {
   "cell_type": "code",
   "execution_count": 87,
   "metadata": {},
   "outputs": [
    {
     "data": {
      "text/html": [
       "<div>\n",
       "<style scoped>\n",
       "    .dataframe tbody tr th:only-of-type {\n",
       "        vertical-align: middle;\n",
       "    }\n",
       "\n",
       "    .dataframe tbody tr th {\n",
       "        vertical-align: top;\n",
       "    }\n",
       "\n",
       "    .dataframe thead th {\n",
       "        text-align: right;\n",
       "    }\n",
       "</style>\n",
       "<table border=\"1\" class=\"dataframe\">\n",
       "  <thead>\n",
       "    <tr style=\"text-align: right;\">\n",
       "      <th></th>\n",
       "      <th>a</th>\n",
       "      <th>b</th>\n",
       "      <th>c</th>\n",
       "    </tr>\n",
       "  </thead>\n",
       "  <tbody>\n",
       "    <tr>\n",
       "      <th>1</th>\n",
       "      <td>Ec</td>\n",
       "      <td>Zc</td>\n",
       "      <td>0.758978</td>\n",
       "    </tr>\n",
       "    <tr>\n",
       "      <th>2</th>\n",
       "      <td>Ec</td>\n",
       "      <td>Ec1</td>\n",
       "      <td>0.736359</td>\n",
       "    </tr>\n",
       "    <tr>\n",
       "      <th>3</th>\n",
       "      <td>Ec</td>\n",
       "      <td>Ec2</td>\n",
       "      <td>0.768744</td>\n",
       "    </tr>\n",
       "    <tr>\n",
       "      <th>4</th>\n",
       "      <td>Ec</td>\n",
       "      <td>Ec3</td>\n",
       "      <td>0.867852</td>\n",
       "    </tr>\n",
       "    <tr>\n",
       "      <th>5</th>\n",
       "      <td>Ec</td>\n",
       "      <td>Zc1</td>\n",
       "      <td>0.650602</td>\n",
       "    </tr>\n",
       "  </tbody>\n",
       "</table>\n",
       "</div>"
      ],
      "text/plain": [
       "    a    b         c\n",
       "1  Ec   Zc  0.758978\n",
       "2  Ec  Ec1  0.736359\n",
       "3  Ec  Ec2  0.768744\n",
       "4  Ec  Ec3  0.867852\n",
       "5  Ec  Zc1  0.650602"
      ]
     },
     "execution_count": 87,
     "metadata": {},
     "output_type": "execute_result"
    }
   ],
   "source": [
    "# transform results from matrix like to column like  \n",
    "df1 = df_resul.stack().reset_index()\n",
    "#set column names\n",
    "df1.columns = ['a','b','c']\n",
    "#remove kappa for between the same rater ( kappa of 1)\n",
    "df1 = df1[~(df1.a == df1.b)]\n",
    "df1.head()"
   ]
  },
  {
   "cell_type": "code",
   "execution_count": 89,
   "metadata": {},
   "outputs": [
    {
     "data": {
      "image/png": "[encoded data removed]",
      "text/plain": [
       "<Figure size 172.8x144 with 1 Axes>"
      ]
     },
     "metadata": {},
     "output_type": "display_data"
    }
   ],
   "source": [
    "f, axes = plt.subplots(figsize = (2.4,2))\n",
    "sns.set(style=\"white\")\n",
    "sns.axes_style(\"white\")\n",
    "sns.set(font_scale=0.6)\n",
    "sns.boxplot(x='a', y='c', color=\"green\", data=df1,palette=\"Pastel1\",ax=axes)\n",
    "sns.stripplot(x='a', y='c', data=df1, color=\"red\", jitter=0.1, size=2.5,ax=axes)\n",
    "axes.set_xticklabels(df1.a.unique(),rotation=0,fontsize=7)\n",
    "axes.set_ylim([0.2,0.95])\n",
    "plt.title(\"Kappa Distribution\", loc=\"left\")\n",
    "plt.savefig('../reports/figures/Results/Consensus/kappa_distrib.svg')"
   ]
  },
  {
   "cell_type": "markdown",
   "metadata": {},
   "source": [
    "### Box plot of Kappa between expert and zooniverse consensus"
   ]
  },
  {
   "cell_type": "code",
   "execution_count": 90,
   "metadata": {},
   "outputs": [
    {
     "data": {
      "text/html": [
       "<div>\n",
       "<style scoped>\n",
       "    .dataframe tbody tr th:only-of-type {\n",
       "        vertical-align: middle;\n",
       "    }\n",
       "\n",
       "    .dataframe tbody tr th {\n",
       "        vertical-align: top;\n",
       "    }\n",
       "\n",
       "    .dataframe thead th {\n",
       "        text-align: right;\n",
       "    }\n",
       "</style>\n",
       "<table border=\"1\" class=\"dataframe\">\n",
       "  <thead>\n",
       "    <tr style=\"text-align: right;\">\n",
       "      <th></th>\n",
       "      <th>Ec</th>\n",
       "      <th>Zc</th>\n",
       "      <th>Ec1</th>\n",
       "      <th>Ec2</th>\n",
       "      <th>Ec3</th>\n",
       "      <th>Zc1</th>\n",
       "      <th>Zc2</th>\n",
       "    </tr>\n",
       "  </thead>\n",
       "  <tbody>\n",
       "    <tr>\n",
       "      <th>Ec</th>\n",
       "      <td>1.000000</td>\n",
       "      <td>0.758978</td>\n",
       "      <td>0.736359</td>\n",
       "      <td>0.768744</td>\n",
       "      <td>0.867852</td>\n",
       "      <td>0.650602</td>\n",
       "      <td>0.619952</td>\n",
       "    </tr>\n",
       "    <tr>\n",
       "      <th>Zc</th>\n",
       "      <td>0.758978</td>\n",
       "      <td>1.000000</td>\n",
       "      <td>0.642692</td>\n",
       "      <td>0.636150</td>\n",
       "      <td>0.726841</td>\n",
       "      <td>0.723158</td>\n",
       "      <td>0.782188</td>\n",
       "    </tr>\n",
       "    <tr>\n",
       "      <th>Ec1</th>\n",
       "      <td>0.736359</td>\n",
       "      <td>0.642692</td>\n",
       "      <td>1.000000</td>\n",
       "      <td>0.616426</td>\n",
       "      <td>0.637024</td>\n",
       "      <td>0.565416</td>\n",
       "      <td>0.622080</td>\n",
       "    </tr>\n",
       "    <tr>\n",
       "      <th>Ec2</th>\n",
       "      <td>0.768744</td>\n",
       "      <td>0.636150</td>\n",
       "      <td>0.616426</td>\n",
       "      <td>1.000000</td>\n",
       "      <td>0.664751</td>\n",
       "      <td>0.500951</td>\n",
       "      <td>0.551105</td>\n",
       "    </tr>\n",
       "    <tr>\n",
       "      <th>Ec3</th>\n",
       "      <td>0.867852</td>\n",
       "      <td>0.726841</td>\n",
       "      <td>0.637024</td>\n",
       "      <td>0.664751</td>\n",
       "      <td>1.000000</td>\n",
       "      <td>0.596391</td>\n",
       "      <td>0.589780</td>\n",
       "    </tr>\n",
       "  </tbody>\n",
       "</table>\n",
       "</div>"
      ],
      "text/plain": [
       "           Ec        Zc       Ec1       Ec2       Ec3       Zc1       Zc2\n",
       "Ec   1.000000  0.758978  0.736359  0.768744  0.867852  0.650602  0.619952\n",
       "Zc   0.758978  1.000000  0.642692  0.636150  0.726841  0.723158  0.782188\n",
       "Ec1  0.736359  0.642692  1.000000  0.616426  0.637024  0.565416  0.622080\n",
       "Ec2  0.768744  0.636150  0.616426  1.000000  0.664751  0.500951  0.551105\n",
       "Ec3  0.867852  0.726841  0.637024  0.664751  1.000000  0.596391  0.589780"
      ]
     },
     "execution_count": 90,
     "metadata": {},
     "output_type": "execute_result"
    }
   ],
   "source": [
    "# Get Kappa\n",
    "kappa_df  = cons_df.drop(['ID'],axis=1)\n",
    "kappa_store, Pval_store = kappa_score(kappa_df)\n",
    "# transform results from matrix like to column like  \n",
    "df= pd.DataFrame(kappa_store,columns=kappa_df.columns,index=kappa_df.columns)\n",
    "df.head()"
   ]
  },
  {
   "cell_type": "code",
   "execution_count": 91,
   "metadata": {
    "scrolled": false
   },
   "outputs": [
    {
     "name": "stderr",
     "output_type": "stream",
     "text": [
      "/mnt/home_sq/yassinebha/.virtualenvs/zooniverse_qc/lib/python3.5/site-packages/ipykernel_launcher.py:10: UserWarning: Boolean Series key will be reindexed to match DataFrame index.\n",
      "  # Remove the CWD from sys.path while we load stuff.\n"
     ]
    },
    {
     "data": {
      "text/html": [
       "<div>\n",
       "<style scoped>\n",
       "    .dataframe tbody tr th:only-of-type {\n",
       "        vertical-align: middle;\n",
       "    }\n",
       "\n",
       "    .dataframe tbody tr th {\n",
       "        vertical-align: top;\n",
       "    }\n",
       "\n",
       "    .dataframe thead th {\n",
       "        text-align: right;\n",
       "    }\n",
       "</style>\n",
       "<table border=\"1\" class=\"dataframe\">\n",
       "  <thead>\n",
       "    <tr style=\"text-align: right;\">\n",
       "      <th></th>\n",
       "      <th>a</th>\n",
       "      <th>b</th>\n",
       "      <th>c</th>\n",
       "    </tr>\n",
       "  </thead>\n",
       "  <tbody>\n",
       "    <tr>\n",
       "      <th>14</th>\n",
       "      <td>Ec1</td>\n",
       "      <td>Ec</td>\n",
       "      <td>0.736359</td>\n",
       "    </tr>\n",
       "    <tr>\n",
       "      <th>15</th>\n",
       "      <td>Ec1</td>\n",
       "      <td>Zc</td>\n",
       "      <td>0.642692</td>\n",
       "    </tr>\n",
       "    <tr>\n",
       "      <th>21</th>\n",
       "      <td>Ec2</td>\n",
       "      <td>Ec</td>\n",
       "      <td>0.768744</td>\n",
       "    </tr>\n",
       "    <tr>\n",
       "      <th>22</th>\n",
       "      <td>Ec2</td>\n",
       "      <td>Zc</td>\n",
       "      <td>0.636150</td>\n",
       "    </tr>\n",
       "    <tr>\n",
       "      <th>28</th>\n",
       "      <td>Ec3</td>\n",
       "      <td>Ec</td>\n",
       "      <td>0.867852</td>\n",
       "    </tr>\n",
       "    <tr>\n",
       "      <th>29</th>\n",
       "      <td>Ec3</td>\n",
       "      <td>Zc</td>\n",
       "      <td>0.726841</td>\n",
       "    </tr>\n",
       "    <tr>\n",
       "      <th>35</th>\n",
       "      <td>Zc1</td>\n",
       "      <td>Ec</td>\n",
       "      <td>0.650602</td>\n",
       "    </tr>\n",
       "    <tr>\n",
       "      <th>36</th>\n",
       "      <td>Zc1</td>\n",
       "      <td>Zc</td>\n",
       "      <td>0.723158</td>\n",
       "    </tr>\n",
       "    <tr>\n",
       "      <th>42</th>\n",
       "      <td>Zc2</td>\n",
       "      <td>Ec</td>\n",
       "      <td>0.619952</td>\n",
       "    </tr>\n",
       "    <tr>\n",
       "      <th>43</th>\n",
       "      <td>Zc2</td>\n",
       "      <td>Zc</td>\n",
       "      <td>0.782188</td>\n",
       "    </tr>\n",
       "  </tbody>\n",
       "</table>\n",
       "</div>"
      ],
      "text/plain": [
       "      a   b         c\n",
       "14  Ec1  Ec  0.736359\n",
       "15  Ec1  Zc  0.642692\n",
       "21  Ec2  Ec  0.768744\n",
       "22  Ec2  Zc  0.636150\n",
       "28  Ec3  Ec  0.867852\n",
       "29  Ec3  Zc  0.726841\n",
       "35  Zc1  Ec  0.650602\n",
       "36  Zc1  Zc  0.723158\n",
       "42  Zc2  Ec  0.619952\n",
       "43  Zc2  Zc  0.782188"
      ]
     },
     "execution_count": 91,
     "metadata": {},
     "output_type": "execute_result"
    }
   ],
   "source": [
    "# transform results from matrix like to column like  \n",
    "df1 = df.stack().reset_index()\n",
    "#set column names\n",
    "df1.columns = ['a','b','c']\n",
    "# slect only Zcon and Econ \n",
    "df2 = df1[((df1.b == 'Zc') | (df1.b == 'Ec'))]\n",
    "# remove kaa between the same rater\n",
    "df3 = df2[~(df2.a == df2.b)]\n",
    "# remove econ vs zcon kappa\n",
    "df4 = df3[~((df1.a == 'Zc') | (df1.a == 'Ec'))]\n",
    "df4"
   ]
  },
  {
   "cell_type": "code",
   "execution_count": 92,
   "metadata": {
    "scrolled": false
   },
   "outputs": [
    {
     "data": {
      "image/png": "[encoded data removed]",
      "text/plain": [
       "<Figure size 174.24x39.6 with 1 Axes>"
      ]
     },
     "metadata": {},
     "output_type": "display_data"
    }
   ],
   "source": [
    "# box plot of zcon econ\n",
    "f, axes = plt.subplots(figsize = (2.42,0.55))\n",
    "sns.set(style=\"white\")\n",
    "sns.axes_style(\"white\")\n",
    "sns.set(font_scale=0.6)\n",
    "sns.boxplot(x='c', y='b', color=\"green\", data=df4, palette=\"Pastel1\",ax=axes)\n",
    "sns.stripplot(x='c', y='b', data=df4, color=\"red\", jitter=0.1, size=2.5,ax=axes)\n",
    "axes.set_xlim([0.35,1])\n",
    "#axes.set_xticklabels(df4.b.unique(),rotation=90,fontsize=7)\n",
    "plt.savefig('../reports/figures/Results/Consensus/expcon_vs_zooncon_distrib.svg')"
   ]
  },
  {
   "cell_type": "markdown",
   "metadata": {},
   "source": [
    "### Kappa coef Zcon Econ"
   ]
  },
  {
   "cell_type": "code",
   "execution_count": 93,
   "metadata": {},
   "outputs": [
    {
     "data": {
      "text/html": [
       "<div>\n",
       "<style scoped>\n",
       "    .dataframe tbody tr th:only-of-type {\n",
       "        vertical-align: middle;\n",
       "    }\n",
       "\n",
       "    .dataframe tbody tr th {\n",
       "        vertical-align: top;\n",
       "    }\n",
       "\n",
       "    .dataframe thead th {\n",
       "        text-align: right;\n",
       "    }\n",
       "</style>\n",
       "<table border=\"1\" class=\"dataframe\">\n",
       "  <thead>\n",
       "    <tr style=\"text-align: right;\">\n",
       "      <th></th>\n",
       "      <th>Ec1</th>\n",
       "      <th>Ec2</th>\n",
       "      <th>Ec3</th>\n",
       "      <th>Zc1</th>\n",
       "      <th>Zc2</th>\n",
       "    </tr>\n",
       "  </thead>\n",
       "  <tbody>\n",
       "    <tr>\n",
       "      <th>Ec</th>\n",
       "      <td>0.736359</td>\n",
       "      <td>0.768744</td>\n",
       "      <td>0.867852</td>\n",
       "      <td>0.650602</td>\n",
       "      <td>0.619952</td>\n",
       "    </tr>\n",
       "    <tr>\n",
       "      <th>Zc</th>\n",
       "      <td>0.642692</td>\n",
       "      <td>0.636150</td>\n",
       "      <td>0.726841</td>\n",
       "      <td>0.723158</td>\n",
       "      <td>0.782188</td>\n",
       "    </tr>\n",
       "  </tbody>\n",
       "</table>\n",
       "</div>"
      ],
      "text/plain": [
       "         Ec1       Ec2       Ec3       Zc1       Zc2\n",
       "Ec  0.736359  0.768744  0.867852  0.650602  0.619952\n",
       "Zc  0.642692  0.636150  0.726841  0.723158  0.782188"
      ]
     },
     "execution_count": 93,
     "metadata": {},
     "output_type": "execute_result"
    }
   ],
   "source": [
    "# Pivot table\n",
    "df5=df4.pivot_table(values=['c'], index=['a'],columns=['b'])\n",
    "# flaten hearers and rotate it \n",
    "df5.columns = df5.columns.levels[1].get_values()\n",
    "df5.index.name = None\n",
    "df5=df5.T\n",
    "#df5 = df5[['Surc','Jpau','Cmak','Edup','Abad','Atam','Jche','Pfer', 'Czwe']]\n",
    "df5"
   ]
  },
  {
   "cell_type": "code",
   "execution_count": 94,
   "metadata": {},
   "outputs": [
    {
     "data": {
      "image/png": "[encoded data removed]",
      "text/plain": [
       "<Figure size 216x39.6 with 2 Axes>"
      ]
     },
     "metadata": {},
     "output_type": "display_data"
    }
   ],
   "source": [
    "# Plot Dice matrix for concensus exert and  zooniverse\n",
    "\n",
    "# Set up the matplotlib figure\n",
    "f, axes = plt.subplots(figsize = (3,0.55))\n",
    "f.subplots_adjust(hspace= .8)\n",
    "sns.set(font_scale=0.6)\n",
    "f.suptitle('Inter-consensus Kappa ',x=0.49,y=1.5, fontsize=8, fontweight='bold')\n",
    "# Draw kappa heat map\n",
    "\n",
    "sns.heatmap(df5,vmin=0.1,vmax=0.8,cmap=\"YlGnBu_r\",\n",
    "            square=True,\n",
    "            annot=True,annot_kws={\"size\": 6},\n",
    "            linewidths=.5, \n",
    "            cbar_kws={\"shrink\": 0.85,\"label\": \"Cohen's Kappa\"}, \n",
    "            ax=axes)\n",
    "sns.set(style=\"white\")\n",
    "sns.axes_style(\"white\")\n",
    "\n",
    "#axes.set_yticks([x+0.5 for x in range(len(dice_df.columns))])\n",
    "axes.set_yticklabels(df5.index,rotation=0,fontsize=7)\n",
    "axes.set_xticklabels(df5.columns,rotation=0,fontsize=7)\n",
    "\n",
    "# Caption\n",
    "txt = '''\n",
    "Fig1: Kappa matrix for consensus expert raters vs Zooniverse raters''';\n",
    "f.text(0.1,-1,txt,fontsize=8);\n",
    "\n",
    "# Save figure\n",
    "f.savefig('../reports/figures/Results/Consensus/experts-Vs-Zooniv.svg')"
   ]
  },
  {
   "cell_type": "code",
   "execution_count": 95,
   "metadata": {},
   "outputs": [
    {
     "name": "stderr",
     "output_type": "stream",
     "text": [
      "/mnt/home_sq/yassinebha/.virtualenvs/zooniverse_qc/lib/python3.5/site-packages/scipy/stats/stats.py:1706: FutureWarning: Using a non-tuple sequence for multidimensional indexing is deprecated; use `arr[tuple(seq)]` instead of `arr[seq]`. In the future this will be interpreted as an array index, `arr[np.array(seq)]`, which will result either in an error or a different result.\n",
      "  return np.add.reduce(sorted[indexer] * weights, axis=axis) / sumval\n",
      "/mnt/home_sq/yassinebha/.virtualenvs/zooniverse_qc/lib/python3.5/site-packages/seaborn/axisgrid.py:1847: UserWarning: JointGrid annotation is deprecated and will be removed in a future release.\n",
      "  warnings.warn(UserWarning(msg))\n"
     ]
    },
    {
     "data": {
      "image/png": "[encoded data removed]",
      "text/plain": [
       "<Figure size 180x180 with 3 Axes>"
      ]
     },
     "metadata": {},
     "output_type": "display_data"
    }
   ],
   "source": [
    "import scipy.stats as stats\n",
    "sns.set(color_codes=True)\n",
    "sns.set(font_scale=0.6)\n",
    "joint = sns.jointplot(x='Ec', y='Zc',data= df5.T,\n",
    "              kind=\"reg\",xlim=[0.35,1], ylim=[0.35,1])\n",
    "joint.annotate(stats.pearsonr,)\n",
    "\n",
    "joint.fig.set_figwidth(2.5)\n",
    "joint.fig.set_figheight(2.5)\n",
    "plt.savefig('../reports/figures/Results/Consensus/expert_vs_zooniv_consensus.svg')"
   ]
  },
  {
   "cell_type": "markdown",
   "metadata": {},
   "source": [
    "### Compute Dice coefficient between raters "
   ]
  },
  {
   "cell_type": "code",
   "execution_count": 96,
   "metadata": {},
   "outputs": [],
   "source": [
    "def dice(im1, im2, empty_score=1.0):\n",
    "    \"\"\"\n",
    "    Computes the Dice coefficient, a measure of set similarity.\n",
    "    Parameters\n",
    "    ----------\n",
    "    im1 : array-like, bool\n",
    "        Any array of arbitrary size. If not boolean, will be converted.\n",
    "    im2 : array-like, bool\n",
    "        Any other array of identical size. If not boolean, will be converted.\n",
    "    Returns\n",
    "    -------\n",
    "    dice : float\n",
    "        Dice coefficient as a float on range [0,1].\n",
    "        Maximum similarity = 1\n",
    "        No similarity = 0\n",
    "        Both are empty (sum eq to zero) = empty_score\n",
    "        \n",
    "    Notes\n",
    "    -----\n",
    "    The order of inputs for `dice` is irrelevant. The result will be\n",
    "    identical if `im1` and `im2` are switched.\n",
    "    \"\"\"\n",
    "    im1 = np.asarray(im1).astype(np.bool)\n",
    "    im2 = np.asarray(im2).astype(np.bool)\n",
    "\n",
    "    if im1.shape != im2.shape:\n",
    "        raise ValueError(\"Shape mismatch: im1 and im2 must have the same shape.\")\n",
    "\n",
    "    im_sum = im1.sum() + im2.sum()\n",
    "    if im_sum == 0:\n",
    "        return empty_score\n",
    "\n",
    "    # Compute Dice coefficient\n",
    "    intersection = np.logical_and(im1, im2)\n",
    "\n",
    "    return 2. * intersection.sum() / im_sum"
   ]
  },
  {
   "cell_type": "code",
   "execution_count": 97,
   "metadata": {},
   "outputs": [],
   "source": [
    "# Dice matrix calculation\n",
    "from sklearn.preprocessing import OneHotEncoder\n",
    "def dice_score(d_df):\n",
    "    '''calculate Dice coefficient between diferent raters organized in dataframe'''\n",
    "    # initiate a one hot encoder\n",
    "    onehot_encoder = OneHotEncoder(sparse=False)\n",
    "    \n",
    "    scales = np.unique(d_df)\n",
    "    d_store = np.zeros((len(d_df.columns), len(d_df.columns),len(scales)))\n",
    "    for ind_scal, scal in enumerate (scales):\n",
    "        for user1_id, user1 in enumerate(d_df.columns):\n",
    "            for user2_id, user2 in enumerate(d_df.columns):\n",
    "                m1 = onehot_encoder.fit_transform(d_df[user1].values.reshape(len(d_df[user1]), 1))[:,ind_scal]\n",
    "                m2 = onehot_encoder.fit_transform(d_df[user2].values.reshape(len(d_df[user2]), 1))[:,ind_scal]\n",
    "                d_store[user1_id, user2_id,ind_scal] = dice(m1,m2)\n",
    "    return d_store,scales"
   ]
  },
  {
   "cell_type": "markdown",
   "metadata": {},
   "source": [
    "## Dice for OK category"
   ]
  },
  {
   "cell_type": "code",
   "execution_count": 98,
   "metadata": {},
   "outputs": [],
   "source": [
    "# Get Kappa score out of all different combination of ratings\n",
    "dice_df  = cons_df.drop(['ID'],axis=1)\n",
    "dice_store, scales = dice_score(dice_df)"
   ]
  },
  {
   "cell_type": "code",
   "execution_count": null,
   "metadata": {},
   "outputs": [],
   "source": []
  },
  {
   "cell_type": "code",
   "execution_count": 100,
   "metadata": {
    "scrolled": true
   },
   "outputs": [
    {
     "data": {
      "image/png": "[encoded data removed]",
      "text/plain": [
       "<Figure size 216x216 with 2 Axes>"
      ]
     },
     "metadata": {},
     "output_type": "display_data"
    }
   ],
   "source": [
    "# Plot kappa matrix for expert only\n",
    "dice_out = pd.DataFrame(dice_store[:,:,0], \n",
    "                         index=dice_df.columns.get_values(),\n",
    "                         columns=dice_df.columns.get_values())\n",
    "\n",
    "\n",
    "# Set up the matplotlib figure\n",
    "f, axes = plt.subplots(figsize = (3,3))\n",
    "f.subplots_adjust(hspace= .8)\n",
    "sns.set(font_scale=0.6)\n",
    "f.suptitle('Inter-Experts Dice Coefficent for OK ratings',x=0.49,y=1.05, fontsize=10, fontweight='bold')\n",
    "# Draw kappa heat map\n",
    "mask = np.zeros_like(dice_out)\n",
    "mask[np.triu_indices_from(mask)] = True\n",
    "sns.heatmap(dice_out,vmin=0.1,vmax=0.8,cmap=\"YlGnBu_r\",\n",
    "            square=True,\n",
    "            annot=True,annot_kws={\"size\": 6},\n",
    "            mask = mask,\n",
    "            linewidths=.5, \n",
    "            cbar_kws={\"shrink\": .3,\"label\": \"Dice Coeff OK\"}, \n",
    "            ax=axes)\n",
    "sns.set(style=\"white\")\n",
    "sns.axes_style(\"white\")\n",
    "\n",
    "axes.set_yticks([x+0.5 for x in range(len(dice_df.columns))])\n",
    "axes.set_yticklabels(dice_df.columns,rotation=0,fontsize=7)\n",
    "axes.set_xticklabels(dice_df.columns,rotation=0,fontsize=7)\n",
    "\n",
    "# Caption\n",
    "txt = '''\n",
    "Fig1: Dice matrix for {} images from {} QC expert raters'''.format(len(dice_df),len(dice_df.columns));\n",
    "f.text(0.1,-0.1,txt,fontsize=8);\n",
    "#f.text(0.11,0.88,'High',fontsize=12)\n",
    "#f.text(0.10,0.62,'Level of QC expertise',fontsize=12,rotation=90)\n",
    "# Save figure\n",
    "f.savefig('../reports/figures/Results/Consensus/Full-Launch-experts_OK.svg')"
   ]
  },
  {
   "cell_type": "markdown",
   "metadata": {},
   "source": [
    "### Boxplot of OK Dice distribution between raters"
   ]
  },
  {
   "cell_type": "code",
   "execution_count": 101,
   "metadata": {},
   "outputs": [
    {
     "data": {
      "text/html": [
       "<div>\n",
       "<style scoped>\n",
       "    .dataframe tbody tr th:only-of-type {\n",
       "        vertical-align: middle;\n",
       "    }\n",
       "\n",
       "    .dataframe tbody tr th {\n",
       "        vertical-align: top;\n",
       "    }\n",
       "\n",
       "    .dataframe thead th {\n",
       "        text-align: right;\n",
       "    }\n",
       "</style>\n",
       "<table border=\"1\" class=\"dataframe\">\n",
       "  <thead>\n",
       "    <tr style=\"text-align: right;\">\n",
       "      <th></th>\n",
       "      <th>Ec</th>\n",
       "      <th>Zc</th>\n",
       "      <th>Ec1</th>\n",
       "      <th>Ec2</th>\n",
       "      <th>Ec3</th>\n",
       "      <th>Zc1</th>\n",
       "      <th>Zc2</th>\n",
       "    </tr>\n",
       "  </thead>\n",
       "  <tbody>\n",
       "    <tr>\n",
       "      <th>Ec</th>\n",
       "      <td>1.000000</td>\n",
       "      <td>0.818182</td>\n",
       "      <td>0.804598</td>\n",
       "      <td>0.782609</td>\n",
       "      <td>0.911392</td>\n",
       "      <td>0.771084</td>\n",
       "      <td>0.747253</td>\n",
       "    </tr>\n",
       "    <tr>\n",
       "      <th>Zc</th>\n",
       "      <td>0.818182</td>\n",
       "      <td>1.000000</td>\n",
       "      <td>0.783505</td>\n",
       "      <td>0.708861</td>\n",
       "      <td>0.808989</td>\n",
       "      <td>0.838710</td>\n",
       "      <td>0.891089</td>\n",
       "    </tr>\n",
       "    <tr>\n",
       "      <th>Ec1</th>\n",
       "      <td>0.804598</td>\n",
       "      <td>0.783505</td>\n",
       "      <td>1.000000</td>\n",
       "      <td>0.666667</td>\n",
       "      <td>0.750000</td>\n",
       "      <td>0.760870</td>\n",
       "      <td>0.780000</td>\n",
       "    </tr>\n",
       "    <tr>\n",
       "      <th>Ec2</th>\n",
       "      <td>0.782609</td>\n",
       "      <td>0.708861</td>\n",
       "      <td>0.666667</td>\n",
       "      <td>1.000000</td>\n",
       "      <td>0.714286</td>\n",
       "      <td>0.621622</td>\n",
       "      <td>0.658537</td>\n",
       "    </tr>\n",
       "    <tr>\n",
       "      <th>Ec3</th>\n",
       "      <td>0.911392</td>\n",
       "      <td>0.808989</td>\n",
       "      <td>0.750000</td>\n",
       "      <td>0.714286</td>\n",
       "      <td>1.000000</td>\n",
       "      <td>0.738095</td>\n",
       "      <td>0.739130</td>\n",
       "    </tr>\n",
       "  </tbody>\n",
       "</table>\n",
       "</div>"
      ],
      "text/plain": [
       "           Ec        Zc       Ec1       Ec2       Ec3       Zc1       Zc2\n",
       "Ec   1.000000  0.818182  0.804598  0.782609  0.911392  0.771084  0.747253\n",
       "Zc   0.818182  1.000000  0.783505  0.708861  0.808989  0.838710  0.891089\n",
       "Ec1  0.804598  0.783505  1.000000  0.666667  0.750000  0.760870  0.780000\n",
       "Ec2  0.782609  0.708861  0.666667  1.000000  0.714286  0.621622  0.658537\n",
       "Ec3  0.911392  0.808989  0.750000  0.714286  1.000000  0.738095  0.739130"
      ]
     },
     "execution_count": 101,
     "metadata": {},
     "output_type": "execute_result"
    }
   ],
   "source": [
    "#compute Dice\n",
    "dice_df  = cons_df.drop(['ID'],axis=1)\n",
    "dice_store, scales = dice_score(dice_df)\n",
    "# Get results into data frame\n",
    "df_resul= pd.DataFrame(dice_store[:,:,0],columns=dice_df.columns,index=dice_df.columns)\n",
    "df_resul.head()"
   ]
  },
  {
   "cell_type": "code",
   "execution_count": 102,
   "metadata": {},
   "outputs": [
    {
     "data": {
      "text/html": [
       "<div>\n",
       "<style scoped>\n",
       "    .dataframe tbody tr th:only-of-type {\n",
       "        vertical-align: middle;\n",
       "    }\n",
       "\n",
       "    .dataframe tbody tr th {\n",
       "        vertical-align: top;\n",
       "    }\n",
       "\n",
       "    .dataframe thead th {\n",
       "        text-align: right;\n",
       "    }\n",
       "</style>\n",
       "<table border=\"1\" class=\"dataframe\">\n",
       "  <thead>\n",
       "    <tr style=\"text-align: right;\">\n",
       "      <th></th>\n",
       "      <th>a</th>\n",
       "      <th>b</th>\n",
       "      <th>c</th>\n",
       "    </tr>\n",
       "  </thead>\n",
       "  <tbody>\n",
       "    <tr>\n",
       "      <th>1</th>\n",
       "      <td>Ec</td>\n",
       "      <td>Zc</td>\n",
       "      <td>0.818182</td>\n",
       "    </tr>\n",
       "    <tr>\n",
       "      <th>2</th>\n",
       "      <td>Ec</td>\n",
       "      <td>Ec1</td>\n",
       "      <td>0.804598</td>\n",
       "    </tr>\n",
       "    <tr>\n",
       "      <th>3</th>\n",
       "      <td>Ec</td>\n",
       "      <td>Ec2</td>\n",
       "      <td>0.782609</td>\n",
       "    </tr>\n",
       "    <tr>\n",
       "      <th>4</th>\n",
       "      <td>Ec</td>\n",
       "      <td>Ec3</td>\n",
       "      <td>0.911392</td>\n",
       "    </tr>\n",
       "    <tr>\n",
       "      <th>5</th>\n",
       "      <td>Ec</td>\n",
       "      <td>Zc1</td>\n",
       "      <td>0.771084</td>\n",
       "    </tr>\n",
       "  </tbody>\n",
       "</table>\n",
       "</div>"
      ],
      "text/plain": [
       "    a    b         c\n",
       "1  Ec   Zc  0.818182\n",
       "2  Ec  Ec1  0.804598\n",
       "3  Ec  Ec2  0.782609\n",
       "4  Ec  Ec3  0.911392\n",
       "5  Ec  Zc1  0.771084"
      ]
     },
     "execution_count": 102,
     "metadata": {},
     "output_type": "execute_result"
    }
   ],
   "source": [
    "# transform results from matrix like to column like  \n",
    "df1 = df_resul.stack().reset_index()\n",
    "#set column names\n",
    "df1.columns = ['a','b','c']\n",
    "#remove kappa for between the same rater ( kappa of 1)\n",
    "df1 = df1[~(df1.a == df1.b)]\n",
    "df1.head()"
   ]
  },
  {
   "cell_type": "code",
   "execution_count": 104,
   "metadata": {
    "scrolled": true
   },
   "outputs": [
    {
     "data": {
      "image/png": "[encoded data removed]",
      "text/plain": [
       "<Figure size 172.8x144 with 1 Axes>"
      ]
     },
     "metadata": {},
     "output_type": "display_data"
    }
   ],
   "source": [
    "f, axes = plt.subplots(figsize = (2.4,2))\n",
    "sns.set(style=\"white\")\n",
    "sns.axes_style(\"white\")\n",
    "sns.set(font_scale=0.6)\n",
    "sns.boxplot(x='a', y='c', color=\"green\", data=df1,palette=\"Pastel1\")\n",
    "sns.stripplot(x='a', y='c', data=df1, color=\"red\", jitter=0.1, size=2.5)\n",
    "axes.set_xticklabels(df1.a.unique(),rotation=0,fontsize=7)\n",
    "axes.set_ylim([0.2,0.95])\n",
    "plt.title(\"Dice Distribution OK\", loc=\"left\")\n",
    "plt.savefig('../reports/figures/Results/Consensus/expert_distrib_OK.svg')"
   ]
  },
  {
   "cell_type": "markdown",
   "metadata": {},
   "source": [
    "### Box plot of OK Dice between expert and zooniverse consensus"
   ]
  },
  {
   "cell_type": "code",
   "execution_count": 105,
   "metadata": {},
   "outputs": [
    {
     "data": {
      "text/html": [
       "<div>\n",
       "<style scoped>\n",
       "    .dataframe tbody tr th:only-of-type {\n",
       "        vertical-align: middle;\n",
       "    }\n",
       "\n",
       "    .dataframe tbody tr th {\n",
       "        vertical-align: top;\n",
       "    }\n",
       "\n",
       "    .dataframe thead th {\n",
       "        text-align: right;\n",
       "    }\n",
       "</style>\n",
       "<table border=\"1\" class=\"dataframe\">\n",
       "  <thead>\n",
       "    <tr style=\"text-align: right;\">\n",
       "      <th></th>\n",
       "      <th>Ec</th>\n",
       "      <th>Zc</th>\n",
       "      <th>Ec1</th>\n",
       "      <th>Ec2</th>\n",
       "      <th>Ec3</th>\n",
       "      <th>Zc1</th>\n",
       "      <th>Zc2</th>\n",
       "    </tr>\n",
       "  </thead>\n",
       "  <tbody>\n",
       "    <tr>\n",
       "      <th>Ec</th>\n",
       "      <td>1.000000</td>\n",
       "      <td>0.818182</td>\n",
       "      <td>0.804598</td>\n",
       "      <td>0.782609</td>\n",
       "      <td>0.911392</td>\n",
       "      <td>0.771084</td>\n",
       "      <td>0.747253</td>\n",
       "    </tr>\n",
       "    <tr>\n",
       "      <th>Zc</th>\n",
       "      <td>0.818182</td>\n",
       "      <td>1.000000</td>\n",
       "      <td>0.783505</td>\n",
       "      <td>0.708861</td>\n",
       "      <td>0.808989</td>\n",
       "      <td>0.838710</td>\n",
       "      <td>0.891089</td>\n",
       "    </tr>\n",
       "    <tr>\n",
       "      <th>Ec1</th>\n",
       "      <td>0.804598</td>\n",
       "      <td>0.783505</td>\n",
       "      <td>1.000000</td>\n",
       "      <td>0.666667</td>\n",
       "      <td>0.750000</td>\n",
       "      <td>0.760870</td>\n",
       "      <td>0.780000</td>\n",
       "    </tr>\n",
       "    <tr>\n",
       "      <th>Ec2</th>\n",
       "      <td>0.782609</td>\n",
       "      <td>0.708861</td>\n",
       "      <td>0.666667</td>\n",
       "      <td>1.000000</td>\n",
       "      <td>0.714286</td>\n",
       "      <td>0.621622</td>\n",
       "      <td>0.658537</td>\n",
       "    </tr>\n",
       "    <tr>\n",
       "      <th>Ec3</th>\n",
       "      <td>0.911392</td>\n",
       "      <td>0.808989</td>\n",
       "      <td>0.750000</td>\n",
       "      <td>0.714286</td>\n",
       "      <td>1.000000</td>\n",
       "      <td>0.738095</td>\n",
       "      <td>0.739130</td>\n",
       "    </tr>\n",
       "  </tbody>\n",
       "</table>\n",
       "</div>"
      ],
      "text/plain": [
       "           Ec        Zc       Ec1       Ec2       Ec3       Zc1       Zc2\n",
       "Ec   1.000000  0.818182  0.804598  0.782609  0.911392  0.771084  0.747253\n",
       "Zc   0.818182  1.000000  0.783505  0.708861  0.808989  0.838710  0.891089\n",
       "Ec1  0.804598  0.783505  1.000000  0.666667  0.750000  0.760870  0.780000\n",
       "Ec2  0.782609  0.708861  0.666667  1.000000  0.714286  0.621622  0.658537\n",
       "Ec3  0.911392  0.808989  0.750000  0.714286  1.000000  0.738095  0.739130"
      ]
     },
     "execution_count": 105,
     "metadata": {},
     "output_type": "execute_result"
    }
   ],
   "source": [
    "# Get Dice\n",
    "dice_df  = cons_df.drop(['ID'],axis=1)\n",
    "dice_store, scales = dice_score(dice_df)\n",
    "# transform results from matrix like to column like  \n",
    "df= pd.DataFrame(dice_store[:,:,0],columns=dice_df.columns,index=dice_df.columns)\n",
    "df.head()"
   ]
  },
  {
   "cell_type": "code",
   "execution_count": 106,
   "metadata": {
    "scrolled": false
   },
   "outputs": [
    {
     "name": "stderr",
     "output_type": "stream",
     "text": [
      "/mnt/home_sq/yassinebha/.virtualenvs/zooniverse_qc/lib/python3.5/site-packages/ipykernel_launcher.py:10: UserWarning: Boolean Series key will be reindexed to match DataFrame index.\n",
      "  # Remove the CWD from sys.path while we load stuff.\n"
     ]
    },
    {
     "data": {
      "text/html": [
       "<div>\n",
       "<style scoped>\n",
       "    .dataframe tbody tr th:only-of-type {\n",
       "        vertical-align: middle;\n",
       "    }\n",
       "\n",
       "    .dataframe tbody tr th {\n",
       "        vertical-align: top;\n",
       "    }\n",
       "\n",
       "    .dataframe thead th {\n",
       "        text-align: right;\n",
       "    }\n",
       "</style>\n",
       "<table border=\"1\" class=\"dataframe\">\n",
       "  <thead>\n",
       "    <tr style=\"text-align: right;\">\n",
       "      <th></th>\n",
       "      <th>a</th>\n",
       "      <th>b</th>\n",
       "      <th>c</th>\n",
       "    </tr>\n",
       "  </thead>\n",
       "  <tbody>\n",
       "    <tr>\n",
       "      <th>14</th>\n",
       "      <td>Ec1</td>\n",
       "      <td>Ec</td>\n",
       "      <td>0.804598</td>\n",
       "    </tr>\n",
       "    <tr>\n",
       "      <th>15</th>\n",
       "      <td>Ec1</td>\n",
       "      <td>Zc</td>\n",
       "      <td>0.783505</td>\n",
       "    </tr>\n",
       "    <tr>\n",
       "      <th>21</th>\n",
       "      <td>Ec2</td>\n",
       "      <td>Ec</td>\n",
       "      <td>0.782609</td>\n",
       "    </tr>\n",
       "    <tr>\n",
       "      <th>22</th>\n",
       "      <td>Ec2</td>\n",
       "      <td>Zc</td>\n",
       "      <td>0.708861</td>\n",
       "    </tr>\n",
       "    <tr>\n",
       "      <th>28</th>\n",
       "      <td>Ec3</td>\n",
       "      <td>Ec</td>\n",
       "      <td>0.911392</td>\n",
       "    </tr>\n",
       "    <tr>\n",
       "      <th>29</th>\n",
       "      <td>Ec3</td>\n",
       "      <td>Zc</td>\n",
       "      <td>0.808989</td>\n",
       "    </tr>\n",
       "    <tr>\n",
       "      <th>35</th>\n",
       "      <td>Zc1</td>\n",
       "      <td>Ec</td>\n",
       "      <td>0.771084</td>\n",
       "    </tr>\n",
       "    <tr>\n",
       "      <th>36</th>\n",
       "      <td>Zc1</td>\n",
       "      <td>Zc</td>\n",
       "      <td>0.838710</td>\n",
       "    </tr>\n",
       "    <tr>\n",
       "      <th>42</th>\n",
       "      <td>Zc2</td>\n",
       "      <td>Ec</td>\n",
       "      <td>0.747253</td>\n",
       "    </tr>\n",
       "    <tr>\n",
       "      <th>43</th>\n",
       "      <td>Zc2</td>\n",
       "      <td>Zc</td>\n",
       "      <td>0.891089</td>\n",
       "    </tr>\n",
       "  </tbody>\n",
       "</table>\n",
       "</div>"
      ],
      "text/plain": [
       "      a   b         c\n",
       "14  Ec1  Ec  0.804598\n",
       "15  Ec1  Zc  0.783505\n",
       "21  Ec2  Ec  0.782609\n",
       "22  Ec2  Zc  0.708861\n",
       "28  Ec3  Ec  0.911392\n",
       "29  Ec3  Zc  0.808989\n",
       "35  Zc1  Ec  0.771084\n",
       "36  Zc1  Zc  0.838710\n",
       "42  Zc2  Ec  0.747253\n",
       "43  Zc2  Zc  0.891089"
      ]
     },
     "execution_count": 106,
     "metadata": {},
     "output_type": "execute_result"
    }
   ],
   "source": [
    "# transform results from matrix like to column like  \n",
    "df1 = df.stack().reset_index()\n",
    "#set column names\n",
    "df1.columns = ['a','b','c']\n",
    "# slect only Zcon and Econ \n",
    "df2 = df1[((df1.b == 'Zc') | (df1.b == 'Ec'))]\n",
    "# remove kaa between the same rater\n",
    "df3 = df2[~(df2.a == df2.b)]\n",
    "# remove econ vs zcon kappa\n",
    "df4 = df3[~((df1.a == 'Zc') | (df1.a == 'Ec'))]\n",
    "df4"
   ]
  },
  {
   "cell_type": "code",
   "execution_count": 107,
   "metadata": {
    "scrolled": false
   },
   "outputs": [
    {
     "data": {
      "image/png": "[encoded data removed]",
      "text/plain": [
       "<Figure size 174.24x39.6 with 1 Axes>"
      ]
     },
     "metadata": {},
     "output_type": "display_data"
    }
   ],
   "source": [
    "# box plot of zcon econ\n",
    "f, axes = plt.subplots(figsize = (2.42,0.55))\n",
    "sns.set(style=\"white\")\n",
    "sns.axes_style(\"white\")\n",
    "sns.set(font_scale=0.6)\n",
    "sns.boxplot(x='c', y='b', color=\"green\", data=df4, palette=\"Pastel1\",ax=axes)\n",
    "sns.stripplot(x='c', y='b', data=df4, color=\"red\", jitter=0.1, size=2.5,ax=axes)\n",
    "axes.set_xlim([0.35,1])\n",
    "plt.title(\"Dice OK\", loc=\"left\")\n",
    "plt.savefig('../reports/figures/Results/Consensus/expcon_vs_zooncon_OK_distrib.svg')"
   ]
  },
  {
   "cell_type": "markdown",
   "metadata": {},
   "source": [
    "### Dice coef Zcon Econ OK"
   ]
  },
  {
   "cell_type": "code",
   "execution_count": 108,
   "metadata": {},
   "outputs": [
    {
     "data": {
      "text/html": [
       "<div>\n",
       "<style scoped>\n",
       "    .dataframe tbody tr th:only-of-type {\n",
       "        vertical-align: middle;\n",
       "    }\n",
       "\n",
       "    .dataframe tbody tr th {\n",
       "        vertical-align: top;\n",
       "    }\n",
       "\n",
       "    .dataframe thead th {\n",
       "        text-align: right;\n",
       "    }\n",
       "</style>\n",
       "<table border=\"1\" class=\"dataframe\">\n",
       "  <thead>\n",
       "    <tr style=\"text-align: right;\">\n",
       "      <th></th>\n",
       "      <th>Ec1</th>\n",
       "      <th>Ec2</th>\n",
       "      <th>Ec3</th>\n",
       "      <th>Zc1</th>\n",
       "      <th>Zc2</th>\n",
       "    </tr>\n",
       "  </thead>\n",
       "  <tbody>\n",
       "    <tr>\n",
       "      <th>Ec</th>\n",
       "      <td>0.804598</td>\n",
       "      <td>0.782609</td>\n",
       "      <td>0.911392</td>\n",
       "      <td>0.771084</td>\n",
       "      <td>0.747253</td>\n",
       "    </tr>\n",
       "    <tr>\n",
       "      <th>Zc</th>\n",
       "      <td>0.783505</td>\n",
       "      <td>0.708861</td>\n",
       "      <td>0.808989</td>\n",
       "      <td>0.838710</td>\n",
       "      <td>0.891089</td>\n",
       "    </tr>\n",
       "  </tbody>\n",
       "</table>\n",
       "</div>"
      ],
      "text/plain": [
       "         Ec1       Ec2       Ec3       Zc1       Zc2\n",
       "Ec  0.804598  0.782609  0.911392  0.771084  0.747253\n",
       "Zc  0.783505  0.708861  0.808989  0.838710  0.891089"
      ]
     },
     "execution_count": 108,
     "metadata": {},
     "output_type": "execute_result"
    }
   ],
   "source": [
    "# Pivot table\n",
    "df5=df4.pivot_table(values=['c'], index=['a'],columns=['b'])\n",
    "# flaten headers and rotate it \n",
    "df5.columns = df5.columns.levels[1].get_values()\n",
    "df5.index.name = None\n",
    "df5=df5.T\n",
    "#df5 = df5[['Surc','Jpau','Cmak','Edup','Abad','Atam','Jche','Pfer', 'Czwe']]\n",
    "df5"
   ]
  },
  {
   "cell_type": "code",
   "execution_count": 109,
   "metadata": {
    "scrolled": true
   },
   "outputs": [
    {
     "data": {
      "image/png": "[encoded data removed]",
      "text/plain": [
       "<Figure size 216x39.6 with 2 Axes>"
      ]
     },
     "metadata": {},
     "output_type": "display_data"
    }
   ],
   "source": [
    "# Plot Dice matrix for concensus exert and  zooniverse\n",
    "\n",
    "# Set up the matplotlib figure\n",
    "f, axes = plt.subplots(figsize = (3,0.55))\n",
    "f.subplots_adjust(hspace= .8)\n",
    "sns.set(font_scale=0.6)\n",
    "f.suptitle('Inter-consensus Dice Coefficent for OK ratings',x=0.49,y=1.5, fontsize=8, fontweight='bold')\n",
    "# Draw kappa heat map\n",
    "sns.set(font_scale=0.6)\n",
    "sns.heatmap(df5,vmin=0.1,vmax=0.8,cmap=\"YlGnBu_r\",\n",
    "            square=True,\n",
    "            annot=True,annot_kws={\"size\": 6},\n",
    "            linewidths=.5, \n",
    "            cbar_kws={\"shrink\": .9,\"label\": \"Dice Coef\"}, \n",
    "            ax=axes)\n",
    "sns.set(style=\"white\")\n",
    "sns.axes_style(\"white\")\n",
    "\n",
    "#axes.set_yticks([x+0.5 for x in range(len(dice_df.columns))])\n",
    "axes.set_yticklabels(df5.index,rotation=0,fontsize=7)\n",
    "axes.set_xticklabels(df5.columns,rotation=0,fontsize=7)\n",
    "\n",
    "# Caption\n",
    "txt = '''\n",
    "Fig1: Dice matrix for consensus expert raters vs Zooniverse raters''';\n",
    "f.text(0.1,-1,txt,fontsize=8);\n",
    "plt.title(\"Dice OK\", loc=\"left\",fontsize=7)\n",
    "# Save figure\n",
    "f.savefig('../reports/figures/Results/Consensus/Full-Launch-consensus-experts-Vs-Zooniv_OK.svg')"
   ]
  },
  {
   "cell_type": "code",
   "execution_count": 110,
   "metadata": {},
   "outputs": [
    {
     "name": "stderr",
     "output_type": "stream",
     "text": [
      "/mnt/home_sq/yassinebha/.virtualenvs/zooniverse_qc/lib/python3.5/site-packages/scipy/stats/stats.py:1706: FutureWarning: Using a non-tuple sequence for multidimensional indexing is deprecated; use `arr[tuple(seq)]` instead of `arr[seq]`. In the future this will be interpreted as an array index, `arr[np.array(seq)]`, which will result either in an error or a different result.\n",
      "  return np.add.reduce(sorted[indexer] * weights, axis=axis) / sumval\n",
      "/mnt/home_sq/yassinebha/.virtualenvs/zooniverse_qc/lib/python3.5/site-packages/seaborn/axisgrid.py:1847: UserWarning: JointGrid annotation is deprecated and will be removed in a future release.\n",
      "  warnings.warn(UserWarning(msg))\n"
     ]
    },
    {
     "data": {
      "image/png": "[encoded data removed]",
      "text/plain": [
       "<Figure size 180x180 with 3 Axes>"
      ]
     },
     "metadata": {},
     "output_type": "display_data"
    }
   ],
   "source": [
    "import scipy.stats as stats\n",
    "sns.set(color_codes=True)\n",
    "sns.set(font_scale=0.6)\n",
    "joint = sns.jointplot(x='Ec', y='Zc',data= df5.T,\n",
    "              kind=\"reg\",xlim=[0.35,1], ylim=[0.35,1])\n",
    "joint.annotate(stats.pearsonr,)\n",
    "\n",
    "joint.fig.set_figwidth(2.5)\n",
    "joint.fig.set_figheight(2.5)\n",
    "plt.savefig('../reports/figures/Results/Consensus/expert_vs_zooniv_consensus_ok.svg')"
   ]
  },
  {
   "cell_type": "markdown",
   "metadata": {},
   "source": [
    "## Dice for Maybe category"
   ]
  },
  {
   "cell_type": "code",
   "execution_count": 111,
   "metadata": {},
   "outputs": [],
   "source": [
    "# Get Kappa score out of all different combination of ratings\n",
    "dice_df  = cons_df.drop(['ID'],axis=1)\n",
    "dice_store, scales = dice_score(dice_df)"
   ]
  },
  {
   "cell_type": "code",
   "execution_count": 113,
   "metadata": {
    "scrolled": true
   },
   "outputs": [
    {
     "data": {
      "image/png": "[encoded data removed]",
      "text/plain": [
       "<Figure size 216x216 with 2 Axes>"
      ]
     },
     "metadata": {},
     "output_type": "display_data"
    }
   ],
   "source": [
    "# Plot kappa matrix for expert only\n",
    "dice_out = pd.DataFrame(dice_store[:,:,1], \n",
    "                         index=dice_df.columns.get_values(),\n",
    "                         columns=dice_df.columns.get_values())\n",
    "\n",
    "\n",
    "# Set up the matplotlib figure\n",
    "f, axes = plt.subplots(figsize = (3,3))\n",
    "f.subplots_adjust(hspace= .8)\n",
    "sns.set(font_scale=0.6)\n",
    "f.suptitle('Inter-Experts Dice Coefficent for Maybe ratings',x=0.49,y=1.05, fontsize=10, fontweight='bold')\n",
    "# Draw kappa heat map\n",
    "mask = np.zeros_like(dice_out)\n",
    "mask[np.triu_indices_from(mask)] = True\n",
    "sns.heatmap(dice_out,vmin=0.1,vmax=0.8,cmap=\"YlGnBu_r\",\n",
    "            square=True,\n",
    "            annot=True,annot_kws={\"size\": 6},\n",
    "            mask = mask,\n",
    "            linewidths=.5, \n",
    "            cbar_kws={\"shrink\": .3,\"label\": \"Dice Coeff Maybe\"}, \n",
    "            ax=axes)\n",
    "sns.set(style=\"white\")\n",
    "sns.axes_style(\"white\")\n",
    "\n",
    "axes.set_yticks([x+0.5 for x in range(len(dice_df.columns))])\n",
    "axes.set_yticklabels(dice_df.columns,rotation=0,fontsize=7)\n",
    "axes.set_xticklabels(dice_df.columns,rotation=0,fontsize=7)\n",
    "\n",
    "# Caption\n",
    "txt = '''\n",
    "Fig1: Dice matrix for {} images from {} QC expert raters'''.format(len(dice_df),len(dice_df.columns));\n",
    "f.text(0.1,-0.1,txt,fontsize=8);\n",
    "#f.text(0.11,0.88,'High',fontsize=12)\n",
    "#f.text(0.10,0.62,'Level of QC expertise',fontsize=12,rotation=90)\n",
    "# Save figure\n",
    "f.savefig('../reports/figures/Results/Consensus/Full-Launch-experts_Maybe.svg')"
   ]
  },
  {
   "cell_type": "markdown",
   "metadata": {},
   "source": [
    "### Boxplot of Maybe Dice distribution between raters"
   ]
  },
  {
   "cell_type": "code",
   "execution_count": 114,
   "metadata": {},
   "outputs": [
    {
     "data": {
      "text/html": [
       "<div>\n",
       "<style scoped>\n",
       "    .dataframe tbody tr th:only-of-type {\n",
       "        vertical-align: middle;\n",
       "    }\n",
       "\n",
       "    .dataframe tbody tr th {\n",
       "        vertical-align: top;\n",
       "    }\n",
       "\n",
       "    .dataframe thead th {\n",
       "        text-align: right;\n",
       "    }\n",
       "</style>\n",
       "<table border=\"1\" class=\"dataframe\">\n",
       "  <thead>\n",
       "    <tr style=\"text-align: right;\">\n",
       "      <th></th>\n",
       "      <th>Ec</th>\n",
       "      <th>Zc</th>\n",
       "      <th>Ec1</th>\n",
       "      <th>Ec2</th>\n",
       "      <th>Ec3</th>\n",
       "      <th>Zc1</th>\n",
       "      <th>Zc2</th>\n",
       "    </tr>\n",
       "  </thead>\n",
       "  <tbody>\n",
       "    <tr>\n",
       "      <th>Ec</th>\n",
       "      <td>1.000000</td>\n",
       "      <td>0.771429</td>\n",
       "      <td>0.666667</td>\n",
       "      <td>0.819277</td>\n",
       "      <td>0.880000</td>\n",
       "      <td>0.712329</td>\n",
       "      <td>0.575758</td>\n",
       "    </tr>\n",
       "    <tr>\n",
       "      <th>Zc</th>\n",
       "      <td>0.771429</td>\n",
       "      <td>1.000000</td>\n",
       "      <td>0.581818</td>\n",
       "      <td>0.666667</td>\n",
       "      <td>0.776119</td>\n",
       "      <td>0.769231</td>\n",
       "      <td>0.758621</td>\n",
       "    </tr>\n",
       "    <tr>\n",
       "      <th>Ec1</th>\n",
       "      <td>0.666667</td>\n",
       "      <td>0.581818</td>\n",
       "      <td>1.000000</td>\n",
       "      <td>0.558824</td>\n",
       "      <td>0.533333</td>\n",
       "      <td>0.586207</td>\n",
       "      <td>0.470588</td>\n",
       "    </tr>\n",
       "    <tr>\n",
       "      <th>Ec2</th>\n",
       "      <td>0.819277</td>\n",
       "      <td>0.666667</td>\n",
       "      <td>0.558824</td>\n",
       "      <td>1.000000</td>\n",
       "      <td>0.700000</td>\n",
       "      <td>0.615385</td>\n",
       "      <td>0.535211</td>\n",
       "    </tr>\n",
       "    <tr>\n",
       "      <th>Ec3</th>\n",
       "      <td>0.880000</td>\n",
       "      <td>0.776119</td>\n",
       "      <td>0.533333</td>\n",
       "      <td>0.700000</td>\n",
       "      <td>1.000000</td>\n",
       "      <td>0.685714</td>\n",
       "      <td>0.603175</td>\n",
       "    </tr>\n",
       "  </tbody>\n",
       "</table>\n",
       "</div>"
      ],
      "text/plain": [
       "           Ec        Zc       Ec1       Ec2       Ec3       Zc1       Zc2\n",
       "Ec   1.000000  0.771429  0.666667  0.819277  0.880000  0.712329  0.575758\n",
       "Zc   0.771429  1.000000  0.581818  0.666667  0.776119  0.769231  0.758621\n",
       "Ec1  0.666667  0.581818  1.000000  0.558824  0.533333  0.586207  0.470588\n",
       "Ec2  0.819277  0.666667  0.558824  1.000000  0.700000  0.615385  0.535211\n",
       "Ec3  0.880000  0.776119  0.533333  0.700000  1.000000  0.685714  0.603175"
      ]
     },
     "execution_count": 114,
     "metadata": {},
     "output_type": "execute_result"
    }
   ],
   "source": [
    "#compute Dice\n",
    "dice_df  = cons_df.drop(['ID'],axis=1)\n",
    "dice_store, scales = dice_score(dice_df)\n",
    "# Get results into data frame\n",
    "df_resul= pd.DataFrame(dice_store[:,:,1],columns=dice_df.columns,index=dice_df.columns)\n",
    "df_resul.head()"
   ]
  },
  {
   "cell_type": "code",
   "execution_count": 115,
   "metadata": {},
   "outputs": [
    {
     "data": {
      "text/html": [
       "<div>\n",
       "<style scoped>\n",
       "    .dataframe tbody tr th:only-of-type {\n",
       "        vertical-align: middle;\n",
       "    }\n",
       "\n",
       "    .dataframe tbody tr th {\n",
       "        vertical-align: top;\n",
       "    }\n",
       "\n",
       "    .dataframe thead th {\n",
       "        text-align: right;\n",
       "    }\n",
       "</style>\n",
       "<table border=\"1\" class=\"dataframe\">\n",
       "  <thead>\n",
       "    <tr style=\"text-align: right;\">\n",
       "      <th></th>\n",
       "      <th>a</th>\n",
       "      <th>b</th>\n",
       "      <th>c</th>\n",
       "    </tr>\n",
       "  </thead>\n",
       "  <tbody>\n",
       "    <tr>\n",
       "      <th>1</th>\n",
       "      <td>Ec</td>\n",
       "      <td>Zc</td>\n",
       "      <td>0.771429</td>\n",
       "    </tr>\n",
       "    <tr>\n",
       "      <th>2</th>\n",
       "      <td>Ec</td>\n",
       "      <td>Ec1</td>\n",
       "      <td>0.666667</td>\n",
       "    </tr>\n",
       "    <tr>\n",
       "      <th>3</th>\n",
       "      <td>Ec</td>\n",
       "      <td>Ec2</td>\n",
       "      <td>0.819277</td>\n",
       "    </tr>\n",
       "    <tr>\n",
       "      <th>4</th>\n",
       "      <td>Ec</td>\n",
       "      <td>Ec3</td>\n",
       "      <td>0.880000</td>\n",
       "    </tr>\n",
       "    <tr>\n",
       "      <th>5</th>\n",
       "      <td>Ec</td>\n",
       "      <td>Zc1</td>\n",
       "      <td>0.712329</td>\n",
       "    </tr>\n",
       "  </tbody>\n",
       "</table>\n",
       "</div>"
      ],
      "text/plain": [
       "    a    b         c\n",
       "1  Ec   Zc  0.771429\n",
       "2  Ec  Ec1  0.666667\n",
       "3  Ec  Ec2  0.819277\n",
       "4  Ec  Ec3  0.880000\n",
       "5  Ec  Zc1  0.712329"
      ]
     },
     "execution_count": 115,
     "metadata": {},
     "output_type": "execute_result"
    }
   ],
   "source": [
    "# transform results from matrix like to column like  \n",
    "df1 = df_resul.stack().reset_index()\n",
    "#set column names\n",
    "df1.columns = ['a','b','c']\n",
    "#remove kappa for between the same rater ( kappa of 1)\n",
    "df1 = df1[~(df1.a == df1.b)]\n",
    "df1.head()"
   ]
  },
  {
   "cell_type": "code",
   "execution_count": 117,
   "metadata": {},
   "outputs": [
    {
     "data": {
      "image/png": "[encoded data removed]",
      "text/plain": [
       "<Figure size 172.8x144 with 1 Axes>"
      ]
     },
     "metadata": {},
     "output_type": "display_data"
    }
   ],
   "source": [
    "f, axes = plt.subplots(figsize = (2.4,2))\n",
    "sns.set(style=\"white\")\n",
    "sns.axes_style(\"white\")\n",
    "sns.set(font_scale=0.6)\n",
    "sns.boxplot(x='a', y='c', color=\"green\", data=df1,palette=\"Pastel1\")\n",
    "sns.stripplot(x='a', y='c', data=df1, color=\"red\", jitter=0.1, size=2.5)\n",
    "axes.set_xticklabels(df1.a.unique(),rotation=0,fontsize=7)\n",
    "axes.set_ylim([0.2,0.95])\n",
    "plt.title(\"Dice Distribution Maybe\", loc=\"left\")\n",
    "plt.savefig('../reports/figures/Results/Consensus/expert_distrib_Maybe.svg')"
   ]
  },
  {
   "cell_type": "markdown",
   "metadata": {},
   "source": [
    "### Box plot of Maybe Dice between expert and zooniverse consensus"
   ]
  },
  {
   "cell_type": "code",
   "execution_count": 118,
   "metadata": {},
   "outputs": [
    {
     "data": {
      "text/html": [
       "<div>\n",
       "<style scoped>\n",
       "    .dataframe tbody tr th:only-of-type {\n",
       "        vertical-align: middle;\n",
       "    }\n",
       "\n",
       "    .dataframe tbody tr th {\n",
       "        vertical-align: top;\n",
       "    }\n",
       "\n",
       "    .dataframe thead th {\n",
       "        text-align: right;\n",
       "    }\n",
       "</style>\n",
       "<table border=\"1\" class=\"dataframe\">\n",
       "  <thead>\n",
       "    <tr style=\"text-align: right;\">\n",
       "      <th></th>\n",
       "      <th>Ec</th>\n",
       "      <th>Zc</th>\n",
       "      <th>Ec1</th>\n",
       "      <th>Ec2</th>\n",
       "      <th>Ec3</th>\n",
       "      <th>Zc1</th>\n",
       "      <th>Zc2</th>\n",
       "    </tr>\n",
       "  </thead>\n",
       "  <tbody>\n",
       "    <tr>\n",
       "      <th>Ec</th>\n",
       "      <td>1.000000</td>\n",
       "      <td>0.771429</td>\n",
       "      <td>0.666667</td>\n",
       "      <td>0.819277</td>\n",
       "      <td>0.880000</td>\n",
       "      <td>0.712329</td>\n",
       "      <td>0.575758</td>\n",
       "    </tr>\n",
       "    <tr>\n",
       "      <th>Zc</th>\n",
       "      <td>0.771429</td>\n",
       "      <td>1.000000</td>\n",
       "      <td>0.581818</td>\n",
       "      <td>0.666667</td>\n",
       "      <td>0.776119</td>\n",
       "      <td>0.769231</td>\n",
       "      <td>0.758621</td>\n",
       "    </tr>\n",
       "    <tr>\n",
       "      <th>Ec1</th>\n",
       "      <td>0.666667</td>\n",
       "      <td>0.581818</td>\n",
       "      <td>1.000000</td>\n",
       "      <td>0.558824</td>\n",
       "      <td>0.533333</td>\n",
       "      <td>0.586207</td>\n",
       "      <td>0.470588</td>\n",
       "    </tr>\n",
       "    <tr>\n",
       "      <th>Ec2</th>\n",
       "      <td>0.819277</td>\n",
       "      <td>0.666667</td>\n",
       "      <td>0.558824</td>\n",
       "      <td>1.000000</td>\n",
       "      <td>0.700000</td>\n",
       "      <td>0.615385</td>\n",
       "      <td>0.535211</td>\n",
       "    </tr>\n",
       "    <tr>\n",
       "      <th>Ec3</th>\n",
       "      <td>0.880000</td>\n",
       "      <td>0.776119</td>\n",
       "      <td>0.533333</td>\n",
       "      <td>0.700000</td>\n",
       "      <td>1.000000</td>\n",
       "      <td>0.685714</td>\n",
       "      <td>0.603175</td>\n",
       "    </tr>\n",
       "  </tbody>\n",
       "</table>\n",
       "</div>"
      ],
      "text/plain": [
       "           Ec        Zc       Ec1       Ec2       Ec3       Zc1       Zc2\n",
       "Ec   1.000000  0.771429  0.666667  0.819277  0.880000  0.712329  0.575758\n",
       "Zc   0.771429  1.000000  0.581818  0.666667  0.776119  0.769231  0.758621\n",
       "Ec1  0.666667  0.581818  1.000000  0.558824  0.533333  0.586207  0.470588\n",
       "Ec2  0.819277  0.666667  0.558824  1.000000  0.700000  0.615385  0.535211\n",
       "Ec3  0.880000  0.776119  0.533333  0.700000  1.000000  0.685714  0.603175"
      ]
     },
     "execution_count": 118,
     "metadata": {},
     "output_type": "execute_result"
    }
   ],
   "source": [
    "# Get Dice\n",
    "dice_df  = cons_df.drop(['ID'],axis=1)\n",
    "dice_store, scales = dice_score(dice_df)\n",
    "# transform results from matrix like to column like  \n",
    "df= pd.DataFrame(dice_store[:,:,1],columns=dice_df.columns,index=dice_df.columns)\n",
    "df.head()"
   ]
  },
  {
   "cell_type": "code",
   "execution_count": 119,
   "metadata": {
    "scrolled": false
   },
   "outputs": [
    {
     "name": "stderr",
     "output_type": "stream",
     "text": [
      "/mnt/home_sq/yassinebha/.virtualenvs/zooniverse_qc/lib/python3.5/site-packages/ipykernel_launcher.py:10: UserWarning: Boolean Series key will be reindexed to match DataFrame index.\n",
      "  # Remove the CWD from sys.path while we load stuff.\n"
     ]
    },
    {
     "data": {
      "text/html": [
       "<div>\n",
       "<style scoped>\n",
       "    .dataframe tbody tr th:only-of-type {\n",
       "        vertical-align: middle;\n",
       "    }\n",
       "\n",
       "    .dataframe tbody tr th {\n",
       "        vertical-align: top;\n",
       "    }\n",
       "\n",
       "    .dataframe thead th {\n",
       "        text-align: right;\n",
       "    }\n",
       "</style>\n",
       "<table border=\"1\" class=\"dataframe\">\n",
       "  <thead>\n",
       "    <tr style=\"text-align: right;\">\n",
       "      <th></th>\n",
       "      <th>a</th>\n",
       "      <th>b</th>\n",
       "      <th>c</th>\n",
       "    </tr>\n",
       "  </thead>\n",
       "  <tbody>\n",
       "    <tr>\n",
       "      <th>14</th>\n",
       "      <td>Ec1</td>\n",
       "      <td>Ec</td>\n",
       "      <td>0.666667</td>\n",
       "    </tr>\n",
       "    <tr>\n",
       "      <th>15</th>\n",
       "      <td>Ec1</td>\n",
       "      <td>Zc</td>\n",
       "      <td>0.581818</td>\n",
       "    </tr>\n",
       "    <tr>\n",
       "      <th>21</th>\n",
       "      <td>Ec2</td>\n",
       "      <td>Ec</td>\n",
       "      <td>0.819277</td>\n",
       "    </tr>\n",
       "    <tr>\n",
       "      <th>22</th>\n",
       "      <td>Ec2</td>\n",
       "      <td>Zc</td>\n",
       "      <td>0.666667</td>\n",
       "    </tr>\n",
       "    <tr>\n",
       "      <th>28</th>\n",
       "      <td>Ec3</td>\n",
       "      <td>Ec</td>\n",
       "      <td>0.880000</td>\n",
       "    </tr>\n",
       "    <tr>\n",
       "      <th>29</th>\n",
       "      <td>Ec3</td>\n",
       "      <td>Zc</td>\n",
       "      <td>0.776119</td>\n",
       "    </tr>\n",
       "    <tr>\n",
       "      <th>35</th>\n",
       "      <td>Zc1</td>\n",
       "      <td>Ec</td>\n",
       "      <td>0.712329</td>\n",
       "    </tr>\n",
       "    <tr>\n",
       "      <th>36</th>\n",
       "      <td>Zc1</td>\n",
       "      <td>Zc</td>\n",
       "      <td>0.769231</td>\n",
       "    </tr>\n",
       "    <tr>\n",
       "      <th>42</th>\n",
       "      <td>Zc2</td>\n",
       "      <td>Ec</td>\n",
       "      <td>0.575758</td>\n",
       "    </tr>\n",
       "    <tr>\n",
       "      <th>43</th>\n",
       "      <td>Zc2</td>\n",
       "      <td>Zc</td>\n",
       "      <td>0.758621</td>\n",
       "    </tr>\n",
       "  </tbody>\n",
       "</table>\n",
       "</div>"
      ],
      "text/plain": [
       "      a   b         c\n",
       "14  Ec1  Ec  0.666667\n",
       "15  Ec1  Zc  0.581818\n",
       "21  Ec2  Ec  0.819277\n",
       "22  Ec2  Zc  0.666667\n",
       "28  Ec3  Ec  0.880000\n",
       "29  Ec3  Zc  0.776119\n",
       "35  Zc1  Ec  0.712329\n",
       "36  Zc1  Zc  0.769231\n",
       "42  Zc2  Ec  0.575758\n",
       "43  Zc2  Zc  0.758621"
      ]
     },
     "execution_count": 119,
     "metadata": {},
     "output_type": "execute_result"
    }
   ],
   "source": [
    "# transform results from matrix like to column like  \n",
    "df1 = df.stack().reset_index()\n",
    "#set column names\n",
    "df1.columns = ['a','b','c']\n",
    "# slect only Zcon and Econ \n",
    "df2 = df1[((df1.b == 'Zc') | (df1.b == 'Ec'))]\n",
    "# remove kaa between the same rater\n",
    "df3 = df2[~(df2.a == df2.b)]\n",
    "# remove econ vs zcon kappa\n",
    "df4 = df3[~((df1.a == 'Zc') | (df1.a == 'Ec'))]\n",
    "df4"
   ]
  },
  {
   "cell_type": "code",
   "execution_count": 120,
   "metadata": {
    "scrolled": false
   },
   "outputs": [
    {
     "data": {
      "image/png": "[encoded data removed]",
      "text/plain": [
       "<Figure size 174.24x39.6 with 1 Axes>"
      ]
     },
     "metadata": {},
     "output_type": "display_data"
    }
   ],
   "source": [
    "# box plot of zcon econ\n",
    "f, axes = plt.subplots(figsize = (2.42,0.55))\n",
    "sns.set(style=\"white\")\n",
    "sns.axes_style(\"white\")\n",
    "sns.set(font_scale=0.6)\n",
    "sns.boxplot(x='c', y='b', color=\"green\", data=df4, palette=\"Pastel1\",ax=axes)\n",
    "sns.stripplot(x='c', y='b', data=df4, color=\"red\", jitter=0.1, size=2.5,ax=axes)\n",
    "axes.set_xlim([0.35,1])\n",
    "plt.title(\"Dice Maybe\", loc=\"left\")\n",
    "plt.savefig('../reports/figures/Results/Consensus/expcon_vs_zooncon_Maybe_distrib.svg')"
   ]
  },
  {
   "cell_type": "markdown",
   "metadata": {},
   "source": [
    "### Dice coef Zcon Econ Maybe"
   ]
  },
  {
   "cell_type": "code",
   "execution_count": 121,
   "metadata": {},
   "outputs": [
    {
     "data": {
      "text/html": [
       "<div>\n",
       "<style scoped>\n",
       "    .dataframe tbody tr th:only-of-type {\n",
       "        vertical-align: middle;\n",
       "    }\n",
       "\n",
       "    .dataframe tbody tr th {\n",
       "        vertical-align: top;\n",
       "    }\n",
       "\n",
       "    .dataframe thead th {\n",
       "        text-align: right;\n",
       "    }\n",
       "</style>\n",
       "<table border=\"1\" class=\"dataframe\">\n",
       "  <thead>\n",
       "    <tr style=\"text-align: right;\">\n",
       "      <th></th>\n",
       "      <th>Ec1</th>\n",
       "      <th>Ec2</th>\n",
       "      <th>Ec3</th>\n",
       "      <th>Zc1</th>\n",
       "      <th>Zc2</th>\n",
       "    </tr>\n",
       "  </thead>\n",
       "  <tbody>\n",
       "    <tr>\n",
       "      <th>Ec</th>\n",
       "      <td>0.666667</td>\n",
       "      <td>0.819277</td>\n",
       "      <td>0.880000</td>\n",
       "      <td>0.712329</td>\n",
       "      <td>0.575758</td>\n",
       "    </tr>\n",
       "    <tr>\n",
       "      <th>Zc</th>\n",
       "      <td>0.581818</td>\n",
       "      <td>0.666667</td>\n",
       "      <td>0.776119</td>\n",
       "      <td>0.769231</td>\n",
       "      <td>0.758621</td>\n",
       "    </tr>\n",
       "  </tbody>\n",
       "</table>\n",
       "</div>"
      ],
      "text/plain": [
       "         Ec1       Ec2       Ec3       Zc1       Zc2\n",
       "Ec  0.666667  0.819277  0.880000  0.712329  0.575758\n",
       "Zc  0.581818  0.666667  0.776119  0.769231  0.758621"
      ]
     },
     "execution_count": 121,
     "metadata": {},
     "output_type": "execute_result"
    }
   ],
   "source": [
    "# Pivot table\n",
    "df5=df4.pivot_table(values=['c'], index=['a'],columns=['b'])\n",
    "# flaten hearers and rotate it \n",
    "df5.columns = df5.columns.levels[1].get_values()\n",
    "df5.index.name = None\n",
    "df5=df5.T\n",
    "#df5 = df5[['Surc','Jpau','Cmak','Edup','Abad','Atam','Jche','Pfer', 'Czwe']]\n",
    "df5"
   ]
  },
  {
   "cell_type": "code",
   "execution_count": 122,
   "metadata": {
    "scrolled": true
   },
   "outputs": [
    {
     "data": {
      "image/png": "[encoded data removed]",
      "text/plain": [
       "<Figure size 216x39.6 with 2 Axes>"
      ]
     },
     "metadata": {},
     "output_type": "display_data"
    }
   ],
   "source": [
    "# Plot Dice matrix for concensus exert and  zooniverse\n",
    "\n",
    "# Set up the matplotlib figure\n",
    "f, axes = plt.subplots(figsize = (3,0.55))\n",
    "f.subplots_adjust(hspace= .8)\n",
    "sns.set(font_scale=0.6)\n",
    "f.suptitle('Inter-consensus Dice Coefficent for Maybe ratings',x=0.49,y=1.5, fontsize=8, fontweight='bold')\n",
    "# Draw kappa heat map\n",
    "sns.set(font_scale=0.6)\n",
    "sns.heatmap(df5,vmin=0.1,vmax=0.8,cmap=\"YlGnBu_r\",\n",
    "            square=True,\n",
    "            annot=True,annot_kws={\"size\": 6},\n",
    "            linewidths=.5, \n",
    "            cbar_kws={\"shrink\": .9,\"label\": \"Dice Coef\"}, \n",
    "            ax=axes)\n",
    "sns.set(style=\"white\")\n",
    "sns.axes_style(\"white\")\n",
    "\n",
    "#axes.set_yticks([x+0.5 for x in range(len(dice_df.columns))])\n",
    "axes.set_yticklabels(df5.index,rotation=0,fontsize=7)\n",
    "axes.set_xticklabels(df5.columns,rotation=0,fontsize=7)\n",
    "\n",
    "# Caption\n",
    "txt = '''\n",
    "Fig1: Dice matrix for consensus expert raters vs Zooniverse raters''';\n",
    "f.text(0.1,-1,txt,fontsize=8);\n",
    "plt.title(\"Dice Maybe\", loc=\"left\",fontsize=7)\n",
    "# Save figure\n",
    "f.savefig('../reports/figures/Results/Consensus/Full-Launch-consensus-experts-Vs-Zooniv_Maybe.svg')"
   ]
  },
  {
   "cell_type": "code",
   "execution_count": 123,
   "metadata": {},
   "outputs": [
    {
     "name": "stderr",
     "output_type": "stream",
     "text": [
      "/mnt/home_sq/yassinebha/.virtualenvs/zooniverse_qc/lib/python3.5/site-packages/scipy/stats/stats.py:1706: FutureWarning: Using a non-tuple sequence for multidimensional indexing is deprecated; use `arr[tuple(seq)]` instead of `arr[seq]`. In the future this will be interpreted as an array index, `arr[np.array(seq)]`, which will result either in an error or a different result.\n",
      "  return np.add.reduce(sorted[indexer] * weights, axis=axis) / sumval\n",
      "/mnt/home_sq/yassinebha/.virtualenvs/zooniverse_qc/lib/python3.5/site-packages/seaborn/axisgrid.py:1847: UserWarning: JointGrid annotation is deprecated and will be removed in a future release.\n",
      "  warnings.warn(UserWarning(msg))\n"
     ]
    },
    {
     "data": {
      "image/png": "[encoded data removed]",
      "text/plain": [
       "<Figure size 180x180 with 3 Axes>"
      ]
     },
     "metadata": {},
     "output_type": "display_data"
    }
   ],
   "source": [
    "import scipy.stats as stats\n",
    "sns.set(color_codes=True)\n",
    "sns.set(font_scale=0.6)\n",
    "joint = sns.jointplot(x='Ec', y='Zc',data= df5.T,\n",
    "              kind=\"reg\",xlim=[0.35,1], ylim=[0.35,1])\n",
    "joint.annotate(stats.pearsonr,)\n",
    "\n",
    "joint.fig.set_figwidth(2.5)\n",
    "joint.fig.set_figheight(2.5)\n",
    "plt.savefig('../reports/figures/Results/Consensus/expert_vs_zooniv_consensus_maybe.svg')"
   ]
  },
  {
   "cell_type": "markdown",
   "metadata": {},
   "source": [
    "## Dice for Fail category"
   ]
  },
  {
   "cell_type": "code",
   "execution_count": 124,
   "metadata": {},
   "outputs": [],
   "source": [
    "# Get Kappa score out of all different combination of ratings\n",
    "dice_df  = cons_df.drop(['ID'],axis=1)\n",
    "dice_store, scales = dice_score(dice_df)"
   ]
  },
  {
   "cell_type": "code",
   "execution_count": 126,
   "metadata": {
    "scrolled": false
   },
   "outputs": [
    {
     "data": {
      "image/png": "[encoded data removed]",
      "text/plain": [
       "<Figure size 216x216 with 2 Axes>"
      ]
     },
     "metadata": {},
     "output_type": "display_data"
    }
   ],
   "source": [
    "# Plot kappa matrix for expert only\n",
    "dice_out = pd.DataFrame(dice_store[:,:,2], \n",
    "                         index=dice_df.columns.get_values(),\n",
    "                         columns=dice_df.columns.get_values())\n",
    "\n",
    "\n",
    "# Set up the matplotlib figure\n",
    "f, axes = plt.subplots(figsize = (3,3))\n",
    "f.subplots_adjust(hspace= .8)\n",
    "sns.set(font_scale=0.6)\n",
    "f.suptitle('Inter-Experts Dice Coefficent for Fail ratings',x=0.49,y=1.05, fontsize=10, fontweight='bold')\n",
    "# Draw kappa heat map\n",
    "mask = np.zeros_like(dice_out)\n",
    "mask[np.triu_indices_from(mask)] = True\n",
    "sns.heatmap(dice_out,vmin=0.1,vmax=0.8,cmap=\"YlGnBu_r\",\n",
    "            square=True,\n",
    "            annot=True,annot_kws={\"size\": 6},\n",
    "            mask = mask,\n",
    "            linewidths=.5, \n",
    "            cbar_kws={\"shrink\": .3,\"label\": \"Dice Coeff Fail\"}, \n",
    "            ax=axes)\n",
    "sns.set(style=\"white\")\n",
    "sns.axes_style(\"white\")\n",
    "\n",
    "axes.set_yticks([x+0.5 for x in range(len(dice_df.columns))])\n",
    "axes.set_yticklabels(dice_df.columns,rotation=0,fontsize=7)\n",
    "axes.set_xticklabels(dice_df.columns,rotation=0,fontsize=7)\n",
    "\n",
    "# Caption\n",
    "txt = '''\n",
    "Fig1: Dice matrix for {} images from {} QC expert raters'''.format(len(dice_df),len(dice_df.columns));\n",
    "f.text(0.1,-0.1,txt,fontsize=8);\n",
    "#f.text(0.11,0.88,'High',fontsize=12)\n",
    "#f.text(0.10,0.62,'Level of QC expertise',fontsize=12,rotation=90)\n",
    "# Save figure\n",
    "f.savefig('../reports/figures/Results/Consensus/Full-Launch-experts_Fail.svg')"
   ]
  },
  {
   "cell_type": "markdown",
   "metadata": {},
   "source": [
    "### Boxplot of Fail Dice distribution between raters"
   ]
  },
  {
   "cell_type": "code",
   "execution_count": 127,
   "metadata": {
    "scrolled": true
   },
   "outputs": [
    {
     "data": {
      "text/html": [
       "<div>\n",
       "<style scoped>\n",
       "    .dataframe tbody tr th:only-of-type {\n",
       "        vertical-align: middle;\n",
       "    }\n",
       "\n",
       "    .dataframe tbody tr th {\n",
       "        vertical-align: top;\n",
       "    }\n",
       "\n",
       "    .dataframe thead th {\n",
       "        text-align: right;\n",
       "    }\n",
       "</style>\n",
       "<table border=\"1\" class=\"dataframe\">\n",
       "  <thead>\n",
       "    <tr style=\"text-align: right;\">\n",
       "      <th></th>\n",
       "      <th>Ec</th>\n",
       "      <th>Zc</th>\n",
       "      <th>Ec1</th>\n",
       "      <th>Ec2</th>\n",
       "      <th>Ec3</th>\n",
       "      <th>Zc1</th>\n",
       "      <th>Zc2</th>\n",
       "    </tr>\n",
       "  </thead>\n",
       "  <tbody>\n",
       "    <tr>\n",
       "      <th>Ec</th>\n",
       "      <td>1.000000</td>\n",
       "      <td>0.904762</td>\n",
       "      <td>0.880000</td>\n",
       "      <td>0.916667</td>\n",
       "      <td>0.913043</td>\n",
       "      <td>0.772727</td>\n",
       "      <td>0.790698</td>\n",
       "    </tr>\n",
       "    <tr>\n",
       "      <th>Zc</th>\n",
       "      <td>0.904762</td>\n",
       "      <td>1.000000</td>\n",
       "      <td>0.791667</td>\n",
       "      <td>0.826087</td>\n",
       "      <td>0.863636</td>\n",
       "      <td>0.809524</td>\n",
       "      <td>0.829268</td>\n",
       "    </tr>\n",
       "    <tr>\n",
       "      <th>Ec1</th>\n",
       "      <td>0.880000</td>\n",
       "      <td>0.791667</td>\n",
       "      <td>1.000000</td>\n",
       "      <td>0.851852</td>\n",
       "      <td>0.807692</td>\n",
       "      <td>0.680000</td>\n",
       "      <td>0.775510</td>\n",
       "    </tr>\n",
       "    <tr>\n",
       "      <th>Ec2</th>\n",
       "      <td>0.916667</td>\n",
       "      <td>0.826087</td>\n",
       "      <td>0.851852</td>\n",
       "      <td>1.000000</td>\n",
       "      <td>0.840000</td>\n",
       "      <td>0.708333</td>\n",
       "      <td>0.765957</td>\n",
       "    </tr>\n",
       "    <tr>\n",
       "      <th>Ec3</th>\n",
       "      <td>0.913043</td>\n",
       "      <td>0.863636</td>\n",
       "      <td>0.807692</td>\n",
       "      <td>0.840000</td>\n",
       "      <td>1.000000</td>\n",
       "      <td>0.739130</td>\n",
       "      <td>0.755556</td>\n",
       "    </tr>\n",
       "  </tbody>\n",
       "</table>\n",
       "</div>"
      ],
      "text/plain": [
       "           Ec        Zc       Ec1       Ec2       Ec3       Zc1       Zc2\n",
       "Ec   1.000000  0.904762  0.880000  0.916667  0.913043  0.772727  0.790698\n",
       "Zc   0.904762  1.000000  0.791667  0.826087  0.863636  0.809524  0.829268\n",
       "Ec1  0.880000  0.791667  1.000000  0.851852  0.807692  0.680000  0.775510\n",
       "Ec2  0.916667  0.826087  0.851852  1.000000  0.840000  0.708333  0.765957\n",
       "Ec3  0.913043  0.863636  0.807692  0.840000  1.000000  0.739130  0.755556"
      ]
     },
     "execution_count": 127,
     "metadata": {},
     "output_type": "execute_result"
    }
   ],
   "source": [
    "#compute Dice\n",
    "dice_df  = cons_df.drop(['ID'],axis=1)\n",
    "dice_store, scales = dice_score(dice_df)\n",
    "# Get results into data frame\n",
    "df_resul= pd.DataFrame(dice_store[:,:,2],columns=dice_df.columns,index=dice_df.columns)\n",
    "df_resul.head()"
   ]
  },
  {
   "cell_type": "code",
   "execution_count": 128,
   "metadata": {},
   "outputs": [
    {
     "data": {
      "text/html": [
       "<div>\n",
       "<style scoped>\n",
       "    .dataframe tbody tr th:only-of-type {\n",
       "        vertical-align: middle;\n",
       "    }\n",
       "\n",
       "    .dataframe tbody tr th {\n",
       "        vertical-align: top;\n",
       "    }\n",
       "\n",
       "    .dataframe thead th {\n",
       "        text-align: right;\n",
       "    }\n",
       "</style>\n",
       "<table border=\"1\" class=\"dataframe\">\n",
       "  <thead>\n",
       "    <tr style=\"text-align: right;\">\n",
       "      <th></th>\n",
       "      <th>a</th>\n",
       "      <th>b</th>\n",
       "      <th>c</th>\n",
       "    </tr>\n",
       "  </thead>\n",
       "  <tbody>\n",
       "    <tr>\n",
       "      <th>1</th>\n",
       "      <td>Ec</td>\n",
       "      <td>Zc</td>\n",
       "      <td>0.904762</td>\n",
       "    </tr>\n",
       "    <tr>\n",
       "      <th>2</th>\n",
       "      <td>Ec</td>\n",
       "      <td>Ec1</td>\n",
       "      <td>0.880000</td>\n",
       "    </tr>\n",
       "    <tr>\n",
       "      <th>3</th>\n",
       "      <td>Ec</td>\n",
       "      <td>Ec2</td>\n",
       "      <td>0.916667</td>\n",
       "    </tr>\n",
       "    <tr>\n",
       "      <th>4</th>\n",
       "      <td>Ec</td>\n",
       "      <td>Ec3</td>\n",
       "      <td>0.913043</td>\n",
       "    </tr>\n",
       "    <tr>\n",
       "      <th>5</th>\n",
       "      <td>Ec</td>\n",
       "      <td>Zc1</td>\n",
       "      <td>0.772727</td>\n",
       "    </tr>\n",
       "  </tbody>\n",
       "</table>\n",
       "</div>"
      ],
      "text/plain": [
       "    a    b         c\n",
       "1  Ec   Zc  0.904762\n",
       "2  Ec  Ec1  0.880000\n",
       "3  Ec  Ec2  0.916667\n",
       "4  Ec  Ec3  0.913043\n",
       "5  Ec  Zc1  0.772727"
      ]
     },
     "execution_count": 128,
     "metadata": {},
     "output_type": "execute_result"
    }
   ],
   "source": [
    "# transform results from matrix like to column like  \n",
    "df1 = df_resul.stack().reset_index()\n",
    "#set column names\n",
    "df1.columns = ['a','b','c']\n",
    "#remove kappa for between the same rater ( kappa of 1)\n",
    "df1 = df1[~(df1.a == df1.b)]\n",
    "df1.head()"
   ]
  },
  {
   "cell_type": "code",
   "execution_count": 130,
   "metadata": {},
   "outputs": [
    {
     "data": {
      "image/png": "[encoded data removed]",
      "text/plain": [
       "<Figure size 172.8x144 with 1 Axes>"
      ]
     },
     "metadata": {},
     "output_type": "display_data"
    }
   ],
   "source": [
    "f, axes = plt.subplots(figsize = (2.4,2))\n",
    "sns.set(style=\"white\")\n",
    "sns.axes_style(\"white\")\n",
    "sns.set(font_scale=0.6)\n",
    "sns.boxplot(x='a', y='c', color=\"green\", data=df1,palette=\"Pastel1\")\n",
    "sns.stripplot(x='a', y='c', data=df1, color=\"red\", jitter=0.1, size=2.5)\n",
    "axes.set_xticklabels(df1.a.unique(),rotation=0,fontsize=7)\n",
    "axes.set_ylim([0.2,0.95])\n",
    "plt.title(\"Dice Distribution Fail\", loc=\"left\")\n",
    "plt.savefig('../reports/figures/Results/Consensus/expert_distrib_Fail.svg')"
   ]
  },
  {
   "cell_type": "markdown",
   "metadata": {},
   "source": [
    "### Box plot of Fail Dice between expert and zooniverse consensus"
   ]
  },
  {
   "cell_type": "code",
   "execution_count": 131,
   "metadata": {},
   "outputs": [
    {
     "data": {
      "text/html": [
       "<div>\n",
       "<style scoped>\n",
       "    .dataframe tbody tr th:only-of-type {\n",
       "        vertical-align: middle;\n",
       "    }\n",
       "\n",
       "    .dataframe tbody tr th {\n",
       "        vertical-align: top;\n",
       "    }\n",
       "\n",
       "    .dataframe thead th {\n",
       "        text-align: right;\n",
       "    }\n",
       "</style>\n",
       "<table border=\"1\" class=\"dataframe\">\n",
       "  <thead>\n",
       "    <tr style=\"text-align: right;\">\n",
       "      <th></th>\n",
       "      <th>Ec</th>\n",
       "      <th>Zc</th>\n",
       "      <th>Ec1</th>\n",
       "      <th>Ec2</th>\n",
       "      <th>Ec3</th>\n",
       "      <th>Zc1</th>\n",
       "      <th>Zc2</th>\n",
       "    </tr>\n",
       "  </thead>\n",
       "  <tbody>\n",
       "    <tr>\n",
       "      <th>Ec</th>\n",
       "      <td>1.000000</td>\n",
       "      <td>0.904762</td>\n",
       "      <td>0.880000</td>\n",
       "      <td>0.916667</td>\n",
       "      <td>0.913043</td>\n",
       "      <td>0.772727</td>\n",
       "      <td>0.790698</td>\n",
       "    </tr>\n",
       "    <tr>\n",
       "      <th>Zc</th>\n",
       "      <td>0.904762</td>\n",
       "      <td>1.000000</td>\n",
       "      <td>0.791667</td>\n",
       "      <td>0.826087</td>\n",
       "      <td>0.863636</td>\n",
       "      <td>0.809524</td>\n",
       "      <td>0.829268</td>\n",
       "    </tr>\n",
       "    <tr>\n",
       "      <th>Ec1</th>\n",
       "      <td>0.880000</td>\n",
       "      <td>0.791667</td>\n",
       "      <td>1.000000</td>\n",
       "      <td>0.851852</td>\n",
       "      <td>0.807692</td>\n",
       "      <td>0.680000</td>\n",
       "      <td>0.775510</td>\n",
       "    </tr>\n",
       "    <tr>\n",
       "      <th>Ec2</th>\n",
       "      <td>0.916667</td>\n",
       "      <td>0.826087</td>\n",
       "      <td>0.851852</td>\n",
       "      <td>1.000000</td>\n",
       "      <td>0.840000</td>\n",
       "      <td>0.708333</td>\n",
       "      <td>0.765957</td>\n",
       "    </tr>\n",
       "    <tr>\n",
       "      <th>Ec3</th>\n",
       "      <td>0.913043</td>\n",
       "      <td>0.863636</td>\n",
       "      <td>0.807692</td>\n",
       "      <td>0.840000</td>\n",
       "      <td>1.000000</td>\n",
       "      <td>0.739130</td>\n",
       "      <td>0.755556</td>\n",
       "    </tr>\n",
       "  </tbody>\n",
       "</table>\n",
       "</div>"
      ],
      "text/plain": [
       "           Ec        Zc       Ec1       Ec2       Ec3       Zc1       Zc2\n",
       "Ec   1.000000  0.904762  0.880000  0.916667  0.913043  0.772727  0.790698\n",
       "Zc   0.904762  1.000000  0.791667  0.826087  0.863636  0.809524  0.829268\n",
       "Ec1  0.880000  0.791667  1.000000  0.851852  0.807692  0.680000  0.775510\n",
       "Ec2  0.916667  0.826087  0.851852  1.000000  0.840000  0.708333  0.765957\n",
       "Ec3  0.913043  0.863636  0.807692  0.840000  1.000000  0.739130  0.755556"
      ]
     },
     "execution_count": 131,
     "metadata": {},
     "output_type": "execute_result"
    }
   ],
   "source": [
    "# Get Dice\n",
    "dice_df  = cons_df.drop(['ID'],axis=1)\n",
    "dice_store, scales = dice_score(dice_df)\n",
    "# transform results from matrix like to column like  \n",
    "df= pd.DataFrame(dice_store[:,:,2],columns=dice_df.columns,index=dice_df.columns)\n",
    "df.head()"
   ]
  },
  {
   "cell_type": "code",
   "execution_count": 132,
   "metadata": {
    "scrolled": false
   },
   "outputs": [
    {
     "name": "stderr",
     "output_type": "stream",
     "text": [
      "/mnt/home_sq/yassinebha/.virtualenvs/zooniverse_qc/lib/python3.5/site-packages/ipykernel_launcher.py:10: UserWarning: Boolean Series key will be reindexed to match DataFrame index.\n",
      "  # Remove the CWD from sys.path while we load stuff.\n"
     ]
    },
    {
     "data": {
      "text/html": [
       "<div>\n",
       "<style scoped>\n",
       "    .dataframe tbody tr th:only-of-type {\n",
       "        vertical-align: middle;\n",
       "    }\n",
       "\n",
       "    .dataframe tbody tr th {\n",
       "        vertical-align: top;\n",
       "    }\n",
       "\n",
       "    .dataframe thead th {\n",
       "        text-align: right;\n",
       "    }\n",
       "</style>\n",
       "<table border=\"1\" class=\"dataframe\">\n",
       "  <thead>\n",
       "    <tr style=\"text-align: right;\">\n",
       "      <th></th>\n",
       "      <th>a</th>\n",
       "      <th>b</th>\n",
       "      <th>c</th>\n",
       "    </tr>\n",
       "  </thead>\n",
       "  <tbody>\n",
       "    <tr>\n",
       "      <th>14</th>\n",
       "      <td>Ec1</td>\n",
       "      <td>Ec</td>\n",
       "      <td>0.880000</td>\n",
       "    </tr>\n",
       "    <tr>\n",
       "      <th>15</th>\n",
       "      <td>Ec1</td>\n",
       "      <td>Zc</td>\n",
       "      <td>0.791667</td>\n",
       "    </tr>\n",
       "    <tr>\n",
       "      <th>21</th>\n",
       "      <td>Ec2</td>\n",
       "      <td>Ec</td>\n",
       "      <td>0.916667</td>\n",
       "    </tr>\n",
       "    <tr>\n",
       "      <th>22</th>\n",
       "      <td>Ec2</td>\n",
       "      <td>Zc</td>\n",
       "      <td>0.826087</td>\n",
       "    </tr>\n",
       "    <tr>\n",
       "      <th>28</th>\n",
       "      <td>Ec3</td>\n",
       "      <td>Ec</td>\n",
       "      <td>0.913043</td>\n",
       "    </tr>\n",
       "    <tr>\n",
       "      <th>29</th>\n",
       "      <td>Ec3</td>\n",
       "      <td>Zc</td>\n",
       "      <td>0.863636</td>\n",
       "    </tr>\n",
       "    <tr>\n",
       "      <th>35</th>\n",
       "      <td>Zc1</td>\n",
       "      <td>Ec</td>\n",
       "      <td>0.772727</td>\n",
       "    </tr>\n",
       "    <tr>\n",
       "      <th>36</th>\n",
       "      <td>Zc1</td>\n",
       "      <td>Zc</td>\n",
       "      <td>0.809524</td>\n",
       "    </tr>\n",
       "    <tr>\n",
       "      <th>42</th>\n",
       "      <td>Zc2</td>\n",
       "      <td>Ec</td>\n",
       "      <td>0.790698</td>\n",
       "    </tr>\n",
       "    <tr>\n",
       "      <th>43</th>\n",
       "      <td>Zc2</td>\n",
       "      <td>Zc</td>\n",
       "      <td>0.829268</td>\n",
       "    </tr>\n",
       "  </tbody>\n",
       "</table>\n",
       "</div>"
      ],
      "text/plain": [
       "      a   b         c\n",
       "14  Ec1  Ec  0.880000\n",
       "15  Ec1  Zc  0.791667\n",
       "21  Ec2  Ec  0.916667\n",
       "22  Ec2  Zc  0.826087\n",
       "28  Ec3  Ec  0.913043\n",
       "29  Ec3  Zc  0.863636\n",
       "35  Zc1  Ec  0.772727\n",
       "36  Zc1  Zc  0.809524\n",
       "42  Zc2  Ec  0.790698\n",
       "43  Zc2  Zc  0.829268"
      ]
     },
     "execution_count": 132,
     "metadata": {},
     "output_type": "execute_result"
    }
   ],
   "source": [
    "# transform results from matrix like to column like  \n",
    "df1 = df.stack().reset_index()\n",
    "#set column names\n",
    "df1.columns = ['a','b','c']\n",
    "# slect only Zcon and Econ \n",
    "df2 = df1[((df1.b == 'Zc') | (df1.b == 'Ec'))]\n",
    "# remove kaa between the same rater\n",
    "df3 = df2[~(df2.a == df2.b)]\n",
    "# remove econ vs zcon kappa\n",
    "df4 = df3[~((df1.a == 'Zc') | (df1.a == 'Ec'))]\n",
    "df4"
   ]
  },
  {
   "cell_type": "code",
   "execution_count": 133,
   "metadata": {
    "scrolled": false
   },
   "outputs": [
    {
     "data": {
      "image/png": "[encoded data removed]",
      "text/plain": [
       "<Figure size 174.24x39.6 with 1 Axes>"
      ]
     },
     "metadata": {},
     "output_type": "display_data"
    }
   ],
   "source": [
    "# box plot of zcon econ\n",
    "f, axes = plt.subplots(figsize = (2.42,0.55))\n",
    "sns.set(style=\"white\")\n",
    "sns.axes_style(\"white\")\n",
    "sns.set(font_scale=0.6)\n",
    "sns.boxplot(x='c', y='b', color=\"green\", data=df4, palette=\"Pastel1\",ax=axes)\n",
    "sns.stripplot(x='c', y='b', data=df4, color=\"red\", jitter=0.1, size=2.5,ax=axes)\n",
    "axes.set_xlim([0.35,1])\n",
    "plt.title(\"Dice Fail\", loc=\"left\")\n",
    "plt.savefig('../reports/figures/Results/Consensus/expcon_vs_zooncon_Fail_distrib.svg')"
   ]
  },
  {
   "cell_type": "markdown",
   "metadata": {},
   "source": [
    "### Dice coef Zcon Econ Fail"
   ]
  },
  {
   "cell_type": "code",
   "execution_count": 134,
   "metadata": {},
   "outputs": [
    {
     "data": {
      "text/html": [
       "<div>\n",
       "<style scoped>\n",
       "    .dataframe tbody tr th:only-of-type {\n",
       "        vertical-align: middle;\n",
       "    }\n",
       "\n",
       "    .dataframe tbody tr th {\n",
       "        vertical-align: top;\n",
       "    }\n",
       "\n",
       "    .dataframe thead th {\n",
       "        text-align: right;\n",
       "    }\n",
       "</style>\n",
       "<table border=\"1\" class=\"dataframe\">\n",
       "  <thead>\n",
       "    <tr style=\"text-align: right;\">\n",
       "      <th></th>\n",
       "      <th>Ec1</th>\n",
       "      <th>Ec2</th>\n",
       "      <th>Ec3</th>\n",
       "      <th>Zc1</th>\n",
       "      <th>Zc2</th>\n",
       "    </tr>\n",
       "  </thead>\n",
       "  <tbody>\n",
       "    <tr>\n",
       "      <th>Ec</th>\n",
       "      <td>0.880000</td>\n",
       "      <td>0.916667</td>\n",
       "      <td>0.913043</td>\n",
       "      <td>0.772727</td>\n",
       "      <td>0.790698</td>\n",
       "    </tr>\n",
       "    <tr>\n",
       "      <th>Zc</th>\n",
       "      <td>0.791667</td>\n",
       "      <td>0.826087</td>\n",
       "      <td>0.863636</td>\n",
       "      <td>0.809524</td>\n",
       "      <td>0.829268</td>\n",
       "    </tr>\n",
       "  </tbody>\n",
       "</table>\n",
       "</div>"
      ],
      "text/plain": [
       "         Ec1       Ec2       Ec3       Zc1       Zc2\n",
       "Ec  0.880000  0.916667  0.913043  0.772727  0.790698\n",
       "Zc  0.791667  0.826087  0.863636  0.809524  0.829268"
      ]
     },
     "execution_count": 134,
     "metadata": {},
     "output_type": "execute_result"
    }
   ],
   "source": [
    "# Pivot table\n",
    "df5=df4.pivot_table(values=['c'], index=['a'],columns=['b'])\n",
    "# flaten hearers and rotate it \n",
    "df5.columns = df5.columns.levels[1].get_values()\n",
    "df5.index.name = None\n",
    "df5=df5.T\n",
    "#df5 = df5[['Surc','Jpau','Cmak','Edup','Abad','Atam','Jche','Pfer', 'Czwe']]\n",
    "df5"
   ]
  },
  {
   "cell_type": "code",
   "execution_count": 135,
   "metadata": {},
   "outputs": [
    {
     "data": {
      "image/png": "[encoded data removed]",
      "text/plain": [
       "<Figure size 216x39.6 with 2 Axes>"
      ]
     },
     "metadata": {},
     "output_type": "display_data"
    }
   ],
   "source": [
    "# Plot Dice matrix for concensus exert and  zooniverse\n",
    "\n",
    "# Set up the matplotlib figure\n",
    "f, axes = plt.subplots(figsize = (3,0.55))\n",
    "f.subplots_adjust(hspace= .8)\n",
    "sns.set(font_scale=0.6)\n",
    "f.suptitle('Inter-consensus Dice Coefficent for Fail ratings',x=0.49,y=1.5, fontsize=8, fontweight='bold')\n",
    "# Draw kappa heat map\n",
    "sns.set(font_scale=0.6)\n",
    "sns.heatmap(df5,vmin=0.1,vmax=0.8,cmap=\"YlGnBu_r\",\n",
    "            square=True,\n",
    "            annot=True,annot_kws={\"size\": 6},\n",
    "            linewidths=.5, \n",
    "            cbar_kws={\"shrink\": .9,\"label\": \"Dice Coef\"}, \n",
    "            ax=axes)\n",
    "sns.set(style=\"white\")\n",
    "sns.axes_style(\"white\")\n",
    "\n",
    "#axes.set_yticks([x+0.5 for x in range(len(dice_df.columns))])\n",
    "axes.set_yticklabels(df5.index,rotation=0,fontsize=7)\n",
    "axes.set_xticklabels(df5.columns,rotation=0,fontsize=7)\n",
    "\n",
    "# Caption\n",
    "txt = '''\n",
    "Fig1: Dice matrix for consensus expert raters vs Zooniverse raters''';\n",
    "f.text(0.1,-1,txt,fontsize=8);\n",
    "plt.title(\"Dice Fail\", loc=\"left\",fontsize=7)\n",
    "# Save figure\n",
    "f.savefig('../reports/figures/Results/Consensus/Full-Launch-consensus-experts-Vs-Zooniv_Fail.svg')"
   ]
  },
  {
   "cell_type": "code",
   "execution_count": 136,
   "metadata": {},
   "outputs": [
    {
     "name": "stderr",
     "output_type": "stream",
     "text": [
      "/mnt/home_sq/yassinebha/.virtualenvs/zooniverse_qc/lib/python3.5/site-packages/scipy/stats/stats.py:1706: FutureWarning: Using a non-tuple sequence for multidimensional indexing is deprecated; use `arr[tuple(seq)]` instead of `arr[seq]`. In the future this will be interpreted as an array index, `arr[np.array(seq)]`, which will result either in an error or a different result.\n",
      "  return np.add.reduce(sorted[indexer] * weights, axis=axis) / sumval\n",
      "/mnt/home_sq/yassinebha/.virtualenvs/zooniverse_qc/lib/python3.5/site-packages/seaborn/axisgrid.py:1847: UserWarning: JointGrid annotation is deprecated and will be removed in a future release.\n",
      "  warnings.warn(UserWarning(msg))\n"
     ]
    },
    {
     "data": {
      "image/png": "[encoded data removed]",
      "text/plain": [
       "<Figure size 180x180 with 3 Axes>"
      ]
     },
     "metadata": {},
     "output_type": "display_data"
    }
   ],
   "source": [
    "import scipy.stats as stats\n",
    "sns.set(color_codes=True)\n",
    "sns.set(font_scale=0.6)\n",
    "joint = sns.jointplot(x='Ec', y='Zc',data= df5.T,\n",
    "              kind=\"reg\",xlim=[0.35,1], ylim=[0.35,1])\n",
    "joint.annotate(stats.pearsonr,)\n",
    "\n",
    "joint.fig.set_figwidth(2.5)\n",
    "joint.fig.set_figheight(2.5)\n",
    "plt.savefig('../reports/figures/Results/Consensus/expert_vs_zooniv_consensus_fail.svg')"
   ]
  },
  {
   "cell_type": "code",
   "execution_count": null,
   "metadata": {},
   "outputs": [],
   "source": []
  }
 ],
 "metadata": {
  "kernelspec": {
   "display_name": "Python 3",
   "language": "python",
   "name": "python3"
  },
  "language_info": {
   "codemirror_mode": {
    "name": "ipython",
    "version": 3
   },
   "file_extension": ".py",
   "mimetype": "text/x-python",
   "name": "python",
   "nbconvert_exporter": "python",
   "pygments_lexer": "ipython3",
   "version": "3.5.2"
  }
 },
 "nbformat": 4,
 "nbformat_minor": 2
}
