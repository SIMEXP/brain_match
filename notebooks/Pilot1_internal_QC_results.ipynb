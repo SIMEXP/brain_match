{
 "cells": [
  {
   "cell_type": "markdown",
   "metadata": {},
   "source": [
    "### EXP: Pilote1 QC rating "
   ]
  },
  {
   "cell_type": "markdown",
   "metadata": {},
   "source": [
    "- **Aim:** Test reliability of quality control (QC) of brain registration ratings between two experts raters (PB: Pierre Bellec, YB: Yassine Benahajali) based on internaly drafted qc protocol ( ref: https://figshare.com/articles/Quality_Control_and_assessment_of_the_NIAK_functional_MRI_preprocessing_pipeline/4204845/1 ).\n",
    "\n",
    "- **Exp:** \n",
    "    - 220 anatomical brain images from ADHD200 dataset preprocced with two differents pipelines (NIAK and Athena).\n",
    "    - Each rater (PB and YB) rated (OK, Maybe or Fail) both NIAK and Athena images using volume based visualization tool (register) from minctools."
   ]
  },
  {
   "cell_type": "code",
   "execution_count": 1,
   "metadata": {},
   "outputs": [],
   "source": [
    "import os\n",
    "import pandas as pd\n",
    "import numpy as np\n",
    "import itertools\n",
    "import seaborn as sns\n",
    "from sklearn import metrics\n",
    "from matplotlib import gridspec as gs\n",
    "import matplotlib.pyplot as plt"
   ]
  },
  {
   "cell_type": "code",
   "execution_count": 2,
   "metadata": {},
   "outputs": [],
   "source": [
    "%matplotlib inline\n",
    "%load_ext rpy2.ipython\n",
    "sns.set(style=\"white\")"
   ]
  },
  {
   "cell_type": "code",
   "execution_count": 3,
   "metadata": {},
   "outputs": [
    {
     "data": {
      "text/html": [
       "<div>\n",
       "<style scoped>\n",
       "    .dataframe tbody tr th:only-of-type {\n",
       "        vertical-align: middle;\n",
       "    }\n",
       "\n",
       "    .dataframe tbody tr th {\n",
       "        vertical-align: top;\n",
       "    }\n",
       "\n",
       "    .dataframe thead th {\n",
       "        text-align: right;\n",
       "    }\n",
       "</style>\n",
       "<table border=\"1\" class=\"dataframe\">\n",
       "  <thead>\n",
       "    <tr style=\"text-align: right;\">\n",
       "      <th></th>\n",
       "      <th>id_subject</th>\n",
       "      <th>status_Athena</th>\n",
       "      <th>status_NIAK</th>\n",
       "      <th>status_Athena.1</th>\n",
       "      <th>status_NIAK.1</th>\n",
       "    </tr>\n",
       "  </thead>\n",
       "  <tbody>\n",
       "    <tr>\n",
       "      <th>0</th>\n",
       "      <td>X0026001</td>\n",
       "      <td>Maybe</td>\n",
       "      <td>Maybe</td>\n",
       "      <td>Maybe</td>\n",
       "      <td>Maybe</td>\n",
       "    </tr>\n",
       "    <tr>\n",
       "      <th>1</th>\n",
       "      <td>X0026002</td>\n",
       "      <td>Maybe</td>\n",
       "      <td>Maybe</td>\n",
       "      <td>Maybe</td>\n",
       "      <td>Maybe</td>\n",
       "    </tr>\n",
       "    <tr>\n",
       "      <th>2</th>\n",
       "      <td>X0026004</td>\n",
       "      <td>Maybe</td>\n",
       "      <td>Maybe</td>\n",
       "      <td>Maybe</td>\n",
       "      <td>Maybe</td>\n",
       "    </tr>\n",
       "    <tr>\n",
       "      <th>3</th>\n",
       "      <td>X0026005</td>\n",
       "      <td>Maybe</td>\n",
       "      <td>Maybe</td>\n",
       "      <td>Maybe</td>\n",
       "      <td>Maybe</td>\n",
       "    </tr>\n",
       "    <tr>\n",
       "      <th>4</th>\n",
       "      <td>X0026009</td>\n",
       "      <td>Maybe</td>\n",
       "      <td>Maybe</td>\n",
       "      <td>Maybe</td>\n",
       "      <td>Maybe</td>\n",
       "    </tr>\n",
       "  </tbody>\n",
       "</table>\n",
       "</div>"
      ],
      "text/plain": [
       "  id_subject status_Athena status_NIAK status_Athena.1 status_NIAK.1\n",
       "0   X0026001         Maybe       Maybe           Maybe         Maybe\n",
       "1   X0026002         Maybe       Maybe           Maybe         Maybe\n",
       "2   X0026004         Maybe       Maybe           Maybe         Maybe\n",
       "3   X0026005         Maybe       Maybe           Maybe         Maybe\n",
       "4   X0026009         Maybe       Maybe           Maybe         Maybe"
      ]
     },
     "execution_count": 3,
     "metadata": {},
     "output_type": "execute_result"
    }
   ],
   "source": [
    "# Read raw table\n",
    "ratings = pd.read_csv('../data/rating/Pilot_QC_Pierre_Yassine-12-10-2018.csv')\n",
    "ratings.head()"
   ]
  },
  {
   "cell_type": "code",
   "execution_count": 4,
   "metadata": {},
   "outputs": [
    {
     "data": {
      "text/html": [
       "<div>\n",
       "<style scoped>\n",
       "    .dataframe tbody tr th:only-of-type {\n",
       "        vertical-align: middle;\n",
       "    }\n",
       "\n",
       "    .dataframe tbody tr th {\n",
       "        vertical-align: top;\n",
       "    }\n",
       "\n",
       "    .dataframe thead th {\n",
       "        text-align: right;\n",
       "    }\n",
       "</style>\n",
       "<table border=\"1\" class=\"dataframe\">\n",
       "  <thead>\n",
       "    <tr style=\"text-align: right;\">\n",
       "      <th></th>\n",
       "      <th>id_subject</th>\n",
       "      <th>PB_Athena</th>\n",
       "      <th>PB_NIAK</th>\n",
       "      <th>YB_Athena</th>\n",
       "      <th>YB_NIAK</th>\n",
       "    </tr>\n",
       "  </thead>\n",
       "  <tbody>\n",
       "    <tr>\n",
       "      <th>count</th>\n",
       "      <td>220</td>\n",
       "      <td>220</td>\n",
       "      <td>220</td>\n",
       "      <td>220</td>\n",
       "      <td>220</td>\n",
       "    </tr>\n",
       "    <tr>\n",
       "      <th>unique</th>\n",
       "      <td>220</td>\n",
       "      <td>4</td>\n",
       "      <td>4</td>\n",
       "      <td>3</td>\n",
       "      <td>3</td>\n",
       "    </tr>\n",
       "    <tr>\n",
       "      <th>top</th>\n",
       "      <td>X1692275</td>\n",
       "      <td>Maybe</td>\n",
       "      <td>OK</td>\n",
       "      <td>Maybe</td>\n",
       "      <td>OK</td>\n",
       "    </tr>\n",
       "    <tr>\n",
       "      <th>freq</th>\n",
       "      <td>1</td>\n",
       "      <td>109</td>\n",
       "      <td>147</td>\n",
       "      <td>110</td>\n",
       "      <td>146</td>\n",
       "    </tr>\n",
       "  </tbody>\n",
       "</table>\n",
       "</div>"
      ],
      "text/plain": [
       "       id_subject PB_Athena PB_NIAK YB_Athena YB_NIAK\n",
       "count         220       220     220       220     220\n",
       "unique        220         4       4         3       3\n",
       "top      X1692275     Maybe      OK     Maybe      OK\n",
       "freq            1       109     147       110     146"
      ]
     },
     "execution_count": 4,
     "metadata": {},
     "output_type": "execute_result"
    }
   ],
   "source": [
    "# Rename columns\n",
    "ratings.rename(index=str, columns={\"status_Athena\": \"PB_Athena\", \"status_NIAK\": \"PB_NIAK\",\n",
    "                                   \"status_Athena.1\": \"YB_Athena\", \"status_NIAK.1\": \"YB_NIAK\"},inplace=True)\n",
    "# Save a clean copy\n",
    "ratings.rename(columns={\"id_subject\": \"ID\"}).to_csv('../data/rating/Pilot1_internal_rating-PB_YB.csv',index=False)\n",
    "ratings.describe()"
   ]
  },
  {
   "cell_type": "code",
   "execution_count": 5,
   "metadata": {},
   "outputs": [
    {
     "data": {
      "text/html": [
       "<div>\n",
       "<style scoped>\n",
       "    .dataframe tbody tr th:only-of-type {\n",
       "        vertical-align: middle;\n",
       "    }\n",
       "\n",
       "    .dataframe tbody tr th {\n",
       "        vertical-align: top;\n",
       "    }\n",
       "\n",
       "    .dataframe thead th {\n",
       "        text-align: right;\n",
       "    }\n",
       "</style>\n",
       "<table border=\"1\" class=\"dataframe\">\n",
       "  <thead>\n",
       "    <tr style=\"text-align: right;\">\n",
       "      <th></th>\n",
       "      <th>id_subject</th>\n",
       "      <th>PB_Athena</th>\n",
       "      <th>PB_NIAK</th>\n",
       "      <th>YB_Athena</th>\n",
       "      <th>YB_NIAK</th>\n",
       "    </tr>\n",
       "  </thead>\n",
       "  <tbody>\n",
       "    <tr>\n",
       "      <th>count</th>\n",
       "      <td>220</td>\n",
       "      <td>220</td>\n",
       "      <td>220</td>\n",
       "      <td>220</td>\n",
       "      <td>220</td>\n",
       "    </tr>\n",
       "    <tr>\n",
       "      <th>unique</th>\n",
       "      <td>220</td>\n",
       "      <td>3</td>\n",
       "      <td>3</td>\n",
       "      <td>3</td>\n",
       "      <td>3</td>\n",
       "    </tr>\n",
       "    <tr>\n",
       "      <th>top</th>\n",
       "      <td>X1692275</td>\n",
       "      <td>Maybe</td>\n",
       "      <td>OK</td>\n",
       "      <td>Maybe</td>\n",
       "      <td>OK</td>\n",
       "    </tr>\n",
       "    <tr>\n",
       "      <th>freq</th>\n",
       "      <td>1</td>\n",
       "      <td>109</td>\n",
       "      <td>147</td>\n",
       "      <td>110</td>\n",
       "      <td>146</td>\n",
       "    </tr>\n",
       "  </tbody>\n",
       "</table>\n",
       "</div>"
      ],
      "text/plain": [
       "       id_subject PB_Athena PB_NIAK YB_Athena YB_NIAK\n",
       "count         220       220     220       220     220\n",
       "unique        220         3       3         3       3\n",
       "top      X1692275     Maybe      OK     Maybe      OK\n",
       "freq            1       109     147       110     146"
      ]
     },
     "execution_count": 5,
     "metadata": {},
     "output_type": "execute_result"
    }
   ],
   "source": [
    "# Strip wite sapces \n",
    "ratings['PB_Athena'] = ratings['PB_Athena'].str.strip()\n",
    "ratings['PB_NIAK'] = ratings['PB_NIAK'].str.strip()\n",
    "ratings.describe()"
   ]
  },
  {
   "cell_type": "code",
   "execution_count": 6,
   "metadata": {},
   "outputs": [],
   "source": [
    "# Add matching column between the raters for each of the preprocessing pipeline\n",
    "ratings.loc[:,\"rating_match_NIAK\"] = ratings.loc[:,['PB_NIAK','YB_NIAK']].apply(lambda x: len(set(x)) == 1, axis=1)\n",
    "ratings.loc[:,\"rating_match_Athena\"] = ratings.loc[:,['PB_Athena','YB_Athena']].apply(lambda x: len(set(x)) == 1, axis=1)"
   ]
  },
  {
   "cell_type": "code",
   "execution_count": 7,
   "metadata": {},
   "outputs": [
    {
     "data": {
      "text/html": [
       "<div>\n",
       "<style scoped>\n",
       "    .dataframe tbody tr th:only-of-type {\n",
       "        vertical-align: middle;\n",
       "    }\n",
       "\n",
       "    .dataframe tbody tr th {\n",
       "        vertical-align: top;\n",
       "    }\n",
       "\n",
       "    .dataframe thead th {\n",
       "        text-align: right;\n",
       "    }\n",
       "</style>\n",
       "<table border=\"1\" class=\"dataframe\">\n",
       "  <thead>\n",
       "    <tr style=\"text-align: right;\">\n",
       "      <th></th>\n",
       "      <th>id_subject</th>\n",
       "      <th>PB_Athena</th>\n",
       "      <th>PB_NIAK</th>\n",
       "      <th>YB_Athena</th>\n",
       "      <th>YB_NIAK</th>\n",
       "      <th>rating_match_NIAK</th>\n",
       "      <th>rating_match_Athena</th>\n",
       "    </tr>\n",
       "  </thead>\n",
       "  <tbody>\n",
       "    <tr>\n",
       "      <th>0</th>\n",
       "      <td>X0026001</td>\n",
       "      <td>2</td>\n",
       "      <td>2</td>\n",
       "      <td>2</td>\n",
       "      <td>2</td>\n",
       "      <td>True</td>\n",
       "      <td>True</td>\n",
       "    </tr>\n",
       "    <tr>\n",
       "      <th>1</th>\n",
       "      <td>X0026002</td>\n",
       "      <td>2</td>\n",
       "      <td>2</td>\n",
       "      <td>2</td>\n",
       "      <td>2</td>\n",
       "      <td>True</td>\n",
       "      <td>True</td>\n",
       "    </tr>\n",
       "    <tr>\n",
       "      <th>2</th>\n",
       "      <td>X0026004</td>\n",
       "      <td>2</td>\n",
       "      <td>2</td>\n",
       "      <td>2</td>\n",
       "      <td>2</td>\n",
       "      <td>True</td>\n",
       "      <td>True</td>\n",
       "    </tr>\n",
       "    <tr>\n",
       "      <th>3</th>\n",
       "      <td>X0026005</td>\n",
       "      <td>2</td>\n",
       "      <td>2</td>\n",
       "      <td>2</td>\n",
       "      <td>2</td>\n",
       "      <td>True</td>\n",
       "      <td>True</td>\n",
       "    </tr>\n",
       "    <tr>\n",
       "      <th>4</th>\n",
       "      <td>X0026009</td>\n",
       "      <td>2</td>\n",
       "      <td>2</td>\n",
       "      <td>2</td>\n",
       "      <td>2</td>\n",
       "      <td>True</td>\n",
       "      <td>True</td>\n",
       "    </tr>\n",
       "  </tbody>\n",
       "</table>\n",
       "</div>"
      ],
      "text/plain": [
       "  id_subject  PB_Athena  PB_NIAK  YB_Athena  YB_NIAK  rating_match_NIAK  \\\n",
       "0   X0026001          2        2          2        2               True   \n",
       "1   X0026002          2        2          2        2               True   \n",
       "2   X0026004          2        2          2        2               True   \n",
       "3   X0026005          2        2          2        2               True   \n",
       "4   X0026009          2        2          2        2               True   \n",
       "\n",
       "   rating_match_Athena  \n",
       "0                 True  \n",
       "1                 True  \n",
       "2                 True  \n",
       "3                 True  \n",
       "4                 True  "
      ]
     },
     "execution_count": 7,
     "metadata": {},
     "output_type": "execute_result"
    }
   ],
   "source": [
    "# Replace OK with 1 , Maybe with 2 and Fail with 3\n",
    "ratings.replace({'OK':1,'Maybe':2, 'Fail':3}, inplace=True)\n",
    "ratings.head()"
   ]
  },
  {
   "cell_type": "code",
   "execution_count": 8,
   "metadata": {},
   "outputs": [
    {
     "name": "stdout",
     "output_type": "stream",
     "text": [
      "The percentage of agreement for Athena preprocessed images is: 76.82\n",
      "The percentage of agreement for NIAK preprocessed images is: 85.45\n"
     ]
    }
   ],
   "source": [
    "# calculate the percentage of agreement  between raters for each pipeline\n",
    "agreem_ = (ratings.rating_match_Athena.sum()/ratings.id_subject.count())*100\n",
    "print(\"The percentage of agreement for Athena preprocessed images is: {:.2f}\".format(agreem_))\n",
    "agreem_ = (ratings.rating_match_NIAK.sum()/ratings.id_subject.count())*100\n",
    "print(\"The percentage of agreement for NIAK preprocessed images is: {:.2f}\".format(agreem_))"
   ]
  },
  {
   "cell_type": "code",
   "execution_count": 9,
   "metadata": {},
   "outputs": [
    {
     "name": "stderr",
     "output_type": "stream",
     "text": [
      "/mnt/home_sq/yassinebha/.virtualenvs/zooniverse_qc/lib/python3.5/site-packages/rpy2/rinterface/__init__.py:146: RRuntimeWarning: Loading required package: lpSolve\n",
      "\n",
      "  warnings.warn(x, RRuntimeWarning)\n"
     ]
    }
   ],
   "source": [
    "%%R\n",
    "suppressPackageStartupMessages(library(dplyr))\n",
    "#install.packages(\"irr\") \n",
    "library(irr)"
   ]
  },
  {
   "cell_type": "code",
   "execution_count": 10,
   "metadata": {},
   "outputs": [
    {
     "name": "stdout",
     "output_type": "stream",
     "text": [
      "NIAK\n",
      " Percentage agreement (Tolerance=0)\n",
      "\n",
      " Subjects = 220 \n",
      "   Raters = 2 \n",
      "  %-agree = 85.5 \n",
      "\n",
      "Athena\n",
      " Percentage agreement (Tolerance=0)\n",
      "\n",
      " Subjects = 220 \n",
      "   Raters = 2 \n",
      "  %-agree = 76.8 \n",
      "\n"
     ]
    },
    {
     "data": {
      "text/plain": [
       "(None, None)"
      ]
     },
     "execution_count": 10,
     "metadata": {},
     "output_type": "execute_result"
    }
   ],
   "source": [
    "# Percenteage of agrrement between raters\n",
    "agree_niak = ratings[['PB_NIAK','YB_NIAK']]\n",
    "agree_athena = ratings[['PB_Athena','YB_Athena']]\n",
    "%Rpush agree_niak agree_athena\n",
    "agree_n = %R agree(agree_niak)\n",
    "agree_a = %R agree(agree_athena)\n",
    "print('NIAK'),print(agree_n)\n",
    "print('Athena'),print(agree_a)"
   ]
  },
  {
   "cell_type": "code",
   "execution_count": 11,
   "metadata": {},
   "outputs": [],
   "source": [
    "# FDR correction\n",
    "from statsmodels.sandbox.stats import multicomp as smi\n",
    "\n",
    "def fdr_transf(mat,log10 = False):\n",
    "    '''compute fdr of a given matrix'''\n",
    "    \n",
    "    row = mat.shape[0]\n",
    "    col = mat.shape[1]\n",
    "    flatt = mat.flatten()\n",
    "    fdr_2d = smi.multipletests(flatt, alpha=0.05, method='fdr_bh')[1]\n",
    "    if log10 == True:\n",
    "        fdr_2d = [-np.log10(ii) if ii != 0 else 50for ii in fdr_2d  ]\n",
    "    fdr_3d = np.reshape(fdr_2d,(row,col))\n",
    "    return fdr_3d"
   ]
  },
  {
   "cell_type": "code",
   "execution_count": 12,
   "metadata": {},
   "outputs": [],
   "source": [
    "# Kappa calculation\n",
    "def kappa_score(k_df,log10 = False):\n",
    "    '''compute Kappa between diferent raters organized in dataframe'''\n",
    "    k_store = np.zeros((len(k_df.columns), len(k_df.columns)))\n",
    "    p_store = np.zeros((len(k_df.columns), len(k_df.columns)))\n",
    "    %Rpush k_df\n",
    "    for user1_id, user1 in enumerate(k_df.columns):\n",
    "        for user2_id, user2 in enumerate(k_df.columns):\n",
    "            weight = np.unique(kappa_df[[user1,user2]])\n",
    "            %Rpush user1_id user1 user2_id user2 weight\n",
    "            kappaR =  %R kappa2(k_df[,c(user1,user2)],weight)\n",
    "            \n",
    "            # store the kappa\n",
    "            k_store[user1_id, user2_id] = [kappaR[x][0] for x in range(np.shape(kappaR)[0])][4]\n",
    "            p_store[user1_id, user2_id] = [kappaR[x][0] for x in range(np.shape(kappaR)[0])][-1]\n",
    "            \n",
    "    # FDR Correction       \n",
    "    p_store = fdr_transf(p_store,log10)\n",
    "    return k_store, p_store"
   ]
  },
  {
   "cell_type": "code",
   "execution_count": 13,
   "metadata": {},
   "outputs": [
    {
     "name": "stdout",
     "output_type": "stream",
     "text": [
      "Mean Kappa : 0.44 , std : 0.17\n",
      "\n",
      " Fleiss' Kappa for m Raters\n",
      "\n",
      " Subjects = 220 \n",
      "   Raters = 4 \n",
      "    Kappa = 0.412 \n",
      "\n",
      "        z = 17.1 \n",
      "  p-value = 0 \n",
      "\n"
     ]
    }
   ],
   "source": [
    "# Get Kappa score out of all different combination of ratings\n",
    "kappa_df  = ratings[['PB_Athena','YB_Athena','PB_NIAK','YB_NIAK']]\n",
    "kappa_store, Pval_store = kappa_score(kappa_df,log10=True)\n",
    "mean_kap = np.mean(kappa_store[np.triu_indices(len(kappa_store),k=1)])\n",
    "std_kap = np.std(kappa_store[np.triu_indices(len(kappa_store),k=1)])\n",
    "print('Mean Kappa : {0:.2f} , std : {1:.2f}\\n'.format(mean_kap, std_kap))\n",
    "\n",
    "#calculte the over all kappa values of all ratings\n",
    "%Rpush kappa_df\n",
    "fleiss_kappa = %R kappam.fleiss(kappa_df)\n",
    "print(fleiss_kappa)"
   ]
  },
  {
   "cell_type": "code",
   "execution_count": 18,
   "metadata": {},
   "outputs": [
    {
     "data": {
      "image/png": "[encoded data removed]",
      "text/plain": [
       "<Figure size 1008x576 with 4 Axes>"
      ]
     },
     "metadata": {},
     "output_type": "display_data"
    }
   ],
   "source": [
    "# Plot kappa matrix\n",
    "kappa_out = pd.DataFrame(kappa_store, \n",
    "                         index=kappa_df.columns.get_values(),\n",
    "                         columns=kappa_df.columns.get_values())\n",
    "Pval_out = pd.DataFrame(Pval_store, \n",
    "                         index=kappa_df.columns.get_values(),\n",
    "                         columns=kappa_df.columns.get_values())\n",
    "\n",
    "\n",
    "\n",
    "# Set up the matplotlib figure\n",
    "f, axes = plt.subplots(1, 2,figsize = (14,8))\n",
    "f.subplots_adjust(hspace= .8)\n",
    "\n",
    "#f.suptitle('Pilot1 QC',x=0.49,y=.87, fontsize=14, fontweight='bold')\n",
    "# Draw kappa heat map\n",
    "sns.heatmap(kappa_out,vmin=0,vmax=1,cmap=\"YlGnBu\",\n",
    "            square=True,\n",
    "            annot=True,\n",
    "            linewidths=.5, \n",
    "            cbar_kws={\"shrink\": .6,\"label\": 'Cohens Kappa'}, \n",
    "            ax=axes[0])\n",
    "axes[0].set_yticks([x+0.5 for x in range(len(kappa_df.columns))])\n",
    "axes[0].set_yticklabels(kappa_df.columns,rotation=0)\n",
    "#axes[0].set_title('Cohens Kappa matrix for 2 raters (PB & YB)',pad=20,fontsize=12)\n",
    "axes[0].set_title('a',pad=20,fontsize=12,fontweight='bold')\n",
    "\n",
    "# Draw P-value heat map\n",
    "ax = sns.heatmap(Pval_out,cmap=\"YlGnBu\",\n",
    "                 square=True,\n",
    "                 annot=True,\n",
    "                 linewidths=.5, \n",
    "                 cbar_kws={\"shrink\": .6,\"label\": '-log10()'},\n",
    "                 ax=axes[1],vmin=0,vmax=12)\n",
    "\n",
    "cbar = ax.collections[0].colorbar\n",
    "cbar.set_ticks([0, 4, 8, 12])\n",
    "cbar.set_ticklabels(['0', '4', '8', '>12'])\n",
    "\n",
    "axes[1].set_yticks([x+0.5 for x in range(len(kappa_df.columns))])\n",
    "axes[1].set_yticklabels(kappa_df.columns,rotation=0)\n",
    "#axes[1].set_title('P-Values FDR corrected of Cohens Kappa score',pad=20,fontsize=12)\n",
    "axes[1].set_title('b',pad=20,fontsize=12,fontweight='bold')\n",
    "\n",
    "# Caption\n",
    "txt = '''\n",
    "    Fig1: Kappa matrix for 2 raters PB & YB and 2 preprocessing pipelines (NIAK & Athena) - The Kappa score  beteween \n",
    "            raters  point  toward a substantial agreement. The  NIAK  preprocessed  images  have higher  agreement then\n",
    "            the Athena  preprocessed one. '''\n",
    "#f.text(.1,0.13,txt,fontsize=12)\n",
    "# Save figure\n",
    "f.savefig('../reports/figures/Supplementary/pilot1_Kappa_YB_PB.svg')\n"
   ]
  },
  {
   "cell_type": "code",
   "execution_count": 62,
   "metadata": {},
   "outputs": [
    {
     "data": {
      "text/plain": [
       "array([[0.00000000e+00, 0.00000000e+00, 5.99520433e-15, 5.01843012e-12],\n",
       "       [0.00000000e+00, 0.00000000e+00, 4.45453806e-05, 2.62787125e-10],\n",
       "       [5.99520433e-15, 4.45453806e-05, 0.00000000e+00, 0.00000000e+00],\n",
       "       [5.01843012e-12, 2.62787125e-10, 0.00000000e+00, 0.00000000e+00]])"
      ]
     },
     "execution_count": 62,
     "metadata": {},
     "output_type": "execute_result"
    }
   ],
   "source": [
    "Pval_store"
   ]
  },
  {
   "cell_type": "code",
   "execution_count": 82,
   "metadata": {},
   "outputs": [
    {
     "data": {
      "image/png": "[encoded data removed]",
      "text/plain": [
       "<Figure size 504x360 with 2 Axes>"
      ]
     },
     "metadata": {},
     "output_type": "display_data"
    }
   ],
   "source": [
    "# Plot kappa matrix\n",
    "kappa_store, Pval_store = kappa_score(kappa_df,log10=False)\n",
    "kappa_out = pd.DataFrame(kappa_store, \n",
    "                         index=kappa_df.columns.get_values(),\n",
    "                         columns=kappa_df.columns.get_values())\n",
    "\n",
    "\n",
    "# Set up the matplotlib figure\n",
    "f, axes = plt.subplots(figsize = (7,5))\n",
    "f.subplots_adjust(hspace= .8)\n",
    "\n",
    "f.suptitle('Pilot1 QC',x=0.49,y=1.05, fontsize=14, fontweight='bold')\n",
    "# Draw kappa heat map\n",
    "sns.heatmap(kappa_out,vmin=0,vmax=1,cmap=\"YlGnBu\",\n",
    "            square=True,\n",
    "            annot=True,\n",
    "            linewidths=.5, \n",
    "            cbar_kws={\"shrink\": .9,\"label\": \"Cohen's Kappa\"}, \n",
    "            ax=axes)\n",
    "axes.set_yticks([x+0.5 for x in range(len(kappa_df.columns))])\n",
    "axes.set_yticklabels(kappa_df.columns,rotation=0)\n",
    "axes.set_title(\"Cohen's Kappa matrix for 2 raters (PB & YB)\",pad=20,fontsize=12)\n",
    "\n",
    "# Caption\n",
    "txt = '''\n",
    "    Fig1: Kappa matrix for 2 raters PB & YB and 2 preprocessing \n",
    "            pipelines (NIAK & Athena) - The Kappa score  beteween \n",
    "            raters  point toward a substantial agreement. The NIAK\n",
    "            preprocessed images have higher  agreement then the \n",
    "            Athena  preprocessed one. Kappa's P-values FDR \n",
    "            corrected range from {:.2g} to {:.2g} '''.format(Pval_store.min(),\n",
    "                                                   Pval_store.max())\n",
    "f.text(.1,-0.2,txt,fontsize=12)\n",
    "# Save figure\n",
    "f.savefig('../reports/figures/pilot1_qc.svg')\n"
   ]
  },
  {
   "cell_type": "code",
   "execution_count": 52,
   "metadata": {},
   "outputs": [
    {
     "data": {
      "text/html": [
       "<img src=\"https://i.stack.imgur.com/kYNd6.png\" width=\"600\" height=\"600\"/>"
      ],
      "text/plain": [
       "<IPython.core.display.Image object>"
      ]
     },
     "execution_count": 52,
     "metadata": {},
     "output_type": "execute_result"
    }
   ],
   "source": [
    "from IPython.display import Image\n",
    "Image(url= \"https://i.stack.imgur.com/kYNd6.png\" ,width=600, height=600)"
   ]
  },
  {
   "cell_type": "code",
   "execution_count": null,
   "metadata": {},
   "outputs": [],
   "source": []
  },
  {
   "cell_type": "code",
   "execution_count": null,
   "metadata": {},
   "outputs": [],
   "source": []
  }
 ],
 "metadata": {
  "kernelspec": {
   "display_name": "Python 3",
   "language": "python",
   "name": "python3"
  },
  "language_info": {
   "codemirror_mode": {
    "name": "ipython",
    "version": 3
   },
   "file_extension": ".py",
   "mimetype": "text/x-python",
   "name": "python",
   "nbconvert_exporter": "python",
   "pygments_lexer": "ipython3",
   "version": "3.5.2"
  }
 },
 "nbformat": 4,
 "nbformat_minor": 2
}
