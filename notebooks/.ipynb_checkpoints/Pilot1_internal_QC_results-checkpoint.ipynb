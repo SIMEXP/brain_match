{
 "cells": [
  {
   "cell_type": "markdown",
   "metadata": {},
   "source": [
    "### EXP: Pilote1 QC rating "
   ]
  },
  {
   "cell_type": "markdown",
   "metadata": {},
   "source": [
    "- **Aim:** Test reliability of quality control (QC) of brain registration ratings between two experts raters (PB: Pierre Bellec, YB: Yassine Benahajali) based on internaly drafted qc protocol( ref: https://figshare.com/articles/Quality_Control_and_assessment_of_the_NIAK_functional_MRI_preprocessing_pipeline/4204845/1 ).\n",
    "\n",
    "- **Exp:** \n",
    "    - 220 anatomical brain images from ADHD200 dataset preprocced with two differents pipelines (NIAK and Athena).\n",
    "    - Each rater (PB and YB) rated (OK, Maybe or Fail) both NIAK and Athena images using volume based visualization tool (register) from minctools."
   ]
  },
  {
   "cell_type": "code",
   "execution_count": 654,
   "metadata": {},
   "outputs": [],
   "source": [
    "import os\n",
    "import pandas as pd\n",
    "import numpy as np\n",
    "import itertools\n",
    "import seaborn as sns\n",
    "from sklearn import metrics\n",
    "from matplotlib import gridspec as gs\n",
    "import matplotlib.pyplot as plt"
   ]
  },
  {
   "cell_type": "code",
   "execution_count": 655,
   "metadata": {},
   "outputs": [
    {
     "name": "stdout",
     "output_type": "stream",
     "text": [
      "The rpy2.ipython extension is already loaded. To reload it, use:\n",
      "  %reload_ext rpy2.ipython\n"
     ]
    }
   ],
   "source": [
    "%matplotlib inline\n",
    "%load_ext rpy2.ipython\n",
    "sns.set(style=\"white\")"
   ]
  },
  {
   "cell_type": "code",
   "execution_count": 656,
   "metadata": {},
   "outputs": [
    {
     "data": {
      "text/html": [
       "<div>\n",
       "<style scoped>\n",
       "    .dataframe tbody tr th:only-of-type {\n",
       "        vertical-align: middle;\n",
       "    }\n",
       "\n",
       "    .dataframe tbody tr th {\n",
       "        vertical-align: top;\n",
       "    }\n",
       "\n",
       "    .dataframe thead th {\n",
       "        text-align: right;\n",
       "    }\n",
       "</style>\n",
       "<table border=\"1\" class=\"dataframe\">\n",
       "  <thead>\n",
       "    <tr style=\"text-align: right;\">\n",
       "      <th></th>\n",
       "      <th>id_subject</th>\n",
       "      <th>status_Athena</th>\n",
       "      <th>status_NIAK</th>\n",
       "      <th>status_Athena.1</th>\n",
       "      <th>status_NIAK.1</th>\n",
       "    </tr>\n",
       "  </thead>\n",
       "  <tbody>\n",
       "    <tr>\n",
       "      <th>0</th>\n",
       "      <td>X0026001</td>\n",
       "      <td>Maybe</td>\n",
       "      <td>Maybe</td>\n",
       "      <td>Maybe</td>\n",
       "      <td>Maybe</td>\n",
       "    </tr>\n",
       "    <tr>\n",
       "      <th>1</th>\n",
       "      <td>X0026002</td>\n",
       "      <td>Maybe</td>\n",
       "      <td>Maybe</td>\n",
       "      <td>Maybe</td>\n",
       "      <td>Maybe</td>\n",
       "    </tr>\n",
       "    <tr>\n",
       "      <th>2</th>\n",
       "      <td>X0026004</td>\n",
       "      <td>Maybe</td>\n",
       "      <td>Maybe</td>\n",
       "      <td>Maybe</td>\n",
       "      <td>Maybe</td>\n",
       "    </tr>\n",
       "    <tr>\n",
       "      <th>3</th>\n",
       "      <td>X0026005</td>\n",
       "      <td>Maybe</td>\n",
       "      <td>Maybe</td>\n",
       "      <td>Maybe</td>\n",
       "      <td>Maybe</td>\n",
       "    </tr>\n",
       "    <tr>\n",
       "      <th>4</th>\n",
       "      <td>X0026009</td>\n",
       "      <td>Maybe</td>\n",
       "      <td>Maybe</td>\n",
       "      <td>Maybe</td>\n",
       "      <td>Maybe</td>\n",
       "    </tr>\n",
       "  </tbody>\n",
       "</table>\n",
       "</div>"
      ],
      "text/plain": [
       "  id_subject status_Athena status_NIAK status_Athena.1 status_NIAK.1\n",
       "0   X0026001         Maybe       Maybe           Maybe         Maybe\n",
       "1   X0026002         Maybe       Maybe           Maybe         Maybe\n",
       "2   X0026004         Maybe       Maybe           Maybe         Maybe\n",
       "3   X0026005         Maybe       Maybe           Maybe         Maybe\n",
       "4   X0026009         Maybe       Maybe           Maybe         Maybe"
      ]
     },
     "execution_count": 656,
     "metadata": {},
     "output_type": "execute_result"
    }
   ],
   "source": [
    "# Read raw table\n",
    "ratings = pd.read_csv('../data/rating/Pilot_QC_Pierre_Yassine-12-10-2018.csv')\n",
    "ratings.head()"
   ]
  },
  {
   "cell_type": "code",
   "execution_count": 657,
   "metadata": {},
   "outputs": [
    {
     "data": {
      "text/html": [
       "<div>\n",
       "<style scoped>\n",
       "    .dataframe tbody tr th:only-of-type {\n",
       "        vertical-align: middle;\n",
       "    }\n",
       "\n",
       "    .dataframe tbody tr th {\n",
       "        vertical-align: top;\n",
       "    }\n",
       "\n",
       "    .dataframe thead th {\n",
       "        text-align: right;\n",
       "    }\n",
       "</style>\n",
       "<table border=\"1\" class=\"dataframe\">\n",
       "  <thead>\n",
       "    <tr style=\"text-align: right;\">\n",
       "      <th></th>\n",
       "      <th>id_subject</th>\n",
       "      <th>PB_Athena</th>\n",
       "      <th>PB_NIAK</th>\n",
       "      <th>YB_Athena</th>\n",
       "      <th>YB_NIAK</th>\n",
       "    </tr>\n",
       "  </thead>\n",
       "  <tbody>\n",
       "    <tr>\n",
       "      <th>count</th>\n",
       "      <td>220</td>\n",
       "      <td>220</td>\n",
       "      <td>220</td>\n",
       "      <td>220</td>\n",
       "      <td>220</td>\n",
       "    </tr>\n",
       "    <tr>\n",
       "      <th>unique</th>\n",
       "      <td>220</td>\n",
       "      <td>4</td>\n",
       "      <td>4</td>\n",
       "      <td>3</td>\n",
       "      <td>3</td>\n",
       "    </tr>\n",
       "    <tr>\n",
       "      <th>top</th>\n",
       "      <td>X0020015</td>\n",
       "      <td>Maybe</td>\n",
       "      <td>OK</td>\n",
       "      <td>Maybe</td>\n",
       "      <td>OK</td>\n",
       "    </tr>\n",
       "    <tr>\n",
       "      <th>freq</th>\n",
       "      <td>1</td>\n",
       "      <td>109</td>\n",
       "      <td>147</td>\n",
       "      <td>110</td>\n",
       "      <td>146</td>\n",
       "    </tr>\n",
       "  </tbody>\n",
       "</table>\n",
       "</div>"
      ],
      "text/plain": [
       "       id_subject PB_Athena PB_NIAK YB_Athena YB_NIAK\n",
       "count         220       220     220       220     220\n",
       "unique        220         4       4         3       3\n",
       "top      X0020015     Maybe      OK     Maybe      OK\n",
       "freq            1       109     147       110     146"
      ]
     },
     "execution_count": 657,
     "metadata": {},
     "output_type": "execute_result"
    }
   ],
   "source": [
    "# Rename columns\n",
    "ratings.rename(index=str, columns={\"status_Athena\": \"PB_Athena\", \"status_NIAK\": \"PB_NIAK\",\n",
    "                                   \"status_Athena.1\": \"YB_Athena\", \"status_NIAK.1\": \"YB_NIAK\"},inplace=True)\n",
    "ratings.describe()"
   ]
  },
  {
   "cell_type": "code",
   "execution_count": 658,
   "metadata": {},
   "outputs": [
    {
     "data": {
      "text/html": [
       "<div>\n",
       "<style scoped>\n",
       "    .dataframe tbody tr th:only-of-type {\n",
       "        vertical-align: middle;\n",
       "    }\n",
       "\n",
       "    .dataframe tbody tr th {\n",
       "        vertical-align: top;\n",
       "    }\n",
       "\n",
       "    .dataframe thead th {\n",
       "        text-align: right;\n",
       "    }\n",
       "</style>\n",
       "<table border=\"1\" class=\"dataframe\">\n",
       "  <thead>\n",
       "    <tr style=\"text-align: right;\">\n",
       "      <th></th>\n",
       "      <th>id_subject</th>\n",
       "      <th>PB_Athena</th>\n",
       "      <th>PB_NIAK</th>\n",
       "      <th>YB_Athena</th>\n",
       "      <th>YB_NIAK</th>\n",
       "    </tr>\n",
       "  </thead>\n",
       "  <tbody>\n",
       "    <tr>\n",
       "      <th>count</th>\n",
       "      <td>220</td>\n",
       "      <td>220</td>\n",
       "      <td>220</td>\n",
       "      <td>220</td>\n",
       "      <td>220</td>\n",
       "    </tr>\n",
       "    <tr>\n",
       "      <th>unique</th>\n",
       "      <td>220</td>\n",
       "      <td>3</td>\n",
       "      <td>3</td>\n",
       "      <td>3</td>\n",
       "      <td>3</td>\n",
       "    </tr>\n",
       "    <tr>\n",
       "      <th>top</th>\n",
       "      <td>X0020015</td>\n",
       "      <td>Maybe</td>\n",
       "      <td>OK</td>\n",
       "      <td>Maybe</td>\n",
       "      <td>OK</td>\n",
       "    </tr>\n",
       "    <tr>\n",
       "      <th>freq</th>\n",
       "      <td>1</td>\n",
       "      <td>109</td>\n",
       "      <td>147</td>\n",
       "      <td>110</td>\n",
       "      <td>146</td>\n",
       "    </tr>\n",
       "  </tbody>\n",
       "</table>\n",
       "</div>"
      ],
      "text/plain": [
       "       id_subject PB_Athena PB_NIAK YB_Athena YB_NIAK\n",
       "count         220       220     220       220     220\n",
       "unique        220         3       3         3       3\n",
       "top      X0020015     Maybe      OK     Maybe      OK\n",
       "freq            1       109     147       110     146"
      ]
     },
     "execution_count": 658,
     "metadata": {},
     "output_type": "execute_result"
    }
   ],
   "source": [
    "# Strip wite sapces \n",
    "ratings['PB_Athena'] = ratings['PB_Athena'].str.strip()\n",
    "ratings['PB_NIAK'] = ratings['PB_NIAK'].str.strip()\n",
    "ratings.describe()"
   ]
  },
  {
   "cell_type": "code",
   "execution_count": 659,
   "metadata": {},
   "outputs": [],
   "source": [
    "# Add matching column between the raters for each of the preprocessing pipeline\n",
    "ratings.loc[:,\"rating_match_NIAK\"] = ratings.loc[:,['PB_NIAK','YB_NIAK']].apply(lambda x: len(set(x)) == 1, axis=1)\n",
    "ratings.loc[:,\"rating_match_Athena\"] = ratings.loc[:,['PB_Athena','YB_Athena']].apply(lambda x: len(set(x)) == 1, axis=1)"
   ]
  },
  {
   "cell_type": "code",
   "execution_count": 7,
   "metadata": {},
   "outputs": [
    {
     "data": {
      "text/html": [
       "<div>\n",
       "<style scoped>\n",
       "    .dataframe tbody tr th:only-of-type {\n",
       "        vertical-align: middle;\n",
       "    }\n",
       "\n",
       "    .dataframe tbody tr th {\n",
       "        vertical-align: top;\n",
       "    }\n",
       "\n",
       "    .dataframe thead th {\n",
       "        text-align: right;\n",
       "    }\n",
       "</style>\n",
       "<table border=\"1\" class=\"dataframe\">\n",
       "  <thead>\n",
       "    <tr style=\"text-align: right;\">\n",
       "      <th></th>\n",
       "      <th>id_subject</th>\n",
       "      <th>PB_Athena</th>\n",
       "      <th>PB_NIAK</th>\n",
       "      <th>YB_Athena</th>\n",
       "      <th>YB_NIAK</th>\n",
       "      <th>rating_match_NIAK</th>\n",
       "      <th>rating_match_Athena</th>\n",
       "    </tr>\n",
       "  </thead>\n",
       "  <tbody>\n",
       "    <tr>\n",
       "      <th>215</th>\n",
       "      <td>X0010100</td>\n",
       "      <td>1</td>\n",
       "      <td>1</td>\n",
       "      <td>1</td>\n",
       "      <td>1</td>\n",
       "      <td>True</td>\n",
       "      <td>True</td>\n",
       "    </tr>\n",
       "    <tr>\n",
       "      <th>216</th>\n",
       "      <td>X0010101</td>\n",
       "      <td>2</td>\n",
       "      <td>1</td>\n",
       "      <td>1</td>\n",
       "      <td>1</td>\n",
       "      <td>True</td>\n",
       "      <td>False</td>\n",
       "    </tr>\n",
       "    <tr>\n",
       "      <th>217</th>\n",
       "      <td>X0010102</td>\n",
       "      <td>2</td>\n",
       "      <td>1</td>\n",
       "      <td>2</td>\n",
       "      <td>1</td>\n",
       "      <td>True</td>\n",
       "      <td>True</td>\n",
       "    </tr>\n",
       "    <tr>\n",
       "      <th>218</th>\n",
       "      <td>X0010103</td>\n",
       "      <td>2</td>\n",
       "      <td>1</td>\n",
       "      <td>2</td>\n",
       "      <td>1</td>\n",
       "      <td>True</td>\n",
       "      <td>True</td>\n",
       "    </tr>\n",
       "    <tr>\n",
       "      <th>219</th>\n",
       "      <td>X0010104</td>\n",
       "      <td>1</td>\n",
       "      <td>1</td>\n",
       "      <td>1</td>\n",
       "      <td>1</td>\n",
       "      <td>True</td>\n",
       "      <td>True</td>\n",
       "    </tr>\n",
       "  </tbody>\n",
       "</table>\n",
       "</div>"
      ],
      "text/plain": [
       "    id_subject  PB_Athena  PB_NIAK  YB_Athena  YB_NIAK  rating_match_NIAK  \\\n",
       "215   X0010100          1        1          1        1               True   \n",
       "216   X0010101          2        1          1        1               True   \n",
       "217   X0010102          2        1          2        1               True   \n",
       "218   X0010103          2        1          2        1               True   \n",
       "219   X0010104          1        1          1        1               True   \n",
       "\n",
       "     rating_match_Athena  \n",
       "215                 True  \n",
       "216                False  \n",
       "217                 True  \n",
       "218                 True  \n",
       "219                 True  "
      ]
     },
     "execution_count": 7,
     "metadata": {},
     "output_type": "execute_result"
    }
   ],
   "source": [
    "# Replace OK with 1 , Maybe with 2 and Fail with 3\n",
    "ratings.replace({'OK':1,'Maybe':2, 'Fail':3}, inplace=True)\n",
    "ratings.tail()"
   ]
  },
  {
   "cell_type": "code",
   "execution_count": 482,
   "metadata": {},
   "outputs": [
    {
     "name": "stdout",
     "output_type": "stream",
     "text": [
      "The percentage of agreement for Athena preprocessed images is: 76.82\n",
      "The percentage of agreement for NIAK preprocessed images is: 85.45\n"
     ]
    }
   ],
   "source": [
    "# calculate the percentage of agreement  between raters for each pipeline\n",
    "agreem_ = (ratings.rating_match_Athena.sum()/ratings.id_subject.count())*100\n",
    "print(\"The percentage of agreement for Athena preprocessed images is: {:.2f}\".format(agreem_))\n",
    "agreem_ = (ratings.rating_match_NIAK.sum()/ratings.id_subject.count())*100\n",
    "print(\"The percentage of agreement for NIAK preprocessed images is: {:.2f}\".format(agreem_))"
   ]
  },
  {
   "cell_type": "code",
   "execution_count": 666,
   "metadata": {},
   "outputs": [
    {
     "name": "stdout",
     "output_type": "stream",
     "text": [
      "NIAK\n",
      " Percentage agreement (Tolerance=0)\n",
      "\n",
      " Subjects = 220 \n",
      "   Raters = 2 \n",
      "  %-agree = 85.5 \n",
      "\n",
      "Athena\n",
      " Percentage agreement (Tolerance=0)\n",
      "\n",
      " Subjects = 220 \n",
      "   Raters = 2 \n",
      "  %-agree = 76.8 \n",
      "\n"
     ]
    },
    {
     "data": {
      "text/plain": [
       "(None, None)"
      ]
     },
     "execution_count": 666,
     "metadata": {},
     "output_type": "execute_result"
    }
   ],
   "source": [
    "# Percenteage of agrrement between raters\n",
    "agree_niak = ratings[['PB_NIAK','YB_NIAK']]\n",
    "agree_athena = ratings[['PB_Athena','YB_Athena']]\n",
    "%Rpush agree_niak agree_athena\n",
    "agree_n = %R agree(agree_niak)\n",
    "agree_a = %R agree(agree_athena)\n",
    "print('NIAK'),print(agree_n)\n",
    "print('Athena'),print(agree_a)"
   ]
  },
  {
   "cell_type": "code",
   "execution_count": 667,
   "metadata": {},
   "outputs": [],
   "source": [
    "%%R\n",
    "suppressPackageStartupMessages(library(dplyr))\n",
    "#install.packages(\"irr\") \n",
    "library(irr)"
   ]
  },
  {
   "cell_type": "code",
   "execution_count": 668,
   "metadata": {},
   "outputs": [],
   "source": [
    "def kappa_score(k_df):\n",
    "    '''compute Kappa between diferent raters organized in dataframe'''\n",
    "    k_store = np.zeros((len(k_df.columns), len(k_df.columns)))\n",
    "    p_store = np.zeros((len(k_df.columns), len(k_df.columns)))\n",
    "    %Rpush k_df\n",
    "    for user1_id, user1 in enumerate(k_df.columns):\n",
    "        for user2_id, user2 in enumerate(k_df.columns):\n",
    "            %Rpush user1_id user1 user2_id user2\n",
    "            kappaR =  %R kappa2(k_df[,c(user1,user2)],c(0,1,2))\n",
    "            #kappa = metrics.cohen_kappa_score(list(k_df[user1]),list(k_df[user2]))\n",
    "            # store the kappa\n",
    "            k_store[user1_id, user2_id] = [kappaR[x][0] for x in range(np.shape(kappaR)[0])][4]\n",
    "            p_store[user1_id, user2_id] = [kappaR[x][0] for x in range(np.shape(kappaR)[0])][-1]\n",
    "    return k_store, p_store"
   ]
  },
  {
   "cell_type": "code",
   "execution_count": 669,
   "metadata": {},
   "outputs": [
    {
     "name": "stdout",
     "output_type": "stream",
     "text": [
      "Mean Kappa : 0.58 , std : 0.28\n",
      "\n",
      " Fleiss' Kappa for m Raters\n",
      "\n",
      " Subjects = 220 \n",
      "   Raters = 4 \n",
      "    Kappa = 0.412 \n",
      "\n",
      "        z = 17.1 \n",
      "  p-value = 0 \n",
      "\n"
     ]
    }
   ],
   "source": [
    "# Get Kappa score out of all different combination of ratings\n",
    "kappa_df  = ratings[['PB_Athena','YB_Athena','PB_NIAK','YB_NIAK']]\n",
    "kappa_store, Pval_store = kappa_score(kappa_df)\n",
    "print('Mean Kappa : {0:.2f} , std : {1:.2f}\\n'.format(kappa_store.mean(), kappa_store.std()))\n",
    "\n",
    "#calculte the over all kappa values of all ratings\n",
    "%Rpush kappa_df\n",
    "fleiss_kappa = %R kappam.fleiss(kappa_df)\n",
    "print(fleiss_kappa)"
   ]
  },
  {
   "cell_type": "code",
   "execution_count": 670,
   "metadata": {},
   "outputs": [],
   "source": [
    "from statsmodels.sandbox.stats import multicomp as smi\n",
    "\n",
    "def fdr_transf(mat,log10 = True):\n",
    "    '''compute fdr of a given matrix'''\n",
    "    \n",
    "    row = mat.shape[0]\n",
    "    col = mat.shape[1]\n",
    "    flatt = mat.flatten()\n",
    "    fdr_2d = smi.multipletests(flatt, alpha=0.05, method='fdr_bh')[1]\n",
    "    if log10 == True:\n",
    "        fdr_2d = [-np.log10(ii) if ii != 0 else 50for ii in fdr_2d  ]\n",
    "    fdr_3d = np.reshape(fdr_2d,(row,col))\n",
    "    return fdr_3d"
   ]
  },
  {
   "cell_type": "code",
   "execution_count": 689,
   "metadata": {},
   "outputs": [
    {
     "data": {
      "image/png": "[encoded data removed]",
      "text/plain": [
       "<Figure size 936x576 with 4 Axes>"
      ]
     },
     "metadata": {},
     "output_type": "display_data"
    }
   ],
   "source": [
    "# Plot kappa matrix\n",
    "kappa_out = pd.DataFrame(kappa_store, \n",
    "                         index=kappa_df.columns.get_values(),\n",
    "                         columns=kappa_df.columns.get_values())\n",
    "Pval_out = pd.DataFrame(fdr_transf(Pval_store), \n",
    "                         index=kappa_df.columns.get_values(),\n",
    "                         columns=kappa_df.columns.get_values())\n",
    "\n",
    "\n",
    "\n",
    "# Set up the matplotlib figure\n",
    "f, axes = plt.subplots(1, 2,figsize = (13,8))\n",
    "f.subplots_adjust(hspace= .8)\n",
    "\n",
    "f.suptitle('Pilot1 QC',x=0.49,y=.87, fontsize=14, fontweight='bold')\n",
    "# Draw kappa heat map\n",
    "sns.heatmap(kappa_out,vmin=0,vmax=1,cmap=\"YlGnBu\",\n",
    "            square=True,annot=True,\n",
    "            linewidths=.5, cbar_kws={\"shrink\": .6}, ax=axes[0])\n",
    "axes[0].set_yticks([x+0.5 for x in range(len(kappa_df.columns))])\n",
    "axes[0].set_yticklabels(kappa_df.columns,rotation=0)\n",
    "axes[0].set_title('Kappa matrix for 2 raters (PB & YB) \\n and 2 pipelines',pad=20,fontsize=12)\n",
    "\n",
    "# Draw P-value heat map\n",
    "ax = sns.heatmap(Pval_out,cmap=\"YlGnBu\",\n",
    "            square=True,annot=True,\n",
    "            linewidths=.5, cbar_kws={\"shrink\": .6}, ax=axes[1],vmin=0,vmax=12)\n",
    "\n",
    "cbar = ax.collections[0].colorbar\n",
    "cbar.set_ticks([0, 4, 8, 12])\n",
    "cbar.set_ticklabels(['0', '4', '8', '>12'])\n",
    "\n",
    "axes[1].set_yticks([x+0.5 for x in range(len(kappa_df.columns))])\n",
    "axes[1].set_yticklabels(kappa_df.columns,rotation=0)\n",
    "axes[1].set_title('-log10 of P-Values FDR corrected',pad=20,fontsize=12)\n",
    "\n",
    "# Caption\n",
    "txt = '''\n",
    "    Fig1: Kappa matrix for 2 raters PB & YB - The Kappa score  beteween raters  point  toward a substantial agreement. \n",
    "            The  NIAK  preprocessed  images  have higher  agreement  then  the Athena  preprocessed one. '''\n",
    "f.text(.1,0.15,txt,fontsize=12)\n",
    "# Save figure\n",
    "f.savefig('../reports/figures/pilot_qc.svg')\n"
   ]
  },
  {
   "cell_type": "code",
   "execution_count": 495,
   "metadata": {},
   "outputs": [
    {
     "data": {
      "text/html": [
       "<img src=\"https://i.stack.imgur.com/kYNd6.png\" width=\"600\" height=\"600\"/>"
      ],
      "text/plain": [
       "<IPython.core.display.Image object>"
      ]
     },
     "execution_count": 495,
     "metadata": {},
     "output_type": "execute_result"
    }
   ],
   "source": [
    "from IPython.display import Image\n",
    "Image(url= \"https://i.stack.imgur.com/kYNd6.png\" ,width=600, height=600)"
   ]
  }
 ],
 "metadata": {
  "kernelspec": {
   "display_name": "Python 3",
   "language": "python",
   "name": "python3"
  },
  "language_info": {
   "codemirror_mode": {
    "name": "ipython",
    "version": 3
   },
   "file_extension": ".py",
   "mimetype": "text/x-python",
   "name": "python",
   "nbconvert_exporter": "python",
   "pygments_lexer": "ipython3",
   "version": "3.5.2"
  }
 },
 "nbformat": 4,
 "nbformat_minor": 2
}
