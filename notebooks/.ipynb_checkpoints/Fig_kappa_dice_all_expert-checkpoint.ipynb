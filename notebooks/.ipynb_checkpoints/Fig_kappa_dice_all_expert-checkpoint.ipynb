{
 "cells": [
  {
   "cell_type": "markdown",
   "metadata": {},
   "source": [
    "### EXP: kappa and dice for all experts raters"
   ]
  },
  {
   "cell_type": "code",
   "execution_count": 1,
   "metadata": {},
   "outputs": [],
   "source": [
    "import os\n",
    "import pandas as pd\n",
    "import numpy as np\n",
    "import json\n",
    "import itertools\n",
    "import seaborn as sns\n",
    "from sklearn import metrics\n",
    "from matplotlib import gridspec as gs\n",
    "import matplotlib.pyplot as plt\n",
    "from functools import reduce"
   ]
  },
  {
   "cell_type": "code",
   "execution_count": 2,
   "metadata": {},
   "outputs": [],
   "source": [
    "%matplotlib inline\n",
    "%load_ext rpy2.ipython\n",
    "sns.set(style=\"white\")"
   ]
  },
  {
   "cell_type": "code",
   "execution_count": 3,
   "metadata": {},
   "outputs": [],
   "source": [
    "def CustomParser(data):\n",
    "    j1 = json.loads(data)\n",
    "    return j1"
   ]
  },
  {
   "cell_type": "code",
   "execution_count": 4,
   "metadata": {},
   "outputs": [],
   "source": [
    "# Read raw table\n",
    "classifications = pd.read_csv('../data/rating/brain-match-classifications-12-10-2018.csv', \n",
    "                              converters={'metadata':CustomParser,\n",
    "                                          'annotations':CustomParser,\n",
    "                                          'subject_data':CustomParser},\n",
    "                              header=0)"
   ]
  },
  {
   "cell_type": "code",
   "execution_count": 5,
   "metadata": {},
   "outputs": [
    {
     "data": {
      "text/plain": [
       "array(['Spot anatomical differences', 'Spot functional differences',\n",
       "       'anat_internal_rating_pierre', 'anat_internal_rating_yassine',\n",
       "       'Training Session', 'Basile', 'Benjamin', 'Maxime', 'Angela',\n",
       "       'Sara', 'Pierre_func_rate_1', 'Pierre_anat_rate1',\n",
       "       'Yassine_func_rate_1', 'Pierre_func_rate_2', 'Start Project',\n",
       "       'Start Project 1', 'Expert Project 1', 'Expert Project 2',\n",
       "       'Start Project 2'], dtype=object)"
      ]
     },
     "execution_count": 5,
     "metadata": {},
     "output_type": "execute_result"
    }
   ],
   "source": [
    "# List all workflows \n",
    "classifications.workflow_name.unique()"
   ]
  },
  {
   "cell_type": "code",
   "execution_count": 6,
   "metadata": {},
   "outputs": [
    {
     "data": {
      "text/plain": [
       "classification_id    1247\n",
       "user_name            1247\n",
       "user_id              1247\n",
       "user_ip              1247\n",
       "workflow_id          1247\n",
       "workflow_name        1247\n",
       "workflow_version     1247\n",
       "created_at           1247\n",
       "gold_standard           0\n",
       "expert                  0\n",
       "metadata             1247\n",
       "annotations          1247\n",
       "subject_data         1247\n",
       "subject_ids          1247\n",
       "dtype: int64"
      ]
     },
     "execution_count": 6,
     "metadata": {},
     "output_type": "execute_result"
    }
   ],
   "source": [
    "# Get 3 experts from full launch workflow\n",
    "ratings_sp1 =  classifications.loc[classifications['workflow_name'].isin(['Start Project 1'])]\n",
    "ratings_sp1 = ratings_sp1[ratings_sp1.user_name.isin([ 'colezweber','ppf'])]\n",
    "# Get rating from first expert workflow\n",
    "ratings_ep1 = classifications.loc[classifications['workflow_name'].isin(['Expert Project 1'])]\n",
    "ratings_ep1 = ratings_ep1[ratings_ep1.user_name.isin(['angelatam', 'jenichen', 'ppf','abadhwar'])]\n",
    "ratings = ratings_sp1.append(ratings_ep1)\n",
    "# Get rating from second expert workflow\n",
    "ratings_ep2 = classifications.loc[classifications['workflow_name'].isin(['Expert Project 2'])]\n",
    "ratings = ratings.append(ratings_ep2)\n",
    "ratings.count()"
   ]
  },
  {
   "cell_type": "code",
   "execution_count": 7,
   "metadata": {},
   "outputs": [],
   "source": [
    "# extract tagging count\n",
    "ratings.loc[:,\"n_tagging\"] = [ len(q[0]['value']) for q in ratings.annotations]\n",
    "# extract rating count\n",
    "ratings.loc[:,\"rating\"] = [ q[1]['value'] for q in ratings.annotations]\n",
    "# extract subjects id\n",
    "ratings.loc[:,\"ID\"] = [ row.subject_data[str(ratings.subject_ids.loc[ind])]['subject_ID'] for ind,row in ratings.iterrows()]\n",
    "# extract files name\n",
    "ratings.loc[:,\"imgnm\"] = [ row.subject_data[str(ratings.subject_ids.loc[ind])]['image1'] for ind,row in ratings.iterrows()]"
   ]
  },
  {
   "cell_type": "code",
   "execution_count": 8,
   "metadata": {},
   "outputs": [],
   "source": [
    "# Remove non-experts\n",
    "ratings = ratings[~ratings.user_name.isin(['crocodoyle',\n",
    "                                           'alinanaseer',\n",
    "                                           'EloiPrevost',\n",
    "                                           'venguix',\n",
    "                                           'ashherr17'])]"
   ]
  },
  {
   "cell_type": "code",
   "execution_count": 9,
   "metadata": {},
   "outputs": [
    {
     "data": {
      "text/plain": [
       "ppf           213\n",
       "colezweber    149\n",
       "surchs        105\n",
       "cmakowski     102\n",
       "emdupre       102\n",
       "paulej        102\n",
       "angelatam     101\n",
       "abadhwar      100\n",
       "jenichen      100\n",
       "Name: user_name, dtype: int64"
      ]
     },
     "execution_count": 9,
     "metadata": {},
     "output_type": "execute_result"
    }
   ],
   "source": [
    "# How many rating per user\n",
    "user_count = ratings.user_name.value_counts()\n",
    "user_count"
   ]
  },
  {
   "cell_type": "code",
   "execution_count": 10,
   "metadata": {},
   "outputs": [
    {
     "data": {
      "text/plain": [
       "ppf           213\n",
       "colezweber    149\n",
       "surchs        105\n",
       "cmakowski     102\n",
       "emdupre       102\n",
       "paulej        102\n",
       "angelatam     101\n",
       "abadhwar      100\n",
       "jenichen      100\n",
       "Name: user_name, dtype: int64"
      ]
     },
     "execution_count": 10,
     "metadata": {},
     "output_type": "execute_result"
    }
   ],
   "source": [
    "#select only users that have rated a certain ammount of images \n",
    "list_user = user_count.index\n",
    "list_user = list_user[user_count.values>=10]\n",
    "user_count[list_user]"
   ]
  },
  {
   "cell_type": "code",
   "execution_count": 11,
   "metadata": {},
   "outputs": [
    {
     "data": {
      "text/plain": [
       "classification_id    1074\n",
       "user_name            1074\n",
       "user_id              1074\n",
       "user_ip              1074\n",
       "workflow_id          1074\n",
       "workflow_name        1074\n",
       "workflow_version     1074\n",
       "created_at           1074\n",
       "gold_standard           0\n",
       "expert                  0\n",
       "metadata             1074\n",
       "annotations          1074\n",
       "subject_data         1074\n",
       "subject_ids          1074\n",
       "n_tagging            1074\n",
       "rating               1074\n",
       "ID                   1074\n",
       "imgnm                1074\n",
       "dtype: int64"
      ]
     },
     "execution_count": 11,
     "metadata": {},
     "output_type": "execute_result"
    }
   ],
   "source": [
    "# remove users with less rating then the selected threshold\n",
    "ratings = ratings[ratings.user_name.isin(list_user)]\n",
    "ratings.count()"
   ]
  },
  {
   "cell_type": "code",
   "execution_count": 12,
   "metadata": {},
   "outputs": [
    {
     "name": "stdout",
     "output_type": "stream",
     "text": [
      "colezweber have 49 duplicated ratings\n",
      "ppf have 113 duplicated ratings\n",
      "angelatam have 1 duplicated ratings\n",
      "surchs have 5 duplicated ratings\n",
      "emdupre have 2 duplicated ratings\n",
      "cmakowski have 2 duplicated ratings\n",
      "paulej have 2 duplicated ratings\n",
      "Total number of duplicated ratings  = 174\n"
     ]
    }
   ],
   "source": [
    "# drop duplicated rating\n",
    "inc = 0\n",
    "sum_dup = 0\n",
    "for ind,user in enumerate(ratings.user_name.unique()):\n",
    "    user_select_df = ratings[ratings.user_name.isin([user])]\n",
    "    mask=~user_select_df.ID.duplicated()\n",
    "    dup = len([m for m in mask if m == False])\n",
    "    sum_dup = sum_dup+ dup\n",
    "    if dup > 0 :\n",
    "        print('{} have {} duplicated ratings'.format(user,dup))\n",
    "    if ind == 0 and inc == 0:\n",
    "        classi_unique= user_select_df[mask]\n",
    "        inc+=1\n",
    "    else:\n",
    "        classi_unique = classi_unique.append(user_select_df[~user_select_df.ID.duplicated()])\n",
    "        inc+=1\n",
    "print('Total number of duplicated ratings  = {}'.format(sum_dup))"
   ]
  },
  {
   "cell_type": "code",
   "execution_count": 13,
   "metadata": {},
   "outputs": [
    {
     "data": {
      "text/plain": [
       "angelatam     100\n",
       "cmakowski     100\n",
       "emdupre       100\n",
       "abadhwar      100\n",
       "surchs        100\n",
       "ppf           100\n",
       "jenichen      100\n",
       "colezweber    100\n",
       "paulej        100\n",
       "Name: user_name, dtype: int64"
      ]
     },
     "execution_count": 13,
     "metadata": {},
     "output_type": "execute_result"
    }
   ],
   "source": [
    "# Get the final rating numbers per subject\n",
    "user_count = classi_unique.user_name.value_counts()\n",
    "user_count"
   ]
  },
  {
   "cell_type": "code",
   "execution_count": 14,
   "metadata": {},
   "outputs": [
    {
     "data": {
      "image/png": "[encoded data removed]",
      "text/plain": [
       "<Figure size 432x288 with 1 Axes>"
      ]
     },
     "metadata": {},
     "output_type": "display_data"
    }
   ],
   "source": [
    "# plot rating per image distribution\n",
    "image_count = classi_unique.subject_ids.value_counts()\n",
    "image_count.plot.hist(grid=True,rwidth=0.9, bins=13,color='#607c8e')\n",
    "plt.title('Frequency of rating per images')\n",
    "plt.xlabel('Nuber of Images')\n",
    "plt.ylabel('Frequency')\n",
    "plt.grid(axis='y', alpha=0.75)"
   ]
  },
  {
   "cell_type": "code",
   "execution_count": 15,
   "metadata": {},
   "outputs": [
    {
     "data": {
      "text/html": [
       "<div>\n",
       "<style scoped>\n",
       "    .dataframe tbody tr th:only-of-type {\n",
       "        vertical-align: middle;\n",
       "    }\n",
       "\n",
       "    .dataframe tbody tr th {\n",
       "        vertical-align: top;\n",
       "    }\n",
       "\n",
       "    .dataframe thead th {\n",
       "        text-align: right;\n",
       "    }\n",
       "</style>\n",
       "<table border=\"1\" class=\"dataframe\">\n",
       "  <thead>\n",
       "    <tr style=\"text-align: right;\">\n",
       "      <th></th>\n",
       "      <th>ID</th>\n",
       "      <th>angelatam</th>\n",
       "      <th>cmakowski</th>\n",
       "      <th>emdupre</th>\n",
       "      <th>abadhwar</th>\n",
       "      <th>surchs</th>\n",
       "      <th>ppf</th>\n",
       "      <th>jenichen</th>\n",
       "      <th>colezweber</th>\n",
       "      <th>paulej</th>\n",
       "    </tr>\n",
       "  </thead>\n",
       "  <tbody>\n",
       "    <tr>\n",
       "      <th>0</th>\n",
       "      <td>X8628223</td>\n",
       "      <td>Maybe</td>\n",
       "      <td>OK</td>\n",
       "      <td>OK</td>\n",
       "      <td>OK</td>\n",
       "      <td>OK</td>\n",
       "      <td>Maybe</td>\n",
       "      <td>OK</td>\n",
       "      <td>OK</td>\n",
       "      <td>OK</td>\n",
       "    </tr>\n",
       "    <tr>\n",
       "      <th>1</th>\n",
       "      <td>X0010088</td>\n",
       "      <td>OK</td>\n",
       "      <td>OK</td>\n",
       "      <td>OK</td>\n",
       "      <td>Maybe</td>\n",
       "      <td>Maybe</td>\n",
       "      <td>OK</td>\n",
       "      <td>Maybe</td>\n",
       "      <td>OK</td>\n",
       "      <td>OK</td>\n",
       "    </tr>\n",
       "    <tr>\n",
       "      <th>2</th>\n",
       "      <td>X0021015</td>\n",
       "      <td>Maybe</td>\n",
       "      <td>Fail</td>\n",
       "      <td>Maybe</td>\n",
       "      <td>Maybe</td>\n",
       "      <td>Maybe</td>\n",
       "      <td>Maybe</td>\n",
       "      <td>Fail</td>\n",
       "      <td>OK</td>\n",
       "      <td>Maybe</td>\n",
       "    </tr>\n",
       "    <tr>\n",
       "      <th>3</th>\n",
       "      <td>X3011311</td>\n",
       "      <td>OK</td>\n",
       "      <td>OK</td>\n",
       "      <td>Maybe</td>\n",
       "      <td>OK</td>\n",
       "      <td>OK</td>\n",
       "      <td>OK</td>\n",
       "      <td>OK</td>\n",
       "      <td>OK</td>\n",
       "      <td>OK</td>\n",
       "    </tr>\n",
       "    <tr>\n",
       "      <th>4</th>\n",
       "      <td>X3433846</td>\n",
       "      <td>Maybe</td>\n",
       "      <td>OK</td>\n",
       "      <td>Maybe</td>\n",
       "      <td>Maybe</td>\n",
       "      <td>Maybe</td>\n",
       "      <td>OK</td>\n",
       "      <td>Maybe</td>\n",
       "      <td>OK</td>\n",
       "      <td>Fail</td>\n",
       "    </tr>\n",
       "  </tbody>\n",
       "</table>\n",
       "</div>"
      ],
      "text/plain": [
       "         ID angelatam cmakowski emdupre abadhwar surchs    ppf jenichen  \\\n",
       "0  X8628223     Maybe        OK      OK       OK     OK  Maybe       OK   \n",
       "1  X0010088        OK        OK      OK    Maybe  Maybe     OK    Maybe   \n",
       "2  X0021015     Maybe      Fail   Maybe    Maybe  Maybe  Maybe     Fail   \n",
       "3  X3011311        OK        OK   Maybe       OK     OK     OK       OK   \n",
       "4  X3433846     Maybe        OK   Maybe    Maybe  Maybe     OK    Maybe   \n",
       "\n",
       "  colezweber paulej  \n",
       "0         OK     OK  \n",
       "1         OK     OK  \n",
       "2         OK  Maybe  \n",
       "3         OK     OK  \n",
       "4         OK   Fail  "
      ]
     },
     "execution_count": 15,
     "metadata": {},
     "output_type": "execute_result"
    }
   ],
   "source": [
    "#Create Users rating dataframe\n",
    "list_user = user_count.index\n",
    "concat_rating = [classi_unique[classi_unique.user_name == user][['ID','rating']].rename(columns={'rating': user})\n",
    "                  for user in list_user]\n",
    "\n",
    "df_ratings = reduce(lambda left,right: pd.merge(left,right,how='outer',on='ID'), concat_rating)\n",
    "df_ratings.head()"
   ]
  },
  {
   "cell_type": "code",
   "execution_count": 16,
   "metadata": {},
   "outputs": [],
   "source": [
    "# remove duplicates\n",
    "df_ratings = df_ratings[~df_ratings.ID.duplicated()]"
   ]
  },
  {
   "cell_type": "markdown",
   "metadata": {},
   "source": [
    "### Explore the concensus of rating between images"
   ]
  },
  {
   "cell_type": "code",
   "execution_count": 17,
   "metadata": {},
   "outputs": [
    {
     "data": {
      "text/html": [
       "<div>\n",
       "<style scoped>\n",
       "    .dataframe tbody tr th:only-of-type {\n",
       "        vertical-align: middle;\n",
       "    }\n",
       "\n",
       "    .dataframe tbody tr th {\n",
       "        vertical-align: top;\n",
       "    }\n",
       "\n",
       "    .dataframe thead th {\n",
       "        text-align: right;\n",
       "    }\n",
       "</style>\n",
       "<table border=\"1\" class=\"dataframe\">\n",
       "  <thead>\n",
       "    <tr style=\"text-align: right;\">\n",
       "      <th></th>\n",
       "      <th>ID</th>\n",
       "      <th>Fail</th>\n",
       "      <th>Maybe</th>\n",
       "      <th>OK</th>\n",
       "    </tr>\n",
       "  </thead>\n",
       "  <tbody>\n",
       "    <tr>\n",
       "      <th>0</th>\n",
       "      <td>X8628223</td>\n",
       "      <td>0</td>\n",
       "      <td>2</td>\n",
       "      <td>7</td>\n",
       "    </tr>\n",
       "    <tr>\n",
       "      <th>1</th>\n",
       "      <td>X0010088</td>\n",
       "      <td>0</td>\n",
       "      <td>3</td>\n",
       "      <td>6</td>\n",
       "    </tr>\n",
       "    <tr>\n",
       "      <th>2</th>\n",
       "      <td>X0021015</td>\n",
       "      <td>2</td>\n",
       "      <td>6</td>\n",
       "      <td>1</td>\n",
       "    </tr>\n",
       "    <tr>\n",
       "      <th>3</th>\n",
       "      <td>X3011311</td>\n",
       "      <td>0</td>\n",
       "      <td>1</td>\n",
       "      <td>8</td>\n",
       "    </tr>\n",
       "    <tr>\n",
       "      <th>4</th>\n",
       "      <td>X3433846</td>\n",
       "      <td>1</td>\n",
       "      <td>5</td>\n",
       "      <td>3</td>\n",
       "    </tr>\n",
       "  </tbody>\n",
       "</table>\n",
       "</div>"
      ],
      "text/plain": [
       "         ID Fail Maybe OK\n",
       "0  X8628223    0     2  7\n",
       "1  X0010088    0     3  6\n",
       "2  X0021015    2     6  1\n",
       "3  X3011311    0     1  8\n",
       "4  X3433846    1     5  3"
      ]
     },
     "execution_count": 17,
     "metadata": {},
     "output_type": "execute_result"
    }
   ],
   "source": [
    "# Get ratings from images rated more tan N different rates \n",
    "n = 4 # Minimun number of ratings per image\n",
    "stuff = np.array([[row.ID,\n",
    "                   np.sum(row[1:].values=='Fail'),\n",
    "                   np.sum(row[1:].values=='Maybe'),\n",
    "                   np.sum(row[1:].values=='OK')]  \n",
    "                  for ind, row in df_ratings.iterrows() if np.sum([np.sum(row[1:-1].values=='Fail'),\n",
    "                                                                 np.sum(row[1:-1].values=='Maybe'),\n",
    "                                                                 np.sum(row[1:-1].values=='OK')]) >= n])\n",
    "df_score = pd.DataFrame(data=stuff, columns=['ID','Fail', 'Maybe', 'OK'])\n",
    "df_score.head()"
   ]
  },
  {
   "cell_type": "code",
   "execution_count": 18,
   "metadata": {
    "scrolled": false
   },
   "outputs": [
    {
     "data": {
      "text/html": [
       "<div>\n",
       "<style scoped>\n",
       "    .dataframe tbody tr th:only-of-type {\n",
       "        vertical-align: middle;\n",
       "    }\n",
       "\n",
       "    .dataframe tbody tr th {\n",
       "        vertical-align: top;\n",
       "    }\n",
       "\n",
       "    .dataframe thead th {\n",
       "        text-align: right;\n",
       "    }\n",
       "</style>\n",
       "<table border=\"1\" class=\"dataframe\">\n",
       "  <thead>\n",
       "    <tr style=\"text-align: right;\">\n",
       "      <th></th>\n",
       "      <th>ID</th>\n",
       "      <th>Fail</th>\n",
       "      <th>Maybe</th>\n",
       "      <th>OK</th>\n",
       "      <th>EconVal</th>\n",
       "      <th>Econ</th>\n",
       "      <th>ZconVal</th>\n",
       "      <th>Zcon</th>\n",
       "    </tr>\n",
       "  </thead>\n",
       "  <tbody>\n",
       "    <tr>\n",
       "      <th>0</th>\n",
       "      <td>X8628223</td>\n",
       "      <td>0</td>\n",
       "      <td>0.222222</td>\n",
       "      <td>0.777778</td>\n",
       "      <td>0.777778</td>\n",
       "      <td>OK</td>\n",
       "      <td>0.722222</td>\n",
       "      <td>OK</td>\n",
       "    </tr>\n",
       "    <tr>\n",
       "      <th>1</th>\n",
       "      <td>X0010088</td>\n",
       "      <td>0</td>\n",
       "      <td>0.333333</td>\n",
       "      <td>0.666667</td>\n",
       "      <td>0.666667</td>\n",
       "      <td>OK</td>\n",
       "      <td>0.764706</td>\n",
       "      <td>OK</td>\n",
       "    </tr>\n",
       "    <tr>\n",
       "      <th>2</th>\n",
       "      <td>X0021015</td>\n",
       "      <td>0.222222</td>\n",
       "      <td>0.666667</td>\n",
       "      <td>0.111111</td>\n",
       "      <td>0.666667</td>\n",
       "      <td>Maybe</td>\n",
       "      <td>0.434783</td>\n",
       "      <td>OK</td>\n",
       "    </tr>\n",
       "    <tr>\n",
       "      <th>3</th>\n",
       "      <td>X3011311</td>\n",
       "      <td>0</td>\n",
       "      <td>0.111111</td>\n",
       "      <td>0.888889</td>\n",
       "      <td>0.888889</td>\n",
       "      <td>OK</td>\n",
       "      <td>0.823529</td>\n",
       "      <td>OK</td>\n",
       "    </tr>\n",
       "    <tr>\n",
       "      <th>4</th>\n",
       "      <td>X3433846</td>\n",
       "      <td>0.111111</td>\n",
       "      <td>0.555556</td>\n",
       "      <td>0.333333</td>\n",
       "      <td>0.555556</td>\n",
       "      <td>Maybe</td>\n",
       "      <td>0.521739</td>\n",
       "      <td>OK</td>\n",
       "    </tr>\n",
       "  </tbody>\n",
       "</table>\n",
       "</div>"
      ],
      "text/plain": [
       "         ID      Fail     Maybe        OK   EconVal   Econ   ZconVal Zcon\n",
       "0  X8628223         0  0.222222  0.777778  0.777778     OK  0.722222   OK\n",
       "1  X0010088         0  0.333333  0.666667  0.666667     OK  0.764706   OK\n",
       "2  X0021015  0.222222  0.666667  0.111111  0.666667  Maybe  0.434783   OK\n",
       "3  X3011311         0  0.111111  0.888889  0.888889     OK  0.823529   OK\n",
       "4  X3433846  0.111111  0.555556  0.333333  0.555556  Maybe  0.521739   OK"
      ]
     },
     "execution_count": 18,
     "metadata": {},
     "output_type": "execute_result"
    }
   ],
   "source": [
    "# Normalise table's row\n",
    "df_score_tmp = df_score[['Fail','Maybe','OK']].astype('int')\n",
    "nb_rating = df_score[['Fail','Maybe','OK']].astype('int').sum(axis=\"columns\")\n",
    "df_norm = pd.DataFrame( index=df_score.index,columns=['ID','Fail', 'Maybe', 'OK'])\n",
    "for status in ['Fail','Maybe','OK']:\n",
    "    for image in df_score.index:\n",
    "        df_norm[status][image] = np.int(df_score[status][image])/nb_rating[image]\n",
    "        df_norm['ID'][image] = df_score['ID'][image]\n",
    "# get max value\n",
    "max_value = [row.iloc[1:].get_values().max() for ind,row in df_norm.iterrows()]\n",
    "df_norm.loc[:,'EconVal'] = max_value\n",
    "# get concensus rating\n",
    "s = ['Fail', 'Maybe', 'OK']\n",
    "#max_rate = [row.iloc[1:].idxmax(axis=1) for ind,row in df_norm.iterrows()]\n",
    "max_rate = [s[row[1:].values.argmax()] for rid, row in df_norm.iterrows()]\n",
    "df_norm.loc[:,'Econ'] = max_rate\n",
    "# merge with zcon\n",
    "zcon_df = pd.read_csv('../data/rating/full_launch_zooniverse_consensus.csv')\n",
    "df_norm = df_norm.merge(zcon_df,on= 'ID')\n",
    "df_norm.head()"
   ]
  },
  {
   "cell_type": "code",
   "execution_count": 20,
   "metadata": {
    "scrolled": false
   },
   "outputs": [
    {
     "name": "stderr",
     "output_type": "stream",
     "text": [
      "/mnt/home_sq/yassinebha/.virtualenvs/zooniverse_qc/lib/python3.5/site-packages/scipy/stats/stats.py:1706: FutureWarning: Using a non-tuple sequence for multidimensional indexing is deprecated; use `arr[tuple(seq)]` instead of `arr[seq]`. In the future this will be interpreted as an array index, `arr[np.array(seq)]`, which will result either in an error or a different result.\n",
      "  return np.add.reduce(sorted[indexer] * weights, axis=axis) / sumval\n",
      "/mnt/home_sq/yassinebha/.virtualenvs/zooniverse_qc/lib/python3.5/site-packages/seaborn/axisgrid.py:1847: UserWarning: JointGrid annotation is deprecated and will be removed in a future release.\n",
      "  warnings.warn(UserWarning(msg))\n"
     ]
    },
    {
     "data": {
      "image/png": "[encoded data removed]",
      "text/plain": [
       "<Figure size 288x288 with 3 Axes>"
      ]
     },
     "metadata": {},
     "output_type": "display_data"
    }
   ],
   "source": [
    "import scipy.stats as stats\n",
    "sns.set(color_codes=True)\n",
    "joint = sns.jointplot(x='EconVal', y='ZconVal',data= df_norm,\n",
    "              kind=\"reg\",xlim=[0.3,1.1], ylim=[0.3,1.1],x_jitter=.01)\n",
    "joint.annotate(stats.pearsonr)\n",
    "\n",
    "joint.fig.set_figwidth(4)\n",
    "joint.fig.set_figheight(4)\n",
    "plt.savefig('../reports/figures/Results/Kappa/expert_vs_zooniv_consensus.svg')"
   ]
  },
  {
   "cell_type": "code",
   "execution_count": 22,
   "metadata": {
    "scrolled": false
   },
   "outputs": [
    {
     "data": {
      "text/plain": [
       "Text(0, 0.5, 'Concensus rating')"
      ]
     },
     "execution_count": 22,
     "metadata": {},
     "output_type": "execute_result"
    },
    {
     "data": {
      "image/png": "[encoded data removed]",
      "text/plain": [
       "<Figure size 504x360 with 1 Axes>"
      ]
     },
     "metadata": {},
     "output_type": "display_data"
    }
   ],
   "source": [
    "#Setting the figure with matplotlib\n",
    "plt.figure(figsize=(7,5))\n",
    "#plt.xticks(rotation=90)\n",
    "plt.rcParams[\"axes.labelsize\"] = 12\n",
    " \n",
    "#Creating the desired plot\n",
    "sns.violinplot(x='Econ',y='EconVal',data=df_norm,\n",
    "              inner=None #removes the inner bars inside the violins \n",
    "              )\n",
    " \n",
    "sns.swarmplot(x='Econ',y='EconVal',data=df_norm,\n",
    "             color='k',#for making the points black\n",
    "             alpha=0.6) #value of alpha will increase the transparency\n",
    " \n",
    "#Title for the plot\n",
    "plt.grid(axis='y', alpha=0.75)\n",
    "plt.title('Distribution of rating concensus')\n",
    "plt.xlabel('')\n",
    "plt.ylabel('Concensus rating')"
   ]
  },
  {
   "cell_type": "code",
   "execution_count": 23,
   "metadata": {
    "scrolled": false
   },
   "outputs": [
    {
     "data": {
      "image/png": "[encoded data removed]",
      "text/plain": [
       "<Figure size 432x288 with 1 Axes>"
      ]
     },
     "metadata": {},
     "output_type": "display_data"
    }
   ],
   "source": [
    "count_ = df_norm.Econ[[0 <= row.EconVal < 0.5   for ind, row in df_norm.iterrows() ]].value_counts()\n",
    "axes = count_.plot.bar(title = 'Frequency of rating for low concensus')"
   ]
  },
  {
   "cell_type": "code",
   "execution_count": 24,
   "metadata": {},
   "outputs": [
    {
     "data": {
      "image/png": "[encoded data removed]",
      "text/plain": [
       "<Figure size 432x288 with 1 Axes>"
      ]
     },
     "metadata": {},
     "output_type": "display_data"
    }
   ],
   "source": [
    "count_ = df_norm.Econ[[0.5 <= row.EconVal < 0.65   for ind, row in df_norm.iterrows() ]].value_counts()\n",
    "axes = count_.plot.bar(title = 'Frequency of rating for medium concensus')"
   ]
  },
  {
   "cell_type": "code",
   "execution_count": 25,
   "metadata": {},
   "outputs": [
    {
     "data": {
      "image/png": "[encoded data removed]",
      "text/plain": [
       "<Figure size 432x288 with 1 Axes>"
      ]
     },
     "metadata": {},
     "output_type": "display_data"
    }
   ],
   "source": [
    "count_ = df_norm.Econ[[0.6 < row.EconVal <= 1   for ind, row in df_norm.iterrows() ]].value_counts()\n",
    "axes = count_.plot.bar(title = 'Frequency of rating for high concensus')"
   ]
  },
  {
   "cell_type": "code",
   "execution_count": 26,
   "metadata": {
    "scrolled": true
   },
   "outputs": [
    {
     "data": {
      "text/html": [
       "<div>\n",
       "<style scoped>\n",
       "    .dataframe tbody tr th:only-of-type {\n",
       "        vertical-align: middle;\n",
       "    }\n",
       "\n",
       "    .dataframe tbody tr th {\n",
       "        vertical-align: top;\n",
       "    }\n",
       "\n",
       "    .dataframe thead th {\n",
       "        text-align: right;\n",
       "    }\n",
       "</style>\n",
       "<table border=\"1\" class=\"dataframe\">\n",
       "  <thead>\n",
       "    <tr style=\"text-align: right;\">\n",
       "      <th></th>\n",
       "      <th>ID</th>\n",
       "      <th>R1</th>\n",
       "      <th>R2</th>\n",
       "      <th>R3</th>\n",
       "      <th>R4</th>\n",
       "      <th>R5</th>\n",
       "      <th>R6</th>\n",
       "      <th>R7</th>\n",
       "      <th>R8</th>\n",
       "      <th>R9</th>\n",
       "      <th>Econ</th>\n",
       "      <th>Zcon</th>\n",
       "      <th>EconVal</th>\n",
       "      <th>ZconVal</th>\n",
       "    </tr>\n",
       "  </thead>\n",
       "  <tbody>\n",
       "    <tr>\n",
       "      <th>0</th>\n",
       "      <td>X8628223</td>\n",
       "      <td>OK</td>\n",
       "      <td>OK</td>\n",
       "      <td>OK</td>\n",
       "      <td>OK</td>\n",
       "      <td>OK</td>\n",
       "      <td>Maybe</td>\n",
       "      <td>OK</td>\n",
       "      <td>Maybe</td>\n",
       "      <td>OK</td>\n",
       "      <td>OK</td>\n",
       "      <td>OK</td>\n",
       "      <td>0.777778</td>\n",
       "      <td>0.722222</td>\n",
       "    </tr>\n",
       "    <tr>\n",
       "      <th>1</th>\n",
       "      <td>X0010088</td>\n",
       "      <td>Maybe</td>\n",
       "      <td>OK</td>\n",
       "      <td>OK</td>\n",
       "      <td>OK</td>\n",
       "      <td>Maybe</td>\n",
       "      <td>OK</td>\n",
       "      <td>Maybe</td>\n",
       "      <td>OK</td>\n",
       "      <td>OK</td>\n",
       "      <td>OK</td>\n",
       "      <td>OK</td>\n",
       "      <td>0.666667</td>\n",
       "      <td>0.764706</td>\n",
       "    </tr>\n",
       "    <tr>\n",
       "      <th>2</th>\n",
       "      <td>X0021015</td>\n",
       "      <td>Maybe</td>\n",
       "      <td>Maybe</td>\n",
       "      <td>Fail</td>\n",
       "      <td>Maybe</td>\n",
       "      <td>Maybe</td>\n",
       "      <td>Maybe</td>\n",
       "      <td>Fail</td>\n",
       "      <td>Maybe</td>\n",
       "      <td>OK</td>\n",
       "      <td>Maybe</td>\n",
       "      <td>OK</td>\n",
       "      <td>0.666667</td>\n",
       "      <td>0.434783</td>\n",
       "    </tr>\n",
       "    <tr>\n",
       "      <th>3</th>\n",
       "      <td>X3011311</td>\n",
       "      <td>OK</td>\n",
       "      <td>OK</td>\n",
       "      <td>OK</td>\n",
       "      <td>Maybe</td>\n",
       "      <td>OK</td>\n",
       "      <td>OK</td>\n",
       "      <td>OK</td>\n",
       "      <td>OK</td>\n",
       "      <td>OK</td>\n",
       "      <td>OK</td>\n",
       "      <td>OK</td>\n",
       "      <td>0.888889</td>\n",
       "      <td>0.823529</td>\n",
       "    </tr>\n",
       "    <tr>\n",
       "      <th>4</th>\n",
       "      <td>X3433846</td>\n",
       "      <td>Maybe</td>\n",
       "      <td>Fail</td>\n",
       "      <td>OK</td>\n",
       "      <td>Maybe</td>\n",
       "      <td>Maybe</td>\n",
       "      <td>Maybe</td>\n",
       "      <td>Maybe</td>\n",
       "      <td>OK</td>\n",
       "      <td>OK</td>\n",
       "      <td>Maybe</td>\n",
       "      <td>OK</td>\n",
       "      <td>0.555556</td>\n",
       "      <td>0.521739</td>\n",
       "    </tr>\n",
       "  </tbody>\n",
       "</table>\n",
       "</div>"
      ],
      "text/plain": [
       "         ID     R1     R2    R3     R4     R5     R6     R7     R8  R9   Econ  \\\n",
       "0  X8628223     OK     OK    OK     OK     OK  Maybe     OK  Maybe  OK     OK   \n",
       "1  X0010088  Maybe     OK    OK     OK  Maybe     OK  Maybe     OK  OK     OK   \n",
       "2  X0021015  Maybe  Maybe  Fail  Maybe  Maybe  Maybe   Fail  Maybe  OK  Maybe   \n",
       "3  X3011311     OK     OK    OK  Maybe     OK     OK     OK     OK  OK     OK   \n",
       "4  X3433846  Maybe   Fail    OK  Maybe  Maybe  Maybe  Maybe     OK  OK  Maybe   \n",
       "\n",
       "  Zcon   EconVal   ZconVal  \n",
       "0   OK  0.777778  0.722222  \n",
       "1   OK  0.666667  0.764706  \n",
       "2   OK  0.666667  0.434783  \n",
       "3   OK  0.888889  0.823529  \n",
       "4   OK  0.555556  0.521739  "
      ]
     },
     "execution_count": 26,
     "metadata": {},
     "output_type": "execute_result"
    }
   ],
   "source": [
    "# Save a copy\n",
    "df_ratings.rename(columns={'angelatam':'R6',\n",
    "                           'colezweber':'R9',\n",
    "                           'ppf':'R8',\n",
    "                           'jenichen':'R7',\n",
    "                           'abadhwar':'R5',\n",
    "                           'cmakowski':'R3',\n",
    "                           'surchs':'R1',\n",
    "                           'paulej':'R2',\n",
    "                           'emdupre':'R4'},inplace=True)\n",
    "df_ratings =df_ratings[['ID',\n",
    "                        'R1',\n",
    "                        'R2',\n",
    "                        'R3',\n",
    "                        'R4',\n",
    "                        'R5',\n",
    "                        'R6',\n",
    "                        'R7',\n",
    "                        'R8', 'R9']].merge(df_norm[['ID','Econ','Zcon','EconVal','ZconVal']],on='ID')\n",
    "df_ratings.to_csv('../data/rating/all_experts_ratings.csv',index=False)\n",
    "df_ratings.head()"
   ]
  },
  {
   "cell_type": "code",
   "execution_count": 27,
   "metadata": {
    "scrolled": false
   },
   "outputs": [
    {
     "data": {
      "text/html": [
       "<div>\n",
       "<style scoped>\n",
       "    .dataframe tbody tr th:only-of-type {\n",
       "        vertical-align: middle;\n",
       "    }\n",
       "\n",
       "    .dataframe tbody tr th {\n",
       "        vertical-align: top;\n",
       "    }\n",
       "\n",
       "    .dataframe thead th {\n",
       "        text-align: right;\n",
       "    }\n",
       "</style>\n",
       "<table border=\"1\" class=\"dataframe\">\n",
       "  <thead>\n",
       "    <tr style=\"text-align: right;\">\n",
       "      <th></th>\n",
       "      <th>ID</th>\n",
       "      <th>R1</th>\n",
       "      <th>R2</th>\n",
       "      <th>R3</th>\n",
       "      <th>R4</th>\n",
       "      <th>R5</th>\n",
       "      <th>R6</th>\n",
       "      <th>R7</th>\n",
       "      <th>R8</th>\n",
       "      <th>R9</th>\n",
       "      <th>Econ</th>\n",
       "      <th>Zcon</th>\n",
       "      <th>EconVal</th>\n",
       "      <th>ZconVal</th>\n",
       "    </tr>\n",
       "  </thead>\n",
       "  <tbody>\n",
       "    <tr>\n",
       "      <th>0</th>\n",
       "      <td>X8628223</td>\n",
       "      <td>OK</td>\n",
       "      <td>OK</td>\n",
       "      <td>OK</td>\n",
       "      <td>OK</td>\n",
       "      <td>OK</td>\n",
       "      <td>Maybe</td>\n",
       "      <td>OK</td>\n",
       "      <td>Maybe</td>\n",
       "      <td>OK</td>\n",
       "      <td>OK</td>\n",
       "      <td>OK</td>\n",
       "      <td>0.777778</td>\n",
       "      <td>0.722222</td>\n",
       "    </tr>\n",
       "    <tr>\n",
       "      <th>1</th>\n",
       "      <td>X0010088</td>\n",
       "      <td>Maybe</td>\n",
       "      <td>OK</td>\n",
       "      <td>OK</td>\n",
       "      <td>OK</td>\n",
       "      <td>Maybe</td>\n",
       "      <td>OK</td>\n",
       "      <td>Maybe</td>\n",
       "      <td>OK</td>\n",
       "      <td>OK</td>\n",
       "      <td>OK</td>\n",
       "      <td>OK</td>\n",
       "      <td>0.666667</td>\n",
       "      <td>0.764706</td>\n",
       "    </tr>\n",
       "    <tr>\n",
       "      <th>2</th>\n",
       "      <td>X0021015</td>\n",
       "      <td>Maybe</td>\n",
       "      <td>Maybe</td>\n",
       "      <td>Fail</td>\n",
       "      <td>Maybe</td>\n",
       "      <td>Maybe</td>\n",
       "      <td>Maybe</td>\n",
       "      <td>Fail</td>\n",
       "      <td>Maybe</td>\n",
       "      <td>OK</td>\n",
       "      <td>Maybe</td>\n",
       "      <td>OK</td>\n",
       "      <td>0.666667</td>\n",
       "      <td>0.434783</td>\n",
       "    </tr>\n",
       "    <tr>\n",
       "      <th>3</th>\n",
       "      <td>X3011311</td>\n",
       "      <td>OK</td>\n",
       "      <td>OK</td>\n",
       "      <td>OK</td>\n",
       "      <td>Maybe</td>\n",
       "      <td>OK</td>\n",
       "      <td>OK</td>\n",
       "      <td>OK</td>\n",
       "      <td>OK</td>\n",
       "      <td>OK</td>\n",
       "      <td>OK</td>\n",
       "      <td>OK</td>\n",
       "      <td>0.888889</td>\n",
       "      <td>0.823529</td>\n",
       "    </tr>\n",
       "    <tr>\n",
       "      <th>4</th>\n",
       "      <td>X3433846</td>\n",
       "      <td>Maybe</td>\n",
       "      <td>Fail</td>\n",
       "      <td>OK</td>\n",
       "      <td>Maybe</td>\n",
       "      <td>Maybe</td>\n",
       "      <td>Maybe</td>\n",
       "      <td>Maybe</td>\n",
       "      <td>OK</td>\n",
       "      <td>OK</td>\n",
       "      <td>Maybe</td>\n",
       "      <td>OK</td>\n",
       "      <td>0.555556</td>\n",
       "      <td>0.521739</td>\n",
       "    </tr>\n",
       "  </tbody>\n",
       "</table>\n",
       "</div>"
      ],
      "text/plain": [
       "         ID     R1     R2    R3     R4     R5     R6     R7     R8  R9   Econ  \\\n",
       "0  X8628223     OK     OK    OK     OK     OK  Maybe     OK  Maybe  OK     OK   \n",
       "1  X0010088  Maybe     OK    OK     OK  Maybe     OK  Maybe     OK  OK     OK   \n",
       "2  X0021015  Maybe  Maybe  Fail  Maybe  Maybe  Maybe   Fail  Maybe  OK  Maybe   \n",
       "3  X3011311     OK     OK    OK  Maybe     OK     OK     OK     OK  OK     OK   \n",
       "4  X3433846  Maybe   Fail    OK  Maybe  Maybe  Maybe  Maybe     OK  OK  Maybe   \n",
       "\n",
       "  Zcon   EconVal   ZconVal  \n",
       "0   OK  0.777778  0.722222  \n",
       "1   OK  0.666667  0.764706  \n",
       "2   OK  0.666667  0.434783  \n",
       "3   OK  0.888889  0.823529  \n",
       "4   OK  0.555556  0.521739  "
      ]
     },
     "execution_count": 27,
     "metadata": {},
     "output_type": "execute_result"
    }
   ],
   "source": [
    "# Save a copy\n",
    "df_ratings.rename(columns={'angelatam':'R6',\n",
    "                           'colezweber':'R9',\n",
    "                           'ppf':'R8',\n",
    "                           'jenichen':'R7',\n",
    "                           'abadhwar':'R5',\n",
    "                           'cmakowski':'R3',\n",
    "                           'surchs':'R1',\n",
    "                           'paulej':'R2',\n",
    "                           'emdupre':'R4'},inplace=True)\n",
    "df_ratings =df_ratings[['ID',\n",
    "                        'R1',\n",
    "                        'R2',\n",
    "                        'R3',\n",
    "                        'R4',\n",
    "                        'R5',\n",
    "                        'R6',\n",
    "                        'R7',\n",
    "                        'R8', 'R9']].merge(df_norm[['ID','Econ','Zcon','EconVal','ZconVal']],on='ID')\n",
    "df_ratings.to_csv('../data/rating/all_experts_ratings.csv',index=False)\n",
    "df_ratings.head()"
   ]
  },
  {
   "cell_type": "code",
   "execution_count": 28,
   "metadata": {},
   "outputs": [],
   "source": [
    "# Randomly split raters in three groups\n",
    "import random\n",
    "random.seed(0)\n",
    "myList= ['R1','R2','R3','R4','R5','R6','R7','R8','R9']\n",
    "raters_split = [[myList.pop(random.randrange(len(myList))) for ii in range(3)] for ll in range(3)]"
   ]
  },
  {
   "cell_type": "code",
   "execution_count": 29,
   "metadata": {},
   "outputs": [
    {
     "data": {
      "text/html": [
       "<div>\n",
       "<style scoped>\n",
       "    .dataframe tbody tr th:only-of-type {\n",
       "        vertical-align: middle;\n",
       "    }\n",
       "\n",
       "    .dataframe tbody tr th {\n",
       "        vertical-align: top;\n",
       "    }\n",
       "\n",
       "    .dataframe thead th {\n",
       "        text-align: right;\n",
       "    }\n",
       "</style>\n",
       "<table border=\"1\" class=\"dataframe\">\n",
       "  <thead>\n",
       "    <tr style=\"text-align: right;\">\n",
       "      <th></th>\n",
       "      <th>ID</th>\n",
       "      <th>R1</th>\n",
       "      <th>R2</th>\n",
       "      <th>R3</th>\n",
       "      <th>R4</th>\n",
       "      <th>R5</th>\n",
       "      <th>R6</th>\n",
       "      <th>R7</th>\n",
       "      <th>R8</th>\n",
       "      <th>R9</th>\n",
       "      <th>Econ</th>\n",
       "      <th>Zcon</th>\n",
       "      <th>EconVal</th>\n",
       "      <th>ZconVal</th>\n",
       "    </tr>\n",
       "  </thead>\n",
       "  <tbody>\n",
       "    <tr>\n",
       "      <th>0</th>\n",
       "      <td>X8628223</td>\n",
       "      <td>1</td>\n",
       "      <td>1</td>\n",
       "      <td>1</td>\n",
       "      <td>1</td>\n",
       "      <td>1</td>\n",
       "      <td>2</td>\n",
       "      <td>1</td>\n",
       "      <td>2</td>\n",
       "      <td>1</td>\n",
       "      <td>1</td>\n",
       "      <td>1</td>\n",
       "      <td>0.777778</td>\n",
       "      <td>0.722222</td>\n",
       "    </tr>\n",
       "    <tr>\n",
       "      <th>1</th>\n",
       "      <td>X0010088</td>\n",
       "      <td>2</td>\n",
       "      <td>1</td>\n",
       "      <td>1</td>\n",
       "      <td>1</td>\n",
       "      <td>2</td>\n",
       "      <td>1</td>\n",
       "      <td>2</td>\n",
       "      <td>1</td>\n",
       "      <td>1</td>\n",
       "      <td>1</td>\n",
       "      <td>1</td>\n",
       "      <td>0.666667</td>\n",
       "      <td>0.764706</td>\n",
       "    </tr>\n",
       "    <tr>\n",
       "      <th>2</th>\n",
       "      <td>X0021015</td>\n",
       "      <td>2</td>\n",
       "      <td>2</td>\n",
       "      <td>3</td>\n",
       "      <td>2</td>\n",
       "      <td>2</td>\n",
       "      <td>2</td>\n",
       "      <td>3</td>\n",
       "      <td>2</td>\n",
       "      <td>1</td>\n",
       "      <td>2</td>\n",
       "      <td>1</td>\n",
       "      <td>0.666667</td>\n",
       "      <td>0.434783</td>\n",
       "    </tr>\n",
       "    <tr>\n",
       "      <th>3</th>\n",
       "      <td>X3011311</td>\n",
       "      <td>1</td>\n",
       "      <td>1</td>\n",
       "      <td>1</td>\n",
       "      <td>2</td>\n",
       "      <td>1</td>\n",
       "      <td>1</td>\n",
       "      <td>1</td>\n",
       "      <td>1</td>\n",
       "      <td>1</td>\n",
       "      <td>1</td>\n",
       "      <td>1</td>\n",
       "      <td>0.888889</td>\n",
       "      <td>0.823529</td>\n",
       "    </tr>\n",
       "    <tr>\n",
       "      <th>4</th>\n",
       "      <td>X3433846</td>\n",
       "      <td>2</td>\n",
       "      <td>3</td>\n",
       "      <td>1</td>\n",
       "      <td>2</td>\n",
       "      <td>2</td>\n",
       "      <td>2</td>\n",
       "      <td>2</td>\n",
       "      <td>1</td>\n",
       "      <td>1</td>\n",
       "      <td>2</td>\n",
       "      <td>1</td>\n",
       "      <td>0.555556</td>\n",
       "      <td>0.521739</td>\n",
       "    </tr>\n",
       "  </tbody>\n",
       "</table>\n",
       "</div>"
      ],
      "text/plain": [
       "         ID  R1  R2  R3  R4  R5  R6  R7  R8  R9  Econ  Zcon   EconVal  \\\n",
       "0  X8628223   1   1   1   1   1   2   1   2   1     1     1  0.777778   \n",
       "1  X0010088   2   1   1   1   2   1   2   1   1     1     1  0.666667   \n",
       "2  X0021015   2   2   3   2   2   2   3   2   1     2     1  0.666667   \n",
       "3  X3011311   1   1   1   2   1   1   1   1   1     1     1  0.888889   \n",
       "4  X3433846   2   3   1   2   2   2   2   1   1     2     1  0.555556   \n",
       "\n",
       "    ZconVal  \n",
       "0  0.722222  \n",
       "1  0.764706  \n",
       "2  0.434783  \n",
       "3  0.823529  \n",
       "4  0.521739  "
      ]
     },
     "execution_count": 29,
     "metadata": {},
     "output_type": "execute_result"
    }
   ],
   "source": [
    "# Replace OK with 1 , Maybe with 2 and Fail with 3\n",
    "df_ratings.replace({'OK':1,'Maybe':2, 'Fail':3}, inplace=True)\n",
    "\n",
    "df_ratings.head()"
   ]
  },
  {
   "cell_type": "code",
   "execution_count": 30,
   "metadata": {},
   "outputs": [
    {
     "name": "stderr",
     "output_type": "stream",
     "text": [
      "/mnt/home_sq/yassinebha/.virtualenvs/zooniverse_qc/lib/python3.5/site-packages/rpy2/rinterface/__init__.py:146: RRuntimeWarning: Loading required package: lpSolve\n",
      "\n",
      "  warnings.warn(x, RRuntimeWarning)\n"
     ]
    }
   ],
   "source": [
    "%%R\n",
    "suppressPackageStartupMessages(library(dplyr))\n",
    "#install.packages(\"irr\") \n",
    "library(irr)"
   ]
  },
  {
   "cell_type": "code",
   "execution_count": 31,
   "metadata": {},
   "outputs": [
    {
     "name": "stdout",
     "output_type": "stream",
     "text": [
      " Percentage agreement (Tolerance=0)\n",
      "\n",
      " Subjects = 100 \n",
      "   Raters = 9 \n",
      "  %-agree = 20 \n",
      "\n"
     ]
    }
   ],
   "source": [
    "# Percenteage of agrrement between raters with R package IRR\n",
    "agree_ = df_ratings.drop(['ID','EconVal','Econ','Zcon','ZconVal'],axis=1)\n",
    "%Rpush agree_\n",
    "agree_n = %R agree(agree_)\n",
    "print(agree_n)"
   ]
  },
  {
   "cell_type": "code",
   "execution_count": 32,
   "metadata": {},
   "outputs": [],
   "source": [
    "# FDR correction\n",
    "from statsmodels.sandbox.stats import multicomp as smi\n",
    "\n",
    "def fdr_transf(mat,log10 = False):\n",
    "    '''compute fdr of a given matrix'''\n",
    "    \n",
    "    row = mat.shape[0]\n",
    "    col = mat.shape[1]\n",
    "    flatt = mat.flatten()\n",
    "    fdr_2d = smi.multipletests(flatt, alpha=0.05, method='fdr_bh')[1]\n",
    "    if log10 == True:\n",
    "        fdr_2d = [-np.log10(ii) if ii != 0 else 50 for ii in fdr_2d  ]\n",
    "    fdr_3d = np.reshape(fdr_2d,(row,col))\n",
    "    return fdr_3d"
   ]
  },
  {
   "cell_type": "code",
   "execution_count": 33,
   "metadata": {},
   "outputs": [],
   "source": [
    "# Kappa calculation\n",
    "def kappa_score(k_df,log10 = False):\n",
    "    '''compute Kappa between diferent raters organized in dataframe'''\n",
    "    k_store = np.zeros((len(k_df.columns), len(k_df.columns)))\n",
    "    p_store = np.zeros((len(k_df.columns), len(k_df.columns)))\n",
    "    %Rpush k_df\n",
    "    for user1_id, user1 in enumerate(k_df.columns):\n",
    "        for user2_id, user2 in enumerate(k_df.columns):\n",
    "            weight = np.unique(kappa_df[[user1,user2]])\n",
    "            %Rpush user1_id user1 user2_id user2 weight\n",
    "            kappaR =  %R kappa2(k_df[,c(user1,user2)],weight)\n",
    "            \n",
    "            # store the kappa\n",
    "            k_store[user1_id, user2_id] = [kappaR[x][0] for x in range(np.shape(kappaR)[0])][4]\n",
    "            p_store[user1_id, user2_id] = [kappaR[x][0] for x in range(np.shape(kappaR)[0])][-1]\n",
    "            \n",
    "    # FDR Correction       \n",
    "    p_store = fdr_transf(p_store,log10)\n",
    "    return k_store, p_store"
   ]
  },
  {
   "cell_type": "code",
   "execution_count": 48,
   "metadata": {},
   "outputs": [
    {
     "data": {
      "text/plain": [
       "0.6759259259259258"
      ]
     },
     "execution_count": 48,
     "metadata": {},
     "output_type": "execute_result"
    }
   ],
   "source": [
    "max_kap"
   ]
  },
  {
   "cell_type": "code",
   "execution_count": 124,
   "metadata": {},
   "outputs": [
    {
     "name": "stdout",
     "output_type": "stream",
     "text": [
      "Kappa range from 0.40 to 0.68 ,Mean Kappa : 0.54 , std : 0.08\n",
      "\n",
      " Fleiss' Kappa for m Raters\n",
      "\n",
      " Subjects = 100 \n",
      "   Raters = 9 \n",
      "    Kappa = 0.44 \n",
      "\n",
      "        z = 37 \n",
      "  p-value = 0 \n",
      "\n"
     ]
    }
   ],
   "source": [
    "# Get Kappa score out of all different combination of ratings\n",
    "kappa_df  = df_ratings.drop(['ID','EconVal','ZconVal','Econ','Zcon'],axis=1)\n",
    "kappa_store, Pval_store = kappa_score(kappa_df)\n",
    "kap_ = kappa_store[np.triu_indices(len(kappa_store),k=1)]\n",
    "mean_kap = np.mean(kap_)\n",
    "std_kap = np.std(kap_)\n",
    "max_kap = np.max(kap_)\n",
    "min_kap = np.min(kap_)\n",
    "print('Kappa range from {0:.2f} to {1:.2f} ,Mean Kappa : {2:.2f} , std : {3:.2f}\\n'.format(min_kap,max_kap,mean_kap, std_kap))\n",
    "\n",
    "#calculte the over all kappa values of all ratings\n",
    "%Rpush kappa_df\n",
    "fleiss_kappa = %R kappam.fleiss(kappa_df,c(0,1,2))\n",
    "print(fleiss_kappa)"
   ]
  },
  {
   "cell_type": "code",
   "execution_count": 127,
   "metadata": {
    "scrolled": true
   },
   "outputs": [
    {
     "data": {
      "image/png": "[encoded data removed]",
      "text/plain": [
       "<Figure size 216x216 with 2 Axes>"
      ]
     },
     "metadata": {},
     "output_type": "display_data"
    }
   ],
   "source": [
    "# Plot kappa matrix for expert only\n",
    "kappa_out = pd.DataFrame(kappa_store, \n",
    "                         index=kappa_df.columns.get_values(),\n",
    "                         columns=kappa_df.columns.get_values())\n",
    "\n",
    "\n",
    "# Set up the matplotlib figure\n",
    "f, axes = plt.subplots(figsize = (3,3))\n",
    "f.subplots_adjust(hspace= .8)\n",
    "sns.set(font_scale=0.6)\n",
    "f.suptitle('Inter-Experts Kappa matrix',x=0.49,y=1.05, fontsize=10, fontweight='bold')\n",
    "# Draw kappa heat map\n",
    "mask = np.zeros_like(kappa_out)\n",
    "mask[np.triu_indices_from(mask)] = True\n",
    "sns.heatmap(kappa_out,vmin=0.1,vmax=0.8,cmap=\"YlGnBu_r\",\n",
    "            square=True,\n",
    "            annot=True,annot_kws={\"size\": 6},\n",
    "            mask = mask,\n",
    "            linewidths=.5, \n",
    "            cbar_kws={\"shrink\": .3,\"label\": \"Cohen's Kappa\"},  \n",
    "            ax=axes)\n",
    "sns.set(style=\"white\")\n",
    "sns.axes_style(\"white\")\n",
    "\n",
    "axes.set_yticks([x+0.5 for x in range(len(kappa_df.columns))])\n",
    "axes.set_yticklabels(kappa_df.columns,rotation=0,fontsize=7)\n",
    "axes.set_xticklabels(kappa_df.columns,rotation=0,fontsize=7)\n",
    "\n",
    "text_title = '''\n",
    "Cohen's Kappa matrix for {} images from\n",
    "{} QC expert raters'''.format(len(df_ratings),len(df_ratings.columns[1:]))\n",
    "axes.set_title(text_title,pad=20,fontsize=8)\n",
    "#axes.annotate('Low', xy=(-0.17, 0.97),xytext=(-0.2, -0), xycoords='axes fraction',\n",
    "              #arrowprops=dict(arrowstyle=\"fancy,tail_width=1.2,head_width=01\",\n",
    "                            #fc=\"0.7\", ec=\"none\",\n",
    "                            #linewidth =2))\n",
    "\n",
    "# Caption\n",
    "pval = np.unique(Pval_store)[-1]\n",
    "txt = '''\n",
    "    Fig1: Kappa matrix for {} expert raters. Kappa's P-values range from\n",
    "            {:.2g} to {:.2g} '''.format(len(df_ratings.columns[1:]),Pval_store.min(), Pval_store.max())\n",
    "f.text(0.1,-0.1,txt,fontsize=8);\n",
    "#f.text(0.11,0.88,'High',fontsize=12)\n",
    "#f.text(0.10,0.62,'Level of QC expertise',fontsize=12,rotation=90)\n",
    "# Save figure\n",
    "f.savefig('../reports/figures/Results/Kappa/Full-Launch-experts_qc.svg')"
   ]
  },
  {
   "cell_type": "code",
   "execution_count": 128,
   "metadata": {
    "scrolled": true
   },
   "outputs": [
    {
     "data": {
      "text/html": [
       "<img src=\"https://i.stack.imgur.com/kYNd6.png\" width=\"600\" height=\"600\"/>"
      ],
      "text/plain": [
       "<IPython.core.display.Image object>"
      ]
     },
     "execution_count": 128,
     "metadata": {},
     "output_type": "execute_result"
    }
   ],
   "source": [
    "from IPython.display import Image\n",
    "Image(url= \"https://i.stack.imgur.com/kYNd6.png\" ,width=600, height=600)"
   ]
  },
  {
   "cell_type": "markdown",
   "metadata": {},
   "source": [
    "### Boxplot of kappa distribution between raters"
   ]
  },
  {
   "cell_type": "code",
   "execution_count": 129,
   "metadata": {},
   "outputs": [
    {
     "data": {
      "text/html": [
       "<div>\n",
       "<style scoped>\n",
       "    .dataframe tbody tr th:only-of-type {\n",
       "        vertical-align: middle;\n",
       "    }\n",
       "\n",
       "    .dataframe tbody tr th {\n",
       "        vertical-align: top;\n",
       "    }\n",
       "\n",
       "    .dataframe thead th {\n",
       "        text-align: right;\n",
       "    }\n",
       "</style>\n",
       "<table border=\"1\" class=\"dataframe\">\n",
       "  <thead>\n",
       "    <tr style=\"text-align: right;\">\n",
       "      <th></th>\n",
       "      <th>R1</th>\n",
       "      <th>R2</th>\n",
       "      <th>R3</th>\n",
       "      <th>R4</th>\n",
       "      <th>R5</th>\n",
       "      <th>R6</th>\n",
       "      <th>R7</th>\n",
       "      <th>R8</th>\n",
       "      <th>R9</th>\n",
       "    </tr>\n",
       "  </thead>\n",
       "  <tbody>\n",
       "    <tr>\n",
       "      <th>R1</th>\n",
       "      <td>1.000000</td>\n",
       "      <td>0.667570</td>\n",
       "      <td>0.651526</td>\n",
       "      <td>0.620563</td>\n",
       "      <td>0.675926</td>\n",
       "      <td>0.543646</td>\n",
       "      <td>0.490835</td>\n",
       "      <td>0.630485</td>\n",
       "      <td>0.574933</td>\n",
       "    </tr>\n",
       "    <tr>\n",
       "      <th>R2</th>\n",
       "      <td>0.667570</td>\n",
       "      <td>1.000000</td>\n",
       "      <td>0.634592</td>\n",
       "      <td>0.643221</td>\n",
       "      <td>0.614306</td>\n",
       "      <td>0.539506</td>\n",
       "      <td>0.458058</td>\n",
       "      <td>0.467603</td>\n",
       "      <td>0.582822</td>\n",
       "    </tr>\n",
       "    <tr>\n",
       "      <th>R3</th>\n",
       "      <td>0.651526</td>\n",
       "      <td>0.634592</td>\n",
       "      <td>1.000000</td>\n",
       "      <td>0.586777</td>\n",
       "      <td>0.598440</td>\n",
       "      <td>0.440820</td>\n",
       "      <td>0.479873</td>\n",
       "      <td>0.556213</td>\n",
       "      <td>0.568242</td>\n",
       "    </tr>\n",
       "    <tr>\n",
       "      <th>R4</th>\n",
       "      <td>0.620563</td>\n",
       "      <td>0.643221</td>\n",
       "      <td>0.586777</td>\n",
       "      <td>1.000000</td>\n",
       "      <td>0.615385</td>\n",
       "      <td>0.474606</td>\n",
       "      <td>0.433637</td>\n",
       "      <td>0.402174</td>\n",
       "      <td>0.513145</td>\n",
       "    </tr>\n",
       "    <tr>\n",
       "      <th>R5</th>\n",
       "      <td>0.675926</td>\n",
       "      <td>0.614306</td>\n",
       "      <td>0.598440</td>\n",
       "      <td>0.615385</td>\n",
       "      <td>1.000000</td>\n",
       "      <td>0.627876</td>\n",
       "      <td>0.548657</td>\n",
       "      <td>0.600000</td>\n",
       "      <td>0.479889</td>\n",
       "    </tr>\n",
       "  </tbody>\n",
       "</table>\n",
       "</div>"
      ],
      "text/plain": [
       "          R1        R2        R3        R4        R5        R6        R7  \\\n",
       "R1  1.000000  0.667570  0.651526  0.620563  0.675926  0.543646  0.490835   \n",
       "R2  0.667570  1.000000  0.634592  0.643221  0.614306  0.539506  0.458058   \n",
       "R3  0.651526  0.634592  1.000000  0.586777  0.598440  0.440820  0.479873   \n",
       "R4  0.620563  0.643221  0.586777  1.000000  0.615385  0.474606  0.433637   \n",
       "R5  0.675926  0.614306  0.598440  0.615385  1.000000  0.627876  0.548657   \n",
       "\n",
       "          R8        R9  \n",
       "R1  0.630485  0.574933  \n",
       "R2  0.467603  0.582822  \n",
       "R3  0.556213  0.568242  \n",
       "R4  0.402174  0.513145  \n",
       "R5  0.600000  0.479889  "
      ]
     },
     "execution_count": 129,
     "metadata": {},
     "output_type": "execute_result"
    }
   ],
   "source": [
    "#compute kappa\n",
    "kappa_df  = df_ratings.drop(['ID','EconVal','ZconVal','Econ','Zcon'],axis=1)\n",
    "kappa_store, Pval_store = kappa_score(kappa_df)\n",
    "# Get results into data frame\n",
    "df_resul= pd.DataFrame(kappa_store,columns=kappa_df.columns,index=kappa_df.columns)\n",
    "df_resul.head()"
   ]
  },
  {
   "cell_type": "code",
   "execution_count": 130,
   "metadata": {},
   "outputs": [
    {
     "data": {
      "text/html": [
       "<div>\n",
       "<style scoped>\n",
       "    .dataframe tbody tr th:only-of-type {\n",
       "        vertical-align: middle;\n",
       "    }\n",
       "\n",
       "    .dataframe tbody tr th {\n",
       "        vertical-align: top;\n",
       "    }\n",
       "\n",
       "    .dataframe thead th {\n",
       "        text-align: right;\n",
       "    }\n",
       "</style>\n",
       "<table border=\"1\" class=\"dataframe\">\n",
       "  <thead>\n",
       "    <tr style=\"text-align: right;\">\n",
       "      <th></th>\n",
       "      <th>a</th>\n",
       "      <th>b</th>\n",
       "      <th>c</th>\n",
       "    </tr>\n",
       "  </thead>\n",
       "  <tbody>\n",
       "    <tr>\n",
       "      <th>1</th>\n",
       "      <td>R1</td>\n",
       "      <td>R2</td>\n",
       "      <td>0.667570</td>\n",
       "    </tr>\n",
       "    <tr>\n",
       "      <th>2</th>\n",
       "      <td>R1</td>\n",
       "      <td>R3</td>\n",
       "      <td>0.651526</td>\n",
       "    </tr>\n",
       "    <tr>\n",
       "      <th>3</th>\n",
       "      <td>R1</td>\n",
       "      <td>R4</td>\n",
       "      <td>0.620563</td>\n",
       "    </tr>\n",
       "    <tr>\n",
       "      <th>4</th>\n",
       "      <td>R1</td>\n",
       "      <td>R5</td>\n",
       "      <td>0.675926</td>\n",
       "    </tr>\n",
       "    <tr>\n",
       "      <th>5</th>\n",
       "      <td>R1</td>\n",
       "      <td>R6</td>\n",
       "      <td>0.543646</td>\n",
       "    </tr>\n",
       "  </tbody>\n",
       "</table>\n",
       "</div>"
      ],
      "text/plain": [
       "    a   b         c\n",
       "1  R1  R2  0.667570\n",
       "2  R1  R3  0.651526\n",
       "3  R1  R4  0.620563\n",
       "4  R1  R5  0.675926\n",
       "5  R1  R6  0.543646"
      ]
     },
     "execution_count": 130,
     "metadata": {},
     "output_type": "execute_result"
    }
   ],
   "source": [
    "# transform results from matrix like to column like  \n",
    "df1 = df_resul.stack().reset_index()\n",
    "#set column names\n",
    "df1.columns = ['a','b','c']\n",
    "#remove kappa for between the same rater ( kappa of 1)\n",
    "df1 = df1[~(df1.a == df1.b)]\n",
    "df1.head()"
   ]
  },
  {
   "cell_type": "code",
   "execution_count": 132,
   "metadata": {},
   "outputs": [
    {
     "data": {
      "image/png": "[encoded data removed]",
      "text/plain": [
       "<Figure size 172.8x144 with 1 Axes>"
      ]
     },
     "metadata": {},
     "output_type": "display_data"
    }
   ],
   "source": [
    "f, axes = plt.subplots(figsize = (2.4,2))\n",
    "sns.set(style=\"white\")\n",
    "sns.axes_style(\"white\")\n",
    "sns.set(font_scale=0.6)\n",
    "sns.boxplot(x='a', y='c', color=\"green\", data=df1,palette=\"Pastel1\",ax=axes)\n",
    "sns.stripplot(x='a', y='c', data=df1, color=\"red\", jitter=0.1, size=2.5,ax=axes)\n",
    "axes.set_xticklabels(df1.a.unique(),rotation=0,fontsize=7)\n",
    "axes.set_ylim([0.2,0.95])\n",
    "plt.title(\"Kappa Distribution\", loc=\"left\")\n",
    "plt.savefig('../reports/figures/Results/Kappa/expert_distrib.svg')"
   ]
  },
  {
   "cell_type": "markdown",
   "metadata": {},
   "source": [
    "### Box plot of Kappa between expert and zooniverse consensus"
   ]
  },
  {
   "cell_type": "code",
   "execution_count": 133,
   "metadata": {},
   "outputs": [
    {
     "data": {
      "text/html": [
       "<div>\n",
       "<style scoped>\n",
       "    .dataframe tbody tr th:only-of-type {\n",
       "        vertical-align: middle;\n",
       "    }\n",
       "\n",
       "    .dataframe tbody tr th {\n",
       "        vertical-align: top;\n",
       "    }\n",
       "\n",
       "    .dataframe thead th {\n",
       "        text-align: right;\n",
       "    }\n",
       "</style>\n",
       "<table border=\"1\" class=\"dataframe\">\n",
       "  <thead>\n",
       "    <tr style=\"text-align: right;\">\n",
       "      <th></th>\n",
       "      <th>R1</th>\n",
       "      <th>R2</th>\n",
       "      <th>R3</th>\n",
       "      <th>R4</th>\n",
       "      <th>R5</th>\n",
       "      <th>R6</th>\n",
       "      <th>R7</th>\n",
       "      <th>R8</th>\n",
       "      <th>R9</th>\n",
       "      <th>Econ</th>\n",
       "      <th>Zcon</th>\n",
       "    </tr>\n",
       "  </thead>\n",
       "  <tbody>\n",
       "    <tr>\n",
       "      <th>R1</th>\n",
       "      <td>1.000000</td>\n",
       "      <td>0.667570</td>\n",
       "      <td>0.651526</td>\n",
       "      <td>0.620563</td>\n",
       "      <td>0.675926</td>\n",
       "      <td>0.543646</td>\n",
       "      <td>0.490835</td>\n",
       "      <td>0.630485</td>\n",
       "      <td>0.574933</td>\n",
       "      <td>0.817563</td>\n",
       "      <td>0.769585</td>\n",
       "    </tr>\n",
       "    <tr>\n",
       "      <th>R2</th>\n",
       "      <td>0.667570</td>\n",
       "      <td>1.000000</td>\n",
       "      <td>0.634592</td>\n",
       "      <td>0.643221</td>\n",
       "      <td>0.614306</td>\n",
       "      <td>0.539506</td>\n",
       "      <td>0.458058</td>\n",
       "      <td>0.467603</td>\n",
       "      <td>0.582822</td>\n",
       "      <td>0.801686</td>\n",
       "      <td>0.635569</td>\n",
       "    </tr>\n",
       "    <tr>\n",
       "      <th>R3</th>\n",
       "      <td>0.651526</td>\n",
       "      <td>0.634592</td>\n",
       "      <td>1.000000</td>\n",
       "      <td>0.586777</td>\n",
       "      <td>0.598440</td>\n",
       "      <td>0.440820</td>\n",
       "      <td>0.479873</td>\n",
       "      <td>0.556213</td>\n",
       "      <td>0.568242</td>\n",
       "      <td>0.735322</td>\n",
       "      <td>0.617408</td>\n",
       "    </tr>\n",
       "    <tr>\n",
       "      <th>R4</th>\n",
       "      <td>0.620563</td>\n",
       "      <td>0.643221</td>\n",
       "      <td>0.586777</td>\n",
       "      <td>1.000000</td>\n",
       "      <td>0.615385</td>\n",
       "      <td>0.474606</td>\n",
       "      <td>0.433637</td>\n",
       "      <td>0.402174</td>\n",
       "      <td>0.513145</td>\n",
       "      <td>0.726300</td>\n",
       "      <td>0.642602</td>\n",
       "    </tr>\n",
       "    <tr>\n",
       "      <th>R5</th>\n",
       "      <td>0.675926</td>\n",
       "      <td>0.614306</td>\n",
       "      <td>0.598440</td>\n",
       "      <td>0.615385</td>\n",
       "      <td>1.000000</td>\n",
       "      <td>0.627876</td>\n",
       "      <td>0.548657</td>\n",
       "      <td>0.600000</td>\n",
       "      <td>0.479889</td>\n",
       "      <td>0.756832</td>\n",
       "      <td>0.619289</td>\n",
       "    </tr>\n",
       "  </tbody>\n",
       "</table>\n",
       "</div>"
      ],
      "text/plain": [
       "          R1        R2        R3        R4        R5        R6        R7  \\\n",
       "R1  1.000000  0.667570  0.651526  0.620563  0.675926  0.543646  0.490835   \n",
       "R2  0.667570  1.000000  0.634592  0.643221  0.614306  0.539506  0.458058   \n",
       "R3  0.651526  0.634592  1.000000  0.586777  0.598440  0.440820  0.479873   \n",
       "R4  0.620563  0.643221  0.586777  1.000000  0.615385  0.474606  0.433637   \n",
       "R5  0.675926  0.614306  0.598440  0.615385  1.000000  0.627876  0.548657   \n",
       "\n",
       "          R8        R9      Econ      Zcon  \n",
       "R1  0.630485  0.574933  0.817563  0.769585  \n",
       "R2  0.467603  0.582822  0.801686  0.635569  \n",
       "R3  0.556213  0.568242  0.735322  0.617408  \n",
       "R4  0.402174  0.513145  0.726300  0.642602  \n",
       "R5  0.600000  0.479889  0.756832  0.619289  "
      ]
     },
     "execution_count": 133,
     "metadata": {},
     "output_type": "execute_result"
    }
   ],
   "source": [
    "# Get Kappa\n",
    "kappa_df  = df_ratings.drop(['ID','EconVal','ZconVal'],axis=1)\n",
    "kappa_store, Pval_store = kappa_score(kappa_df)\n",
    "# transform results from matrix like to column like  \n",
    "df= pd.DataFrame(kappa_store,columns=kappa_df.columns,index=kappa_df.columns)\n",
    "df.head()"
   ]
  },
  {
   "cell_type": "code",
   "execution_count": 134,
   "metadata": {
    "scrolled": false
   },
   "outputs": [
    {
     "name": "stderr",
     "output_type": "stream",
     "text": [
      "/mnt/home_sq/yassinebha/.virtualenvs/zooniverse_qc/lib/python3.5/site-packages/ipykernel_launcher.py:10: UserWarning: Boolean Series key will be reindexed to match DataFrame index.\n",
      "  # Remove the CWD from sys.path while we load stuff.\n"
     ]
    },
    {
     "data": {
      "text/html": [
       "<div>\n",
       "<style scoped>\n",
       "    .dataframe tbody tr th:only-of-type {\n",
       "        vertical-align: middle;\n",
       "    }\n",
       "\n",
       "    .dataframe tbody tr th {\n",
       "        vertical-align: top;\n",
       "    }\n",
       "\n",
       "    .dataframe thead th {\n",
       "        text-align: right;\n",
       "    }\n",
       "</style>\n",
       "<table border=\"1\" class=\"dataframe\">\n",
       "  <thead>\n",
       "    <tr style=\"text-align: right;\">\n",
       "      <th></th>\n",
       "      <th>a</th>\n",
       "      <th>b</th>\n",
       "      <th>c</th>\n",
       "    </tr>\n",
       "  </thead>\n",
       "  <tbody>\n",
       "    <tr>\n",
       "      <th>9</th>\n",
       "      <td>R1</td>\n",
       "      <td>Econ</td>\n",
       "      <td>0.817563</td>\n",
       "    </tr>\n",
       "    <tr>\n",
       "      <th>10</th>\n",
       "      <td>R1</td>\n",
       "      <td>Zcon</td>\n",
       "      <td>0.769585</td>\n",
       "    </tr>\n",
       "    <tr>\n",
       "      <th>20</th>\n",
       "      <td>R2</td>\n",
       "      <td>Econ</td>\n",
       "      <td>0.801686</td>\n",
       "    </tr>\n",
       "    <tr>\n",
       "      <th>21</th>\n",
       "      <td>R2</td>\n",
       "      <td>Zcon</td>\n",
       "      <td>0.635569</td>\n",
       "    </tr>\n",
       "    <tr>\n",
       "      <th>31</th>\n",
       "      <td>R3</td>\n",
       "      <td>Econ</td>\n",
       "      <td>0.735322</td>\n",
       "    </tr>\n",
       "    <tr>\n",
       "      <th>32</th>\n",
       "      <td>R3</td>\n",
       "      <td>Zcon</td>\n",
       "      <td>0.617408</td>\n",
       "    </tr>\n",
       "    <tr>\n",
       "      <th>42</th>\n",
       "      <td>R4</td>\n",
       "      <td>Econ</td>\n",
       "      <td>0.726300</td>\n",
       "    </tr>\n",
       "    <tr>\n",
       "      <th>43</th>\n",
       "      <td>R4</td>\n",
       "      <td>Zcon</td>\n",
       "      <td>0.642602</td>\n",
       "    </tr>\n",
       "    <tr>\n",
       "      <th>53</th>\n",
       "      <td>R5</td>\n",
       "      <td>Econ</td>\n",
       "      <td>0.756832</td>\n",
       "    </tr>\n",
       "    <tr>\n",
       "      <th>54</th>\n",
       "      <td>R5</td>\n",
       "      <td>Zcon</td>\n",
       "      <td>0.619289</td>\n",
       "    </tr>\n",
       "    <tr>\n",
       "      <th>64</th>\n",
       "      <td>R6</td>\n",
       "      <td>Econ</td>\n",
       "      <td>0.643621</td>\n",
       "    </tr>\n",
       "    <tr>\n",
       "      <th>65</th>\n",
       "      <td>R6</td>\n",
       "      <td>Zcon</td>\n",
       "      <td>0.543275</td>\n",
       "    </tr>\n",
       "    <tr>\n",
       "      <th>75</th>\n",
       "      <td>R7</td>\n",
       "      <td>Econ</td>\n",
       "      <td>0.584583</td>\n",
       "    </tr>\n",
       "    <tr>\n",
       "      <th>76</th>\n",
       "      <td>R7</td>\n",
       "      <td>Zcon</td>\n",
       "      <td>0.407245</td>\n",
       "    </tr>\n",
       "    <tr>\n",
       "      <th>86</th>\n",
       "      <td>R8</td>\n",
       "      <td>Econ</td>\n",
       "      <td>0.557221</td>\n",
       "    </tr>\n",
       "    <tr>\n",
       "      <th>87</th>\n",
       "      <td>R8</td>\n",
       "      <td>Zcon</td>\n",
       "      <td>0.586484</td>\n",
       "    </tr>\n",
       "    <tr>\n",
       "      <th>97</th>\n",
       "      <td>R9</td>\n",
       "      <td>Econ</td>\n",
       "      <td>0.660359</td>\n",
       "    </tr>\n",
       "    <tr>\n",
       "      <th>98</th>\n",
       "      <td>R9</td>\n",
       "      <td>Zcon</td>\n",
       "      <td>0.660524</td>\n",
       "    </tr>\n",
       "  </tbody>\n",
       "</table>\n",
       "</div>"
      ],
      "text/plain": [
       "     a     b         c\n",
       "9   R1  Econ  0.817563\n",
       "10  R1  Zcon  0.769585\n",
       "20  R2  Econ  0.801686\n",
       "21  R2  Zcon  0.635569\n",
       "31  R3  Econ  0.735322\n",
       "32  R3  Zcon  0.617408\n",
       "42  R4  Econ  0.726300\n",
       "43  R4  Zcon  0.642602\n",
       "53  R5  Econ  0.756832\n",
       "54  R5  Zcon  0.619289\n",
       "64  R6  Econ  0.643621\n",
       "65  R6  Zcon  0.543275\n",
       "75  R7  Econ  0.584583\n",
       "76  R7  Zcon  0.407245\n",
       "86  R8  Econ  0.557221\n",
       "87  R8  Zcon  0.586484\n",
       "97  R9  Econ  0.660359\n",
       "98  R9  Zcon  0.660524"
      ]
     },
     "execution_count": 134,
     "metadata": {},
     "output_type": "execute_result"
    }
   ],
   "source": [
    "# transform results from matrix like to column like  \n",
    "df1 = df.stack().reset_index()\n",
    "#set column names\n",
    "df1.columns = ['a','b','c']\n",
    "# slect only Zcon and Econ \n",
    "df2 = df1[((df1.b == 'Zcon') | (df1.b == 'Econ'))]\n",
    "# remove kaa between the same rater\n",
    "df3 = df2[~(df2.a == df2.b)]\n",
    "# remove econ vs zcon kappa\n",
    "df4 = df3[~((df1.a == 'Zcon') | (df1.a == 'Econ'))]\n",
    "df4"
   ]
  },
  {
   "cell_type": "code",
   "execution_count": 135,
   "metadata": {
    "scrolled": false
   },
   "outputs": [
    {
     "data": {
      "image/png": "[encoded data removed]",
      "text/plain": [
       "<Figure size 174.24x39.6 with 1 Axes>"
      ]
     },
     "metadata": {},
     "output_type": "display_data"
    }
   ],
   "source": [
    "# box plot of zcon econ\n",
    "f, axes = plt.subplots(figsize = (2.42,0.55))\n",
    "sns.set(style=\"white\")\n",
    "sns.axes_style(\"white\")\n",
    "sns.set(font_scale=0.6)\n",
    "sns.boxplot(x='c', y='b', color=\"green\", data=df4, palette=\"Pastel1\",ax=axes)\n",
    "sns.stripplot(x='c', y='b', data=df4, color=\"red\", jitter=0.1, size=2.5,ax=axes)\n",
    "axes.set_xlim([0.35,1])\n",
    "#axes.set_xticklabels(df4.b.unique(),rotation=90,fontsize=7)\n",
    "plt.savefig('../reports/figures/Results/Kappa/expcon_vs_zooncon_distrib.svg')"
   ]
  },
  {
   "cell_type": "markdown",
   "metadata": {},
   "source": [
    "### Kappa coef Zcon Econ"
   ]
  },
  {
   "cell_type": "code",
   "execution_count": 136,
   "metadata": {},
   "outputs": [
    {
     "data": {
      "text/html": [
       "<div>\n",
       "<style scoped>\n",
       "    .dataframe tbody tr th:only-of-type {\n",
       "        vertical-align: middle;\n",
       "    }\n",
       "\n",
       "    .dataframe tbody tr th {\n",
       "        vertical-align: top;\n",
       "    }\n",
       "\n",
       "    .dataframe thead th {\n",
       "        text-align: right;\n",
       "    }\n",
       "</style>\n",
       "<table border=\"1\" class=\"dataframe\">\n",
       "  <thead>\n",
       "    <tr style=\"text-align: right;\">\n",
       "      <th></th>\n",
       "      <th>R1</th>\n",
       "      <th>R2</th>\n",
       "      <th>R3</th>\n",
       "      <th>R4</th>\n",
       "      <th>R5</th>\n",
       "      <th>R6</th>\n",
       "      <th>R7</th>\n",
       "      <th>R8</th>\n",
       "      <th>R9</th>\n",
       "    </tr>\n",
       "  </thead>\n",
       "  <tbody>\n",
       "    <tr>\n",
       "      <th>Econ</th>\n",
       "      <td>0.817563</td>\n",
       "      <td>0.801686</td>\n",
       "      <td>0.735322</td>\n",
       "      <td>0.726300</td>\n",
       "      <td>0.756832</td>\n",
       "      <td>0.643621</td>\n",
       "      <td>0.584583</td>\n",
       "      <td>0.557221</td>\n",
       "      <td>0.660359</td>\n",
       "    </tr>\n",
       "    <tr>\n",
       "      <th>Zcon</th>\n",
       "      <td>0.769585</td>\n",
       "      <td>0.635569</td>\n",
       "      <td>0.617408</td>\n",
       "      <td>0.642602</td>\n",
       "      <td>0.619289</td>\n",
       "      <td>0.543275</td>\n",
       "      <td>0.407245</td>\n",
       "      <td>0.586484</td>\n",
       "      <td>0.660524</td>\n",
       "    </tr>\n",
       "  </tbody>\n",
       "</table>\n",
       "</div>"
      ],
      "text/plain": [
       "            R1        R2        R3        R4        R5        R6        R7  \\\n",
       "Econ  0.817563  0.801686  0.735322  0.726300  0.756832  0.643621  0.584583   \n",
       "Zcon  0.769585  0.635569  0.617408  0.642602  0.619289  0.543275  0.407245   \n",
       "\n",
       "            R8        R9  \n",
       "Econ  0.557221  0.660359  \n",
       "Zcon  0.586484  0.660524  "
      ]
     },
     "execution_count": 136,
     "metadata": {},
     "output_type": "execute_result"
    }
   ],
   "source": [
    "# Pivot table\n",
    "df5=df4.pivot_table(values=['c'], index=['a'],columns=['b'])\n",
    "# flaten hearers and rotate it \n",
    "df5.columns = df5.columns.levels[1].get_values()\n",
    "df5.index.name = None\n",
    "df5=df5.T\n",
    "#df5 = df5[['Surc','Jpau','Cmak','Edup','Abad','Atam','Jche','Pfer', 'Czwe']]\n",
    "df5"
   ]
  },
  {
   "cell_type": "code",
   "execution_count": 137,
   "metadata": {},
   "outputs": [
    {
     "name": "stdout",
     "output_type": "stream",
     "text": [
      "Kappa Ec range from 0.70 to 0.82 ,Mean dice : 0.70 , std : 0.09\n",
      "\n",
      "Kappa Zc range from 0.61 to 0.77 ,Mean dice : 0.61 , std : 0.09\n",
      "\n"
     ]
    }
   ],
   "source": [
    "econ_ = df5.T.Econ\n",
    "zcon_ = df5.T.Zcon\n",
    "mean_e = np.mean(econ_)\n",
    "mean_z = np.mean(zcon_)\n",
    "std_e = np.std(econ_)\n",
    "std_z = np.std(zcon_)\n",
    "max_e = np.max(econ_); min_e = np.mean(econ_)\n",
    "max_z = np.max(zcon_); min_z = np.mean(zcon_)\n",
    "print('Kappa Ec range from {0:.2f} to {1:.2f} ,Mean dice : {2:.2f} , std : {3:.2f}\\n'.format(min_e,\n",
    "                                                                                         max_e,\n",
    "                                                                                         mean_e,\n",
    "                                                                                         std_e))\n",
    "print('Kappa Zc range from {0:.2f} to {1:.2f} ,Mean dice : {2:.2f} , std : {3:.2f}\\n'.format(min_z,\n",
    "                                                                                         max_z,\n",
    "                                                                                         mean_z,\n",
    "                                                                                         std_z))"
   ]
  },
  {
   "cell_type": "code",
   "execution_count": 61,
   "metadata": {},
   "outputs": [
    {
     "data": {
      "image/png": "[encoded data removed]",
      "text/plain": [
       "<Figure size 216x39.6 with 2 Axes>"
      ]
     },
     "metadata": {},
     "output_type": "display_data"
    }
   ],
   "source": [
    "# Plot Dice matrix for concensus exert and  zooniverse\n",
    "\n",
    "# Set up the matplotlib figure\n",
    "f, axes = plt.subplots(figsize = (3,0.55))\n",
    "f.subplots_adjust(hspace= .8)\n",
    "sns.set(font_scale=0.6)\n",
    "f.suptitle('Inter-consensus Kappa ',x=0.49,y=1.5, fontsize=8, fontweight='bold')\n",
    "# Draw kappa heat map\n",
    "\n",
    "sns.heatmap(df5,vmin=0.1,vmax=0.8,cmap=\"YlGnBu_r\",\n",
    "            square=True,\n",
    "            annot=True,annot_kws={\"size\": 6},\n",
    "            linewidths=.5, \n",
    "            cbar_kws={\"shrink\": 0.85,\"label\": \"Cohen's Kappa\"}, \n",
    "            ax=axes)\n",
    "sns.set(style=\"white\")\n",
    "sns.axes_style(\"white\")\n",
    "\n",
    "#axes.set_yticks([x+0.5 for x in range(len(dice_df.columns))])\n",
    "axes.set_yticklabels(df5.index,rotation=0,fontsize=7)\n",
    "axes.set_xticklabels(df5.columns,rotation=0,fontsize=7)\n",
    "\n",
    "# Caption\n",
    "txt = '''\n",
    "Fig1: Kappa matrix for consensus expert raters vs Zooniverse raters''';\n",
    "f.text(0.1,-1,txt,fontsize=8);\n",
    "\n",
    "# Save figure\n",
    "f.savefig('../reports/figures/Results/Kappa/Full-Launch-consensus-experts-Vs-Zooniv.svg')"
   ]
  },
  {
   "cell_type": "code",
   "execution_count": 62,
   "metadata": {},
   "outputs": [
    {
     "name": "stderr",
     "output_type": "stream",
     "text": [
      "/mnt/home_sq/yassinebha/.virtualenvs/zooniverse_qc/lib/python3.5/site-packages/scipy/stats/stats.py:1706: FutureWarning: Using a non-tuple sequence for multidimensional indexing is deprecated; use `arr[tuple(seq)]` instead of `arr[seq]`. In the future this will be interpreted as an array index, `arr[np.array(seq)]`, which will result either in an error or a different result.\n",
      "  return np.add.reduce(sorted[indexer] * weights, axis=axis) / sumval\n",
      "/mnt/home_sq/yassinebha/.virtualenvs/zooniverse_qc/lib/python3.5/site-packages/seaborn/axisgrid.py:1847: UserWarning: JointGrid annotation is deprecated and will be removed in a future release.\n",
      "  warnings.warn(UserWarning(msg))\n"
     ]
    },
    {
     "data": {
      "image/png": "[encoded data removed]",
      "text/plain": [
       "<Figure size 180x180 with 3 Axes>"
      ]
     },
     "metadata": {},
     "output_type": "display_data"
    }
   ],
   "source": [
    "import scipy.stats as stats\n",
    "sns.set(color_codes=True)\n",
    "sns.set(font_scale=0.6)\n",
    "joint = sns.jointplot(x='Econ', y='Zcon',data= df5.T,\n",
    "              kind=\"reg\",xlim=[0.35,1], ylim=[0.35,1])\n",
    "joint.annotate(stats.pearsonr,)\n",
    "\n",
    "joint.fig.set_figwidth(2.5)\n",
    "joint.fig.set_figheight(2.5)\n",
    "plt.savefig('../reports/figures/Results/Kappa/expert_vs_zooniv_consensus.svg')"
   ]
  },
  {
   "cell_type": "markdown",
   "metadata": {},
   "source": [
    "### Compute Dice coefficient between raters "
   ]
  },
  {
   "cell_type": "code",
   "execution_count": 63,
   "metadata": {},
   "outputs": [],
   "source": [
    "def dice(im1, im2, empty_score=1.0):\n",
    "    \"\"\"\n",
    "    Computes the Dice coefficient, a measure of set similarity.\n",
    "    Parameters\n",
    "    ----------\n",
    "    im1 : array-like, bool\n",
    "        Any array of arbitrary size. If not boolean, will be converted.\n",
    "    im2 : array-like, bool\n",
    "        Any other array of identical size. If not boolean, will be converted.\n",
    "    Returns\n",
    "    -------\n",
    "    dice : float\n",
    "        Dice coefficient as a float on range [0,1].\n",
    "        Maximum similarity = 1\n",
    "        No similarity = 0\n",
    "        Both are empty (sum eq to zero) = empty_score\n",
    "        \n",
    "    Notes\n",
    "    -----\n",
    "    The order of inputs for `dice` is irrelevant. The result will be\n",
    "    identical if `im1` and `im2` are switched.\n",
    "    \"\"\"\n",
    "    im1 = np.asarray(im1).astype(np.bool)\n",
    "    im2 = np.asarray(im2).astype(np.bool)\n",
    "\n",
    "    if im1.shape != im2.shape:\n",
    "        raise ValueError(\"Shape mismatch: im1 and im2 must have the same shape.\")\n",
    "\n",
    "    im_sum = im1.sum() + im2.sum()\n",
    "    if im_sum == 0:\n",
    "        return empty_score\n",
    "\n",
    "    # Compute Dice coefficient\n",
    "    intersection = np.logical_and(im1, im2)\n",
    "\n",
    "    return 2. * intersection.sum() / im_sum"
   ]
  },
  {
   "cell_type": "code",
   "execution_count": 64,
   "metadata": {},
   "outputs": [],
   "source": [
    "# Dice matrix calculation\n",
    "from sklearn.preprocessing import OneHotEncoder\n",
    "def dice_score(d_df):\n",
    "    '''calculate Dice coefficient between diferent raters organized in dataframe'''\n",
    "    # initiate a one hot encoder\n",
    "    onehot_encoder = OneHotEncoder(sparse=False)\n",
    "    \n",
    "    scales = np.unique(d_df)\n",
    "    d_store = np.zeros((len(d_df.columns), len(d_df.columns),len(scales)))\n",
    "    for ind_scal, scal in enumerate (scales):\n",
    "        for user1_id, user1 in enumerate(d_df.columns):\n",
    "            for user2_id, user2 in enumerate(d_df.columns):\n",
    "                m1 = onehot_encoder.fit_transform(d_df[user1].values.reshape(len(d_df[user1]), 1))[:,ind_scal]\n",
    "                m2 = onehot_encoder.fit_transform(d_df[user2].values.reshape(len(d_df[user2]), 1))[:,ind_scal]\n",
    "                d_store[user1_id, user2_id,ind_scal] = dice(m1,m2)\n",
    "    return d_store,scales"
   ]
  },
  {
   "cell_type": "markdown",
   "metadata": {},
   "source": [
    "## Dice for OK category"
   ]
  },
  {
   "cell_type": "code",
   "execution_count": 65,
   "metadata": {},
   "outputs": [],
   "source": [
    "# Get Kappa score out of all different combination of ratings\n",
    "dice_df  = df_ratings.drop(['ID','EconVal','ZconVal','Econ','Zcon'],axis=1)\n",
    "dice_store, scales = dice_score(dice_df)"
   ]
  },
  {
   "cell_type": "code",
   "execution_count": 71,
   "metadata": {},
   "outputs": [
    {
     "name": "stdout",
     "output_type": "stream",
     "text": [
      "Dice range from 0.38 to 0.76 ,Mean dice : 0.61 , std : 0.10\n",
      "\n"
     ]
    }
   ],
   "source": [
    "dic_ = dice_store[:,:,0][np.triu_indices(len(dice_store[:,:,0]),k=1)]\n",
    "mean_dic = np.mean(dic_)\n",
    "std_dic = np.std(dic_)\n",
    "max_dic = np.max(dic_)\n",
    "min_dic = np.min(dic_)\n",
    "print('Dice range from {0:.2f} to {1:.2f} ,Mean dice : {2:.2f} , std : {3:.2f}\\n'.format(min_dic,max_dic,mean_dic, std_dic))"
   ]
  },
  {
   "cell_type": "code",
   "execution_count": 72,
   "metadata": {
    "scrolled": false
   },
   "outputs": [
    {
     "data": {
      "image/png": "[encoded data removed]",
      "text/plain": [
       "<Figure size 216x216 with 2 Axes>"
      ]
     },
     "metadata": {},
     "output_type": "display_data"
    }
   ],
   "source": [
    "# Plot kappa matrix for expert only\n",
    "dice_out = pd.DataFrame(dice_store[:,:,0], \n",
    "                         index=dice_df.columns.get_values(),\n",
    "                         columns=dice_df.columns.get_values())\n",
    "\n",
    "\n",
    "# Set up the matplotlib figure\n",
    "f, axes = plt.subplots(figsize = (3,3))\n",
    "f.subplots_adjust(hspace= .8)\n",
    "sns.set(font_scale=0.6)\n",
    "f.suptitle('Inter-Experts Dice Coefficent for OK ratings',x=0.49,y=1.05, fontsize=10, fontweight='bold')\n",
    "# Draw kappa heat map\n",
    "mask = np.zeros_like(dice_out)\n",
    "mask[np.triu_indices_from(mask)] = True\n",
    "sns.heatmap(dice_out,vmin=0.1,vmax=0.8,cmap=\"YlGnBu_r\",\n",
    "            square=True,\n",
    "            annot=True,annot_kws={\"size\": 6},\n",
    "            mask = mask,\n",
    "            linewidths=.5, \n",
    "            cbar_kws={\"shrink\": .3,\"label\": \"Dice Coeff OK\"}, \n",
    "            ax=axes)\n",
    "sns.set(style=\"white\")\n",
    "sns.axes_style(\"white\")\n",
    "\n",
    "axes.set_yticks([x+0.5 for x in range(len(dice_df.columns))])\n",
    "axes.set_yticklabels(dice_df.columns,rotation=0,fontsize=7)\n",
    "axes.set_xticklabels(dice_df.columns,rotation=0,fontsize=7)\n",
    "\n",
    "# Caption\n",
    "txt = '''\n",
    "Fig1: Dice matrix for {} images from {} QC expert raters'''.format(len(dice_df),len(dice_df.columns));\n",
    "f.text(0.1,-0.1,txt,fontsize=8);\n",
    "#f.text(0.11,0.88,'High',fontsize=12)\n",
    "#f.text(0.10,0.62,'Level of QC expertise',fontsize=12,rotation=90)\n",
    "# Save figure\n",
    "f.savefig('../reports/figures/Results/Dice/Full-Launch-experts_OK.svg')"
   ]
  },
  {
   "cell_type": "markdown",
   "metadata": {},
   "source": [
    "### Boxplot of OK Dice distribution between raters"
   ]
  },
  {
   "cell_type": "code",
   "execution_count": 73,
   "metadata": {},
   "outputs": [
    {
     "data": {
      "text/html": [
       "<div>\n",
       "<style scoped>\n",
       "    .dataframe tbody tr th:only-of-type {\n",
       "        vertical-align: middle;\n",
       "    }\n",
       "\n",
       "    .dataframe tbody tr th {\n",
       "        vertical-align: top;\n",
       "    }\n",
       "\n",
       "    .dataframe thead th {\n",
       "        text-align: right;\n",
       "    }\n",
       "</style>\n",
       "<table border=\"1\" class=\"dataframe\">\n",
       "  <thead>\n",
       "    <tr style=\"text-align: right;\">\n",
       "      <th></th>\n",
       "      <th>R1</th>\n",
       "      <th>R2</th>\n",
       "      <th>R3</th>\n",
       "      <th>R4</th>\n",
       "      <th>R5</th>\n",
       "      <th>R6</th>\n",
       "      <th>R7</th>\n",
       "      <th>R8</th>\n",
       "      <th>R9</th>\n",
       "    </tr>\n",
       "  </thead>\n",
       "  <tbody>\n",
       "    <tr>\n",
       "      <th>R1</th>\n",
       "      <td>1.000000</td>\n",
       "      <td>0.708861</td>\n",
       "      <td>0.705882</td>\n",
       "      <td>0.600000</td>\n",
       "      <td>0.758621</td>\n",
       "      <td>0.583333</td>\n",
       "      <td>0.558824</td>\n",
       "      <td>0.761905</td>\n",
       "      <td>0.643678</td>\n",
       "    </tr>\n",
       "    <tr>\n",
       "      <th>R2</th>\n",
       "      <td>0.708861</td>\n",
       "      <td>1.000000</td>\n",
       "      <td>0.717949</td>\n",
       "      <td>0.666667</td>\n",
       "      <td>0.725000</td>\n",
       "      <td>0.584615</td>\n",
       "      <td>0.557377</td>\n",
       "      <td>0.612245</td>\n",
       "      <td>0.675000</td>\n",
       "    </tr>\n",
       "    <tr>\n",
       "      <th>R3</th>\n",
       "      <td>0.705882</td>\n",
       "      <td>0.717949</td>\n",
       "      <td>1.000000</td>\n",
       "      <td>0.608696</td>\n",
       "      <td>0.720930</td>\n",
       "      <td>0.507042</td>\n",
       "      <td>0.537313</td>\n",
       "      <td>0.692308</td>\n",
       "      <td>0.651163</td>\n",
       "    </tr>\n",
       "    <tr>\n",
       "      <th>R4</th>\n",
       "      <td>0.600000</td>\n",
       "      <td>0.666667</td>\n",
       "      <td>0.608696</td>\n",
       "      <td>1.000000</td>\n",
       "      <td>0.647887</td>\n",
       "      <td>0.428571</td>\n",
       "      <td>0.384615</td>\n",
       "      <td>0.494382</td>\n",
       "      <td>0.535211</td>\n",
       "    </tr>\n",
       "    <tr>\n",
       "      <th>R5</th>\n",
       "      <td>0.758621</td>\n",
       "      <td>0.725000</td>\n",
       "      <td>0.720930</td>\n",
       "      <td>0.647887</td>\n",
       "      <td>1.000000</td>\n",
       "      <td>0.630137</td>\n",
       "      <td>0.608696</td>\n",
       "      <td>0.735849</td>\n",
       "      <td>0.590909</td>\n",
       "    </tr>\n",
       "  </tbody>\n",
       "</table>\n",
       "</div>"
      ],
      "text/plain": [
       "          R1        R2        R3        R4        R5        R6        R7  \\\n",
       "R1  1.000000  0.708861  0.705882  0.600000  0.758621  0.583333  0.558824   \n",
       "R2  0.708861  1.000000  0.717949  0.666667  0.725000  0.584615  0.557377   \n",
       "R3  0.705882  0.717949  1.000000  0.608696  0.720930  0.507042  0.537313   \n",
       "R4  0.600000  0.666667  0.608696  1.000000  0.647887  0.428571  0.384615   \n",
       "R5  0.758621  0.725000  0.720930  0.647887  1.000000  0.630137  0.608696   \n",
       "\n",
       "          R8        R9  \n",
       "R1  0.761905  0.643678  \n",
       "R2  0.612245  0.675000  \n",
       "R3  0.692308  0.651163  \n",
       "R4  0.494382  0.535211  \n",
       "R5  0.735849  0.590909  "
      ]
     },
     "execution_count": 73,
     "metadata": {},
     "output_type": "execute_result"
    }
   ],
   "source": [
    "#compute Dice\n",
    "dice_df  = df_ratings.drop(['ID','EconVal','ZconVal','Econ','Zcon'],axis=1)\n",
    "dice_store, scales = dice_score(dice_df)\n",
    "# Get results into data frame\n",
    "df_resul= pd.DataFrame(dice_store[:,:,0],columns=dice_df.columns,index=dice_df.columns)\n",
    "df_resul.head()"
   ]
  },
  {
   "cell_type": "code",
   "execution_count": 74,
   "metadata": {},
   "outputs": [
    {
     "data": {
      "text/html": [
       "<div>\n",
       "<style scoped>\n",
       "    .dataframe tbody tr th:only-of-type {\n",
       "        vertical-align: middle;\n",
       "    }\n",
       "\n",
       "    .dataframe tbody tr th {\n",
       "        vertical-align: top;\n",
       "    }\n",
       "\n",
       "    .dataframe thead th {\n",
       "        text-align: right;\n",
       "    }\n",
       "</style>\n",
       "<table border=\"1\" class=\"dataframe\">\n",
       "  <thead>\n",
       "    <tr style=\"text-align: right;\">\n",
       "      <th></th>\n",
       "      <th>a</th>\n",
       "      <th>b</th>\n",
       "      <th>c</th>\n",
       "    </tr>\n",
       "  </thead>\n",
       "  <tbody>\n",
       "    <tr>\n",
       "      <th>1</th>\n",
       "      <td>R1</td>\n",
       "      <td>R2</td>\n",
       "      <td>0.708861</td>\n",
       "    </tr>\n",
       "    <tr>\n",
       "      <th>2</th>\n",
       "      <td>R1</td>\n",
       "      <td>R3</td>\n",
       "      <td>0.705882</td>\n",
       "    </tr>\n",
       "    <tr>\n",
       "      <th>3</th>\n",
       "      <td>R1</td>\n",
       "      <td>R4</td>\n",
       "      <td>0.600000</td>\n",
       "    </tr>\n",
       "    <tr>\n",
       "      <th>4</th>\n",
       "      <td>R1</td>\n",
       "      <td>R5</td>\n",
       "      <td>0.758621</td>\n",
       "    </tr>\n",
       "    <tr>\n",
       "      <th>5</th>\n",
       "      <td>R1</td>\n",
       "      <td>R6</td>\n",
       "      <td>0.583333</td>\n",
       "    </tr>\n",
       "  </tbody>\n",
       "</table>\n",
       "</div>"
      ],
      "text/plain": [
       "    a   b         c\n",
       "1  R1  R2  0.708861\n",
       "2  R1  R3  0.705882\n",
       "3  R1  R4  0.600000\n",
       "4  R1  R5  0.758621\n",
       "5  R1  R6  0.583333"
      ]
     },
     "execution_count": 74,
     "metadata": {},
     "output_type": "execute_result"
    }
   ],
   "source": [
    "# transform results from matrix like to column like  \n",
    "df1 = df_resul.stack().reset_index()\n",
    "#set column names\n",
    "df1.columns = ['a','b','c']\n",
    "#remove kappa for between the same rater ( kappa of 1)\n",
    "df1 = df1[~(df1.a == df1.b)]\n",
    "df1.head()"
   ]
  },
  {
   "cell_type": "code",
   "execution_count": 76,
   "metadata": {
    "scrolled": true
   },
   "outputs": [
    {
     "data": {
      "image/png": "[encoded data removed]",
      "text/plain": [
       "<Figure size 172.8x144 with 1 Axes>"
      ]
     },
     "metadata": {},
     "output_type": "display_data"
    }
   ],
   "source": [
    "f, axes = plt.subplots(figsize = (2.4,2))\n",
    "sns.set(style=\"white\")\n",
    "sns.axes_style(\"white\")\n",
    "sns.set(font_scale=0.6)\n",
    "sns.boxplot(x='a', y='c', color=\"green\", data=df1,palette=\"Pastel1\")\n",
    "sns.stripplot(x='a', y='c', data=df1, color=\"red\", jitter=0.1, size=2.5)\n",
    "axes.set_xticklabels(df1.a.unique(),rotation=0,fontsize=7)\n",
    "axes.set_ylim([0.2,0.95])\n",
    "plt.title(\"Dice Distribution OK\", loc=\"left\")\n",
    "plt.savefig('../reports/figures/Results/Dice/expert_distrib_OK.svg')"
   ]
  },
  {
   "cell_type": "markdown",
   "metadata": {},
   "source": [
    "### Box plot of OK Dice between expert and zooniverse consensus"
   ]
  },
  {
   "cell_type": "code",
   "execution_count": 77,
   "metadata": {},
   "outputs": [
    {
     "data": {
      "text/html": [
       "<div>\n",
       "<style scoped>\n",
       "    .dataframe tbody tr th:only-of-type {\n",
       "        vertical-align: middle;\n",
       "    }\n",
       "\n",
       "    .dataframe tbody tr th {\n",
       "        vertical-align: top;\n",
       "    }\n",
       "\n",
       "    .dataframe thead th {\n",
       "        text-align: right;\n",
       "    }\n",
       "</style>\n",
       "<table border=\"1\" class=\"dataframe\">\n",
       "  <thead>\n",
       "    <tr style=\"text-align: right;\">\n",
       "      <th></th>\n",
       "      <th>R1</th>\n",
       "      <th>R2</th>\n",
       "      <th>R3</th>\n",
       "      <th>R4</th>\n",
       "      <th>R5</th>\n",
       "      <th>R6</th>\n",
       "      <th>R7</th>\n",
       "      <th>R8</th>\n",
       "      <th>R9</th>\n",
       "      <th>Econ</th>\n",
       "      <th>Zcon</th>\n",
       "    </tr>\n",
       "  </thead>\n",
       "  <tbody>\n",
       "    <tr>\n",
       "      <th>R1</th>\n",
       "      <td>1.000000</td>\n",
       "      <td>0.708861</td>\n",
       "      <td>0.705882</td>\n",
       "      <td>0.600000</td>\n",
       "      <td>0.758621</td>\n",
       "      <td>0.583333</td>\n",
       "      <td>0.558824</td>\n",
       "      <td>0.761905</td>\n",
       "      <td>0.643678</td>\n",
       "      <td>0.829268</td>\n",
       "      <td>0.826087</td>\n",
       "    </tr>\n",
       "    <tr>\n",
       "      <th>R2</th>\n",
       "      <td>0.708861</td>\n",
       "      <td>1.000000</td>\n",
       "      <td>0.717949</td>\n",
       "      <td>0.666667</td>\n",
       "      <td>0.725000</td>\n",
       "      <td>0.584615</td>\n",
       "      <td>0.557377</td>\n",
       "      <td>0.612245</td>\n",
       "      <td>0.675000</td>\n",
       "      <td>0.853333</td>\n",
       "      <td>0.729412</td>\n",
       "    </tr>\n",
       "    <tr>\n",
       "      <th>R3</th>\n",
       "      <td>0.705882</td>\n",
       "      <td>0.717949</td>\n",
       "      <td>1.000000</td>\n",
       "      <td>0.608696</td>\n",
       "      <td>0.720930</td>\n",
       "      <td>0.507042</td>\n",
       "      <td>0.537313</td>\n",
       "      <td>0.692308</td>\n",
       "      <td>0.651163</td>\n",
       "      <td>0.790123</td>\n",
       "      <td>0.725275</td>\n",
       "    </tr>\n",
       "    <tr>\n",
       "      <th>R4</th>\n",
       "      <td>0.600000</td>\n",
       "      <td>0.666667</td>\n",
       "      <td>0.608696</td>\n",
       "      <td>1.000000</td>\n",
       "      <td>0.647887</td>\n",
       "      <td>0.428571</td>\n",
       "      <td>0.384615</td>\n",
       "      <td>0.494382</td>\n",
       "      <td>0.535211</td>\n",
       "      <td>0.696970</td>\n",
       "      <td>0.684211</td>\n",
       "    </tr>\n",
       "    <tr>\n",
       "      <th>R5</th>\n",
       "      <td>0.758621</td>\n",
       "      <td>0.725000</td>\n",
       "      <td>0.720930</td>\n",
       "      <td>0.647887</td>\n",
       "      <td>1.000000</td>\n",
       "      <td>0.630137</td>\n",
       "      <td>0.608696</td>\n",
       "      <td>0.735849</td>\n",
       "      <td>0.590909</td>\n",
       "      <td>0.819277</td>\n",
       "      <td>0.752688</td>\n",
       "    </tr>\n",
       "  </tbody>\n",
       "</table>\n",
       "</div>"
      ],
      "text/plain": [
       "          R1        R2        R3        R4        R5        R6        R7  \\\n",
       "R1  1.000000  0.708861  0.705882  0.600000  0.758621  0.583333  0.558824   \n",
       "R2  0.708861  1.000000  0.717949  0.666667  0.725000  0.584615  0.557377   \n",
       "R3  0.705882  0.717949  1.000000  0.608696  0.720930  0.507042  0.537313   \n",
       "R4  0.600000  0.666667  0.608696  1.000000  0.647887  0.428571  0.384615   \n",
       "R5  0.758621  0.725000  0.720930  0.647887  1.000000  0.630137  0.608696   \n",
       "\n",
       "          R8        R9      Econ      Zcon  \n",
       "R1  0.761905  0.643678  0.829268  0.826087  \n",
       "R2  0.612245  0.675000  0.853333  0.729412  \n",
       "R3  0.692308  0.651163  0.790123  0.725275  \n",
       "R4  0.494382  0.535211  0.696970  0.684211  \n",
       "R5  0.735849  0.590909  0.819277  0.752688  "
      ]
     },
     "execution_count": 77,
     "metadata": {},
     "output_type": "execute_result"
    }
   ],
   "source": [
    "# Get Dice\n",
    "dice_df  = df_ratings.drop(['ID','EconVal','ZconVal'],axis=1)\n",
    "dice_store, scales = dice_score(dice_df)\n",
    "# transform results from matrix like to column like  \n",
    "df= pd.DataFrame(dice_store[:,:,0],columns=dice_df.columns,index=dice_df.columns)\n",
    "df.head()"
   ]
  },
  {
   "cell_type": "code",
   "execution_count": 78,
   "metadata": {
    "scrolled": false
   },
   "outputs": [
    {
     "name": "stderr",
     "output_type": "stream",
     "text": [
      "/mnt/home_sq/yassinebha/.virtualenvs/zooniverse_qc/lib/python3.5/site-packages/ipykernel_launcher.py:10: UserWarning: Boolean Series key will be reindexed to match DataFrame index.\n",
      "  # Remove the CWD from sys.path while we load stuff.\n"
     ]
    },
    {
     "data": {
      "text/html": [
       "<div>\n",
       "<style scoped>\n",
       "    .dataframe tbody tr th:only-of-type {\n",
       "        vertical-align: middle;\n",
       "    }\n",
       "\n",
       "    .dataframe tbody tr th {\n",
       "        vertical-align: top;\n",
       "    }\n",
       "\n",
       "    .dataframe thead th {\n",
       "        text-align: right;\n",
       "    }\n",
       "</style>\n",
       "<table border=\"1\" class=\"dataframe\">\n",
       "  <thead>\n",
       "    <tr style=\"text-align: right;\">\n",
       "      <th></th>\n",
       "      <th>a</th>\n",
       "      <th>b</th>\n",
       "      <th>c</th>\n",
       "    </tr>\n",
       "  </thead>\n",
       "  <tbody>\n",
       "    <tr>\n",
       "      <th>9</th>\n",
       "      <td>R1</td>\n",
       "      <td>Econ</td>\n",
       "      <td>0.829268</td>\n",
       "    </tr>\n",
       "    <tr>\n",
       "      <th>10</th>\n",
       "      <td>R1</td>\n",
       "      <td>Zcon</td>\n",
       "      <td>0.826087</td>\n",
       "    </tr>\n",
       "    <tr>\n",
       "      <th>20</th>\n",
       "      <td>R2</td>\n",
       "      <td>Econ</td>\n",
       "      <td>0.853333</td>\n",
       "    </tr>\n",
       "    <tr>\n",
       "      <th>21</th>\n",
       "      <td>R2</td>\n",
       "      <td>Zcon</td>\n",
       "      <td>0.729412</td>\n",
       "    </tr>\n",
       "    <tr>\n",
       "      <th>31</th>\n",
       "      <td>R3</td>\n",
       "      <td>Econ</td>\n",
       "      <td>0.790123</td>\n",
       "    </tr>\n",
       "    <tr>\n",
       "      <th>32</th>\n",
       "      <td>R3</td>\n",
       "      <td>Zcon</td>\n",
       "      <td>0.725275</td>\n",
       "    </tr>\n",
       "    <tr>\n",
       "      <th>42</th>\n",
       "      <td>R4</td>\n",
       "      <td>Econ</td>\n",
       "      <td>0.696970</td>\n",
       "    </tr>\n",
       "    <tr>\n",
       "      <th>43</th>\n",
       "      <td>R4</td>\n",
       "      <td>Zcon</td>\n",
       "      <td>0.684211</td>\n",
       "    </tr>\n",
       "    <tr>\n",
       "      <th>53</th>\n",
       "      <td>R5</td>\n",
       "      <td>Econ</td>\n",
       "      <td>0.819277</td>\n",
       "    </tr>\n",
       "    <tr>\n",
       "      <th>54</th>\n",
       "      <td>R5</td>\n",
       "      <td>Zcon</td>\n",
       "      <td>0.752688</td>\n",
       "    </tr>\n",
       "    <tr>\n",
       "      <th>64</th>\n",
       "      <td>R6</td>\n",
       "      <td>Econ</td>\n",
       "      <td>0.676471</td>\n",
       "    </tr>\n",
       "    <tr>\n",
       "      <th>65</th>\n",
       "      <td>R6</td>\n",
       "      <td>Zcon</td>\n",
       "      <td>0.641026</td>\n",
       "    </tr>\n",
       "    <tr>\n",
       "      <th>75</th>\n",
       "      <td>R7</td>\n",
       "      <td>Econ</td>\n",
       "      <td>0.656250</td>\n",
       "    </tr>\n",
       "    <tr>\n",
       "      <th>76</th>\n",
       "      <td>R7</td>\n",
       "      <td>Zcon</td>\n",
       "      <td>0.513514</td>\n",
       "    </tr>\n",
       "    <tr>\n",
       "      <th>86</th>\n",
       "      <td>R8</td>\n",
       "      <td>Econ</td>\n",
       "      <td>0.693069</td>\n",
       "    </tr>\n",
       "    <tr>\n",
       "      <th>87</th>\n",
       "      <td>R8</td>\n",
       "      <td>Zcon</td>\n",
       "      <td>0.774775</td>\n",
       "    </tr>\n",
       "    <tr>\n",
       "      <th>97</th>\n",
       "      <td>R9</td>\n",
       "      <td>Econ</td>\n",
       "      <td>0.722892</td>\n",
       "    </tr>\n",
       "    <tr>\n",
       "      <th>98</th>\n",
       "      <td>R9</td>\n",
       "      <td>Zcon</td>\n",
       "      <td>0.752688</td>\n",
       "    </tr>\n",
       "  </tbody>\n",
       "</table>\n",
       "</div>"
      ],
      "text/plain": [
       "     a     b         c\n",
       "9   R1  Econ  0.829268\n",
       "10  R1  Zcon  0.826087\n",
       "20  R2  Econ  0.853333\n",
       "21  R2  Zcon  0.729412\n",
       "31  R3  Econ  0.790123\n",
       "32  R3  Zcon  0.725275\n",
       "42  R4  Econ  0.696970\n",
       "43  R4  Zcon  0.684211\n",
       "53  R5  Econ  0.819277\n",
       "54  R5  Zcon  0.752688\n",
       "64  R6  Econ  0.676471\n",
       "65  R6  Zcon  0.641026\n",
       "75  R7  Econ  0.656250\n",
       "76  R7  Zcon  0.513514\n",
       "86  R8  Econ  0.693069\n",
       "87  R8  Zcon  0.774775\n",
       "97  R9  Econ  0.722892\n",
       "98  R9  Zcon  0.752688"
      ]
     },
     "execution_count": 78,
     "metadata": {},
     "output_type": "execute_result"
    }
   ],
   "source": [
    "# transform results from matrix like to column like  \n",
    "df1 = df.stack().reset_index()\n",
    "#set column names\n",
    "df1.columns = ['a','b','c']\n",
    "# slect only Zcon and Econ \n",
    "df2 = df1[((df1.b == 'Zcon') | (df1.b == 'Econ'))]\n",
    "# remove kaa between the same rater\n",
    "df3 = df2[~(df2.a == df2.b)]\n",
    "# remove econ vs zcon kappa\n",
    "df4 = df3[~((df1.a == 'Zcon') | (df1.a == 'Econ'))]\n",
    "df4"
   ]
  },
  {
   "cell_type": "code",
   "execution_count": 79,
   "metadata": {
    "scrolled": false
   },
   "outputs": [
    {
     "data": {
      "image/png": "[encoded data removed]",
      "text/plain": [
       "<Figure size 174.24x39.6 with 1 Axes>"
      ]
     },
     "metadata": {},
     "output_type": "display_data"
    }
   ],
   "source": [
    "# box plot of zcon econ\n",
    "f, axes = plt.subplots(figsize = (2.42,0.55))\n",
    "sns.set(style=\"white\")\n",
    "sns.axes_style(\"white\")\n",
    "sns.set(font_scale=0.6)\n",
    "sns.boxplot(x='c', y='b', color=\"green\", data=df4, palette=\"Pastel1\",ax=axes)\n",
    "sns.stripplot(x='c', y='b', data=df4, color=\"red\", jitter=0.1, size=2.5,ax=axes)\n",
    "axes.set_xlim([0.35,1])\n",
    "plt.title(\"Dice OK\", loc=\"left\")\n",
    "plt.savefig('../reports/figures/Results/Dice/expcon_vs_zooncon_OK_distrib.svg')"
   ]
  },
  {
   "cell_type": "markdown",
   "metadata": {},
   "source": [
    "### Dice coef Zcon Econ OK"
   ]
  },
  {
   "cell_type": "code",
   "execution_count": 80,
   "metadata": {},
   "outputs": [
    {
     "data": {
      "text/html": [
       "<div>\n",
       "<style scoped>\n",
       "    .dataframe tbody tr th:only-of-type {\n",
       "        vertical-align: middle;\n",
       "    }\n",
       "\n",
       "    .dataframe tbody tr th {\n",
       "        vertical-align: top;\n",
       "    }\n",
       "\n",
       "    .dataframe thead th {\n",
       "        text-align: right;\n",
       "    }\n",
       "</style>\n",
       "<table border=\"1\" class=\"dataframe\">\n",
       "  <thead>\n",
       "    <tr style=\"text-align: right;\">\n",
       "      <th></th>\n",
       "      <th>R1</th>\n",
       "      <th>R2</th>\n",
       "      <th>R3</th>\n",
       "      <th>R4</th>\n",
       "      <th>R5</th>\n",
       "      <th>R6</th>\n",
       "      <th>R7</th>\n",
       "      <th>R8</th>\n",
       "      <th>R9</th>\n",
       "    </tr>\n",
       "  </thead>\n",
       "  <tbody>\n",
       "    <tr>\n",
       "      <th>Econ</th>\n",
       "      <td>0.829268</td>\n",
       "      <td>0.853333</td>\n",
       "      <td>0.790123</td>\n",
       "      <td>0.696970</td>\n",
       "      <td>0.819277</td>\n",
       "      <td>0.676471</td>\n",
       "      <td>0.656250</td>\n",
       "      <td>0.693069</td>\n",
       "      <td>0.722892</td>\n",
       "    </tr>\n",
       "    <tr>\n",
       "      <th>Zcon</th>\n",
       "      <td>0.826087</td>\n",
       "      <td>0.729412</td>\n",
       "      <td>0.725275</td>\n",
       "      <td>0.684211</td>\n",
       "      <td>0.752688</td>\n",
       "      <td>0.641026</td>\n",
       "      <td>0.513514</td>\n",
       "      <td>0.774775</td>\n",
       "      <td>0.752688</td>\n",
       "    </tr>\n",
       "  </tbody>\n",
       "</table>\n",
       "</div>"
      ],
      "text/plain": [
       "            R1        R2        R3        R4        R5        R6        R7  \\\n",
       "Econ  0.829268  0.853333  0.790123  0.696970  0.819277  0.676471  0.656250   \n",
       "Zcon  0.826087  0.729412  0.725275  0.684211  0.752688  0.641026  0.513514   \n",
       "\n",
       "            R8        R9  \n",
       "Econ  0.693069  0.722892  \n",
       "Zcon  0.774775  0.752688  "
      ]
     },
     "execution_count": 80,
     "metadata": {},
     "output_type": "execute_result"
    }
   ],
   "source": [
    "# Pivot table\n",
    "df5=df4.pivot_table(values=['c'], index=['a'],columns=['b'])\n",
    "# flaten headers and rotate it \n",
    "df5.columns = df5.columns.levels[1].get_values()\n",
    "df5.index.name = None\n",
    "df5=df5.T\n",
    "#df5 = df5[['Surc','Jpau','Cmak','Edup','Abad','Atam','Jche','Pfer', 'Czwe']]\n",
    "df5"
   ]
  },
  {
   "cell_type": "code",
   "execution_count": 81,
   "metadata": {
    "scrolled": true
   },
   "outputs": [
    {
     "data": {
      "image/png": "[encoded data removed]",
      "text/plain": [
       "<Figure size 216x39.6 with 2 Axes>"
      ]
     },
     "metadata": {},
     "output_type": "display_data"
    }
   ],
   "source": [
    "# Plot Dice matrix for concensus exert and  zooniverse\n",
    "\n",
    "# Set up the matplotlib figure\n",
    "f, axes = plt.subplots(figsize = (3,0.55))\n",
    "f.subplots_adjust(hspace= .8)\n",
    "sns.set(font_scale=0.6)\n",
    "f.suptitle('Inter-consensus Dice Coefficent for OK ratings',x=0.49,y=1.5, fontsize=8, fontweight='bold')\n",
    "# Draw kappa heat map\n",
    "sns.set(font_scale=0.6)\n",
    "sns.heatmap(df5,vmin=0.1,vmax=0.8,cmap=\"YlGnBu_r\",\n",
    "            square=True,\n",
    "            annot=True,annot_kws={\"size\": 6},\n",
    "            linewidths=.5, \n",
    "            cbar_kws={\"shrink\": .9,\"label\": \"Dice Coef\"}, \n",
    "            ax=axes)\n",
    "sns.set(style=\"white\")\n",
    "sns.axes_style(\"white\")\n",
    "\n",
    "#axes.set_yticks([x+0.5 for x in range(len(dice_df.columns))])\n",
    "axes.set_yticklabels(df5.index,rotation=0,fontsize=7)\n",
    "axes.set_xticklabels(df5.columns,rotation=0,fontsize=7)\n",
    "\n",
    "# Caption\n",
    "txt = '''\n",
    "Fig1: Dice matrix for consensus expert raters vs Zooniverse raters''';\n",
    "f.text(0.1,-1,txt,fontsize=8);\n",
    "plt.title(\"Dice OK\", loc=\"left\",fontsize=7)\n",
    "# Save figure\n",
    "f.savefig('../reports/figures/Results/Dice/Full-Launch-consensus-experts-Vs-Zooniv_OK.svg')"
   ]
  },
  {
   "cell_type": "code",
   "execution_count": 82,
   "metadata": {},
   "outputs": [
    {
     "name": "stderr",
     "output_type": "stream",
     "text": [
      "/mnt/home_sq/yassinebha/.virtualenvs/zooniverse_qc/lib/python3.5/site-packages/scipy/stats/stats.py:1706: FutureWarning: Using a non-tuple sequence for multidimensional indexing is deprecated; use `arr[tuple(seq)]` instead of `arr[seq]`. In the future this will be interpreted as an array index, `arr[np.array(seq)]`, which will result either in an error or a different result.\n",
      "  return np.add.reduce(sorted[indexer] * weights, axis=axis) / sumval\n",
      "/mnt/home_sq/yassinebha/.virtualenvs/zooniverse_qc/lib/python3.5/site-packages/seaborn/axisgrid.py:1847: UserWarning: JointGrid annotation is deprecated and will be removed in a future release.\n",
      "  warnings.warn(UserWarning(msg))\n"
     ]
    },
    {
     "data": {
      "image/png": "[encoded data removed]",
      "text/plain": [
       "<Figure size 180x180 with 3 Axes>"
      ]
     },
     "metadata": {},
     "output_type": "display_data"
    }
   ],
   "source": [
    "import scipy.stats as stats\n",
    "sns.set(color_codes=True)\n",
    "sns.set(font_scale=0.6)\n",
    "joint = sns.jointplot(x='Econ', y='Zcon',data= df5.T,\n",
    "              kind=\"reg\",xlim=[0.35,1], ylim=[0.35,1])\n",
    "joint.annotate(stats.pearsonr,)\n",
    "\n",
    "joint.fig.set_figwidth(2.5)\n",
    "joint.fig.set_figheight(2.5)\n",
    "plt.savefig('../reports/figures/Results/Dice/expert_vs_zooniv_consensus_ok.svg')"
   ]
  },
  {
   "cell_type": "markdown",
   "metadata": {},
   "source": [
    "## Dice for Maybe category"
   ]
  },
  {
   "cell_type": "code",
   "execution_count": 83,
   "metadata": {},
   "outputs": [],
   "source": [
    "# Get Kappa score out of all different combination of ratings\n",
    "dice_df  = df_ratings.drop(['ID','EconVal','ZconVal','Econ','Zcon'],axis=1)\n",
    "dice_store, scales = dice_score(dice_df)"
   ]
  },
  {
   "cell_type": "code",
   "execution_count": 85,
   "metadata": {},
   "outputs": [
    {
     "name": "stdout",
     "output_type": "stream",
     "text": [
      "Dice range from 0.23 to 0.72 ,Mean dice : 0.50 , std : 0.12\n",
      "\n"
     ]
    }
   ],
   "source": [
    "dic_ = dice_store[:,:,1][np.triu_indices(len(dice_store[:,:,1]),k=1)]\n",
    "mean_dic = np.mean(dic_)\n",
    "std_dic = np.std(dic_)\n",
    "max_dic = np.max(dic_)\n",
    "min_dic = np.min(dic_)\n",
    "print('Dice range from {0:.2f} to {1:.2f} ,Mean dice : {2:.2f} , std : {3:.2f}\\n'.format(min_dic,max_dic,mean_dic, std_dic))"
   ]
  },
  {
   "cell_type": "code",
   "execution_count": 87,
   "metadata": {
    "scrolled": true
   },
   "outputs": [
    {
     "data": {
      "image/png": "[encoded data removed]",
      "text/plain": [
       "<Figure size 216x216 with 2 Axes>"
      ]
     },
     "metadata": {},
     "output_type": "display_data"
    }
   ],
   "source": [
    "# Plot kappa matrix for expert only\n",
    "dice_out = pd.DataFrame(dice_store[:,:,1], \n",
    "                         index=dice_df.columns.get_values(),\n",
    "                         columns=dice_df.columns.get_values())\n",
    "\n",
    "\n",
    "# Set up the matplotlib figure\n",
    "f, axes = plt.subplots(figsize = (3,3))\n",
    "f.subplots_adjust(hspace= .8)\n",
    "sns.set(font_scale=0.6)\n",
    "f.suptitle('Inter-Experts Dice Coefficent for Maybe ratings',x=0.49,y=1.05, fontsize=10, fontweight='bold')\n",
    "# Draw kappa heat map\n",
    "mask = np.zeros_like(dice_out)\n",
    "mask[np.triu_indices_from(mask)] = True\n",
    "sns.heatmap(dice_out,vmin=0.1,vmax=0.8,cmap=\"YlGnBu_r\",\n",
    "            square=True,\n",
    "            annot=True,annot_kws={\"size\": 6},\n",
    "            mask = mask,\n",
    "            linewidths=.5, \n",
    "            cbar_kws={\"shrink\": .3,\"label\": \"Dice Coeff Maybe\"}, \n",
    "            ax=axes)\n",
    "sns.set(style=\"white\")\n",
    "sns.axes_style(\"white\")\n",
    "\n",
    "axes.set_yticks([x+0.5 for x in range(len(dice_df.columns))])\n",
    "axes.set_yticklabels(dice_df.columns,rotation=0,fontsize=7)\n",
    "axes.set_xticklabels(dice_df.columns,rotation=0,fontsize=7)\n",
    "\n",
    "# Caption\n",
    "txt = '''\n",
    "Fig1: Dice matrix for {} images from {} QC expert raters'''.format(len(dice_df),len(dice_df.columns));\n",
    "f.text(0.1,-0.1,txt,fontsize=8);\n",
    "#f.text(0.11,0.88,'High',fontsize=12)\n",
    "#f.text(0.10,0.62,'Level of QC expertise',fontsize=12,rotation=90)\n",
    "# Save figure\n",
    "f.savefig('../reports/figures/Results/Dice/Full-Launch-experts_Maybe.svg')"
   ]
  },
  {
   "cell_type": "markdown",
   "metadata": {},
   "source": [
    "### Boxplot of Maybe Dice distribution between raters"
   ]
  },
  {
   "cell_type": "code",
   "execution_count": 88,
   "metadata": {},
   "outputs": [
    {
     "data": {
      "text/html": [
       "<div>\n",
       "<style scoped>\n",
       "    .dataframe tbody tr th:only-of-type {\n",
       "        vertical-align: middle;\n",
       "    }\n",
       "\n",
       "    .dataframe tbody tr th {\n",
       "        vertical-align: top;\n",
       "    }\n",
       "\n",
       "    .dataframe thead th {\n",
       "        text-align: right;\n",
       "    }\n",
       "</style>\n",
       "<table border=\"1\" class=\"dataframe\">\n",
       "  <thead>\n",
       "    <tr style=\"text-align: right;\">\n",
       "      <th></th>\n",
       "      <th>R1</th>\n",
       "      <th>R2</th>\n",
       "      <th>R3</th>\n",
       "      <th>R4</th>\n",
       "      <th>R5</th>\n",
       "      <th>R6</th>\n",
       "      <th>R7</th>\n",
       "      <th>R8</th>\n",
       "      <th>R9</th>\n",
       "    </tr>\n",
       "  </thead>\n",
       "  <tbody>\n",
       "    <tr>\n",
       "      <th>R1</th>\n",
       "      <td>1.000000</td>\n",
       "      <td>0.658228</td>\n",
       "      <td>0.619718</td>\n",
       "      <td>0.658824</td>\n",
       "      <td>0.562500</td>\n",
       "      <td>0.519481</td>\n",
       "      <td>0.506667</td>\n",
       "      <td>0.440000</td>\n",
       "      <td>0.563380</td>\n",
       "    </tr>\n",
       "    <tr>\n",
       "      <th>R2</th>\n",
       "      <td>0.658228</td>\n",
       "      <td>1.000000</td>\n",
       "      <td>0.666667</td>\n",
       "      <td>0.717391</td>\n",
       "      <td>0.535211</td>\n",
       "      <td>0.547619</td>\n",
       "      <td>0.487805</td>\n",
       "      <td>0.280702</td>\n",
       "      <td>0.615385</td>\n",
       "    </tr>\n",
       "    <tr>\n",
       "      <th>R3</th>\n",
       "      <td>0.619718</td>\n",
       "      <td>0.666667</td>\n",
       "      <td>1.000000</td>\n",
       "      <td>0.619048</td>\n",
       "      <td>0.476190</td>\n",
       "      <td>0.447368</td>\n",
       "      <td>0.432432</td>\n",
       "      <td>0.326531</td>\n",
       "      <td>0.628571</td>\n",
       "    </tr>\n",
       "    <tr>\n",
       "      <th>R4</th>\n",
       "      <td>0.658824</td>\n",
       "      <td>0.717391</td>\n",
       "      <td>0.619048</td>\n",
       "      <td>1.000000</td>\n",
       "      <td>0.623377</td>\n",
       "      <td>0.555556</td>\n",
       "      <td>0.522727</td>\n",
       "      <td>0.285714</td>\n",
       "      <td>0.595238</td>\n",
       "    </tr>\n",
       "    <tr>\n",
       "      <th>R5</th>\n",
       "      <td>0.562500</td>\n",
       "      <td>0.535211</td>\n",
       "      <td>0.476190</td>\n",
       "      <td>0.623377</td>\n",
       "      <td>1.000000</td>\n",
       "      <td>0.550725</td>\n",
       "      <td>0.507463</td>\n",
       "      <td>0.333333</td>\n",
       "      <td>0.412698</td>\n",
       "    </tr>\n",
       "  </tbody>\n",
       "</table>\n",
       "</div>"
      ],
      "text/plain": [
       "          R1        R2        R3        R4        R5        R6        R7  \\\n",
       "R1  1.000000  0.658228  0.619718  0.658824  0.562500  0.519481  0.506667   \n",
       "R2  0.658228  1.000000  0.666667  0.717391  0.535211  0.547619  0.487805   \n",
       "R3  0.619718  0.666667  1.000000  0.619048  0.476190  0.447368  0.432432   \n",
       "R4  0.658824  0.717391  0.619048  1.000000  0.623377  0.555556  0.522727   \n",
       "R5  0.562500  0.535211  0.476190  0.623377  1.000000  0.550725  0.507463   \n",
       "\n",
       "          R8        R9  \n",
       "R1  0.440000  0.563380  \n",
       "R2  0.280702  0.615385  \n",
       "R3  0.326531  0.628571  \n",
       "R4  0.285714  0.595238  \n",
       "R5  0.333333  0.412698  "
      ]
     },
     "execution_count": 88,
     "metadata": {},
     "output_type": "execute_result"
    }
   ],
   "source": [
    "#compute Dice\n",
    "dice_df  = df_ratings.drop(['ID','EconVal','ZconVal','Econ','Zcon'],axis=1)\n",
    "dice_store, scales = dice_score(dice_df)\n",
    "# Get results into data frame\n",
    "df_resul= pd.DataFrame(dice_store[:,:,1],columns=dice_df.columns,index=dice_df.columns)\n",
    "df_resul.head()"
   ]
  },
  {
   "cell_type": "code",
   "execution_count": 89,
   "metadata": {},
   "outputs": [
    {
     "data": {
      "text/html": [
       "<div>\n",
       "<style scoped>\n",
       "    .dataframe tbody tr th:only-of-type {\n",
       "        vertical-align: middle;\n",
       "    }\n",
       "\n",
       "    .dataframe tbody tr th {\n",
       "        vertical-align: top;\n",
       "    }\n",
       "\n",
       "    .dataframe thead th {\n",
       "        text-align: right;\n",
       "    }\n",
       "</style>\n",
       "<table border=\"1\" class=\"dataframe\">\n",
       "  <thead>\n",
       "    <tr style=\"text-align: right;\">\n",
       "      <th></th>\n",
       "      <th>a</th>\n",
       "      <th>b</th>\n",
       "      <th>c</th>\n",
       "    </tr>\n",
       "  </thead>\n",
       "  <tbody>\n",
       "    <tr>\n",
       "      <th>1</th>\n",
       "      <td>R1</td>\n",
       "      <td>R2</td>\n",
       "      <td>0.658228</td>\n",
       "    </tr>\n",
       "    <tr>\n",
       "      <th>2</th>\n",
       "      <td>R1</td>\n",
       "      <td>R3</td>\n",
       "      <td>0.619718</td>\n",
       "    </tr>\n",
       "    <tr>\n",
       "      <th>3</th>\n",
       "      <td>R1</td>\n",
       "      <td>R4</td>\n",
       "      <td>0.658824</td>\n",
       "    </tr>\n",
       "    <tr>\n",
       "      <th>4</th>\n",
       "      <td>R1</td>\n",
       "      <td>R5</td>\n",
       "      <td>0.562500</td>\n",
       "    </tr>\n",
       "    <tr>\n",
       "      <th>5</th>\n",
       "      <td>R1</td>\n",
       "      <td>R6</td>\n",
       "      <td>0.519481</td>\n",
       "    </tr>\n",
       "  </tbody>\n",
       "</table>\n",
       "</div>"
      ],
      "text/plain": [
       "    a   b         c\n",
       "1  R1  R2  0.658228\n",
       "2  R1  R3  0.619718\n",
       "3  R1  R4  0.658824\n",
       "4  R1  R5  0.562500\n",
       "5  R1  R6  0.519481"
      ]
     },
     "execution_count": 89,
     "metadata": {},
     "output_type": "execute_result"
    }
   ],
   "source": [
    "# transform results from matrix like to column like  \n",
    "df1 = df_resul.stack().reset_index()\n",
    "#set column names\n",
    "df1.columns = ['a','b','c']\n",
    "#remove kappa for between the same rater ( kappa of 1)\n",
    "df1 = df1[~(df1.a == df1.b)]\n",
    "df1.head()"
   ]
  },
  {
   "cell_type": "code",
   "execution_count": 91,
   "metadata": {},
   "outputs": [
    {
     "data": {
      "image/png": "[encoded data removed]",
      "text/plain": [
       "<Figure size 172.8x144 with 1 Axes>"
      ]
     },
     "metadata": {},
     "output_type": "display_data"
    }
   ],
   "source": [
    "f, axes = plt.subplots(figsize = (2.4,2))\n",
    "sns.set(style=\"white\")\n",
    "sns.axes_style(\"white\")\n",
    "sns.set(font_scale=0.6)\n",
    "sns.boxplot(x='a', y='c', color=\"green\", data=df1,palette=\"Pastel1\")\n",
    "sns.stripplot(x='a', y='c', data=df1, color=\"red\", jitter=0.1, size=2.5)\n",
    "axes.set_xticklabels(df1.a.unique(),rotation=0,fontsize=7)\n",
    "axes.set_ylim([0.2,0.95])\n",
    "plt.title(\"Dice Distribution Maybe\", loc=\"left\")\n",
    "plt.savefig('../reports/figures/Results/Dice/expert_distrib_Maybe.svg')"
   ]
  },
  {
   "cell_type": "markdown",
   "metadata": {},
   "source": [
    "### Box plot of Maybe Dice between expert and zooniverse consensus"
   ]
  },
  {
   "cell_type": "code",
   "execution_count": 92,
   "metadata": {},
   "outputs": [
    {
     "data": {
      "text/html": [
       "<div>\n",
       "<style scoped>\n",
       "    .dataframe tbody tr th:only-of-type {\n",
       "        vertical-align: middle;\n",
       "    }\n",
       "\n",
       "    .dataframe tbody tr th {\n",
       "        vertical-align: top;\n",
       "    }\n",
       "\n",
       "    .dataframe thead th {\n",
       "        text-align: right;\n",
       "    }\n",
       "</style>\n",
       "<table border=\"1\" class=\"dataframe\">\n",
       "  <thead>\n",
       "    <tr style=\"text-align: right;\">\n",
       "      <th></th>\n",
       "      <th>R1</th>\n",
       "      <th>R2</th>\n",
       "      <th>R3</th>\n",
       "      <th>R4</th>\n",
       "      <th>R5</th>\n",
       "      <th>R6</th>\n",
       "      <th>R7</th>\n",
       "      <th>R8</th>\n",
       "      <th>R9</th>\n",
       "      <th>Econ</th>\n",
       "      <th>Zcon</th>\n",
       "    </tr>\n",
       "  </thead>\n",
       "  <tbody>\n",
       "    <tr>\n",
       "      <th>R1</th>\n",
       "      <td>1.000000</td>\n",
       "      <td>0.658228</td>\n",
       "      <td>0.619718</td>\n",
       "      <td>0.658824</td>\n",
       "      <td>0.562500</td>\n",
       "      <td>0.519481</td>\n",
       "      <td>0.506667</td>\n",
       "      <td>0.440000</td>\n",
       "      <td>0.563380</td>\n",
       "      <td>0.800000</td>\n",
       "      <td>0.776119</td>\n",
       "    </tr>\n",
       "    <tr>\n",
       "      <th>R2</th>\n",
       "      <td>0.658228</td>\n",
       "      <td>1.000000</td>\n",
       "      <td>0.666667</td>\n",
       "      <td>0.717391</td>\n",
       "      <td>0.535211</td>\n",
       "      <td>0.547619</td>\n",
       "      <td>0.487805</td>\n",
       "      <td>0.280702</td>\n",
       "      <td>0.615385</td>\n",
       "      <td>0.804878</td>\n",
       "      <td>0.675676</td>\n",
       "    </tr>\n",
       "    <tr>\n",
       "      <th>R3</th>\n",
       "      <td>0.619718</td>\n",
       "      <td>0.666667</td>\n",
       "      <td>1.000000</td>\n",
       "      <td>0.619048</td>\n",
       "      <td>0.476190</td>\n",
       "      <td>0.447368</td>\n",
       "      <td>0.432432</td>\n",
       "      <td>0.326531</td>\n",
       "      <td>0.628571</td>\n",
       "      <td>0.729730</td>\n",
       "      <td>0.636364</td>\n",
       "    </tr>\n",
       "    <tr>\n",
       "      <th>R4</th>\n",
       "      <td>0.658824</td>\n",
       "      <td>0.717391</td>\n",
       "      <td>0.619048</td>\n",
       "      <td>1.000000</td>\n",
       "      <td>0.623377</td>\n",
       "      <td>0.555556</td>\n",
       "      <td>0.522727</td>\n",
       "      <td>0.285714</td>\n",
       "      <td>0.595238</td>\n",
       "      <td>0.772727</td>\n",
       "      <td>0.650000</td>\n",
       "    </tr>\n",
       "    <tr>\n",
       "      <th>R5</th>\n",
       "      <td>0.562500</td>\n",
       "      <td>0.535211</td>\n",
       "      <td>0.476190</td>\n",
       "      <td>0.623377</td>\n",
       "      <td>1.000000</td>\n",
       "      <td>0.550725</td>\n",
       "      <td>0.507463</td>\n",
       "      <td>0.333333</td>\n",
       "      <td>0.412698</td>\n",
       "      <td>0.686567</td>\n",
       "      <td>0.508475</td>\n",
       "    </tr>\n",
       "  </tbody>\n",
       "</table>\n",
       "</div>"
      ],
      "text/plain": [
       "          R1        R2        R3        R4        R5        R6        R7  \\\n",
       "R1  1.000000  0.658228  0.619718  0.658824  0.562500  0.519481  0.506667   \n",
       "R2  0.658228  1.000000  0.666667  0.717391  0.535211  0.547619  0.487805   \n",
       "R3  0.619718  0.666667  1.000000  0.619048  0.476190  0.447368  0.432432   \n",
       "R4  0.658824  0.717391  0.619048  1.000000  0.623377  0.555556  0.522727   \n",
       "R5  0.562500  0.535211  0.476190  0.623377  1.000000  0.550725  0.507463   \n",
       "\n",
       "          R8        R9      Econ      Zcon  \n",
       "R1  0.440000  0.563380  0.800000  0.776119  \n",
       "R2  0.280702  0.615385  0.804878  0.675676  \n",
       "R3  0.326531  0.628571  0.729730  0.636364  \n",
       "R4  0.285714  0.595238  0.772727  0.650000  \n",
       "R5  0.333333  0.412698  0.686567  0.508475  "
      ]
     },
     "execution_count": 92,
     "metadata": {},
     "output_type": "execute_result"
    }
   ],
   "source": [
    "# Get Dice\n",
    "dice_df  = df_ratings.drop(['ID','EconVal','ZconVal'],axis=1)\n",
    "dice_store, scales = dice_score(dice_df)\n",
    "# transform results from matrix like to column like  \n",
    "df= pd.DataFrame(dice_store[:,:,1],columns=dice_df.columns,index=dice_df.columns)\n",
    "df.head()"
   ]
  },
  {
   "cell_type": "code",
   "execution_count": 93,
   "metadata": {
    "scrolled": false
   },
   "outputs": [
    {
     "name": "stderr",
     "output_type": "stream",
     "text": [
      "/mnt/home_sq/yassinebha/.virtualenvs/zooniverse_qc/lib/python3.5/site-packages/ipykernel_launcher.py:10: UserWarning: Boolean Series key will be reindexed to match DataFrame index.\n",
      "  # Remove the CWD from sys.path while we load stuff.\n"
     ]
    },
    {
     "data": {
      "text/html": [
       "<div>\n",
       "<style scoped>\n",
       "    .dataframe tbody tr th:only-of-type {\n",
       "        vertical-align: middle;\n",
       "    }\n",
       "\n",
       "    .dataframe tbody tr th {\n",
       "        vertical-align: top;\n",
       "    }\n",
       "\n",
       "    .dataframe thead th {\n",
       "        text-align: right;\n",
       "    }\n",
       "</style>\n",
       "<table border=\"1\" class=\"dataframe\">\n",
       "  <thead>\n",
       "    <tr style=\"text-align: right;\">\n",
       "      <th></th>\n",
       "      <th>a</th>\n",
       "      <th>b</th>\n",
       "      <th>c</th>\n",
       "    </tr>\n",
       "  </thead>\n",
       "  <tbody>\n",
       "    <tr>\n",
       "      <th>9</th>\n",
       "      <td>R1</td>\n",
       "      <td>Econ</td>\n",
       "      <td>0.800000</td>\n",
       "    </tr>\n",
       "    <tr>\n",
       "      <th>10</th>\n",
       "      <td>R1</td>\n",
       "      <td>Zcon</td>\n",
       "      <td>0.776119</td>\n",
       "    </tr>\n",
       "    <tr>\n",
       "      <th>20</th>\n",
       "      <td>R2</td>\n",
       "      <td>Econ</td>\n",
       "      <td>0.804878</td>\n",
       "    </tr>\n",
       "    <tr>\n",
       "      <th>21</th>\n",
       "      <td>R2</td>\n",
       "      <td>Zcon</td>\n",
       "      <td>0.675676</td>\n",
       "    </tr>\n",
       "    <tr>\n",
       "      <th>31</th>\n",
       "      <td>R3</td>\n",
       "      <td>Econ</td>\n",
       "      <td>0.729730</td>\n",
       "    </tr>\n",
       "    <tr>\n",
       "      <th>32</th>\n",
       "      <td>R3</td>\n",
       "      <td>Zcon</td>\n",
       "      <td>0.636364</td>\n",
       "    </tr>\n",
       "    <tr>\n",
       "      <th>42</th>\n",
       "      <td>R4</td>\n",
       "      <td>Econ</td>\n",
       "      <td>0.772727</td>\n",
       "    </tr>\n",
       "    <tr>\n",
       "      <th>43</th>\n",
       "      <td>R4</td>\n",
       "      <td>Zcon</td>\n",
       "      <td>0.650000</td>\n",
       "    </tr>\n",
       "    <tr>\n",
       "      <th>53</th>\n",
       "      <td>R5</td>\n",
       "      <td>Econ</td>\n",
       "      <td>0.686567</td>\n",
       "    </tr>\n",
       "    <tr>\n",
       "      <th>54</th>\n",
       "      <td>R5</td>\n",
       "      <td>Zcon</td>\n",
       "      <td>0.508475</td>\n",
       "    </tr>\n",
       "    <tr>\n",
       "      <th>64</th>\n",
       "      <td>R6</td>\n",
       "      <td>Econ</td>\n",
       "      <td>0.650000</td>\n",
       "    </tr>\n",
       "    <tr>\n",
       "      <th>65</th>\n",
       "      <td>R6</td>\n",
       "      <td>Zcon</td>\n",
       "      <td>0.527778</td>\n",
       "    </tr>\n",
       "    <tr>\n",
       "      <th>75</th>\n",
       "      <td>R7</td>\n",
       "      <td>Econ</td>\n",
       "      <td>0.589744</td>\n",
       "    </tr>\n",
       "    <tr>\n",
       "      <th>76</th>\n",
       "      <td>R7</td>\n",
       "      <td>Zcon</td>\n",
       "      <td>0.400000</td>\n",
       "    </tr>\n",
       "    <tr>\n",
       "      <th>86</th>\n",
       "      <td>R8</td>\n",
       "      <td>Econ</td>\n",
       "      <td>0.377358</td>\n",
       "    </tr>\n",
       "    <tr>\n",
       "      <th>87</th>\n",
       "      <td>R8</td>\n",
       "      <td>Zcon</td>\n",
       "      <td>0.400000</td>\n",
       "    </tr>\n",
       "    <tr>\n",
       "      <th>97</th>\n",
       "      <td>R9</td>\n",
       "      <td>Econ</td>\n",
       "      <td>0.675676</td>\n",
       "    </tr>\n",
       "    <tr>\n",
       "      <th>98</th>\n",
       "      <td>R9</td>\n",
       "      <td>Zcon</td>\n",
       "      <td>0.636364</td>\n",
       "    </tr>\n",
       "  </tbody>\n",
       "</table>\n",
       "</div>"
      ],
      "text/plain": [
       "     a     b         c\n",
       "9   R1  Econ  0.800000\n",
       "10  R1  Zcon  0.776119\n",
       "20  R2  Econ  0.804878\n",
       "21  R2  Zcon  0.675676\n",
       "31  R3  Econ  0.729730\n",
       "32  R3  Zcon  0.636364\n",
       "42  R4  Econ  0.772727\n",
       "43  R4  Zcon  0.650000\n",
       "53  R5  Econ  0.686567\n",
       "54  R5  Zcon  0.508475\n",
       "64  R6  Econ  0.650000\n",
       "65  R6  Zcon  0.527778\n",
       "75  R7  Econ  0.589744\n",
       "76  R7  Zcon  0.400000\n",
       "86  R8  Econ  0.377358\n",
       "87  R8  Zcon  0.400000\n",
       "97  R9  Econ  0.675676\n",
       "98  R9  Zcon  0.636364"
      ]
     },
     "execution_count": 93,
     "metadata": {},
     "output_type": "execute_result"
    }
   ],
   "source": [
    "# transform results from matrix like to column like  \n",
    "df1 = df.stack().reset_index()\n",
    "#set column names\n",
    "df1.columns = ['a','b','c']\n",
    "# slect only Zcon and Econ \n",
    "df2 = df1[((df1.b == 'Zcon') | (df1.b == 'Econ'))]\n",
    "# remove kaa between the same rater\n",
    "df3 = df2[~(df2.a == df2.b)]\n",
    "# remove econ vs zcon kappa\n",
    "df4 = df3[~((df1.a == 'Zcon') | (df1.a == 'Econ'))]\n",
    "df4"
   ]
  },
  {
   "cell_type": "code",
   "execution_count": 94,
   "metadata": {
    "scrolled": false
   },
   "outputs": [
    {
     "data": {
      "image/png": "[encoded data removed]",
      "text/plain": [
       "<Figure size 174.24x39.6 with 1 Axes>"
      ]
     },
     "metadata": {},
     "output_type": "display_data"
    }
   ],
   "source": [
    "# box plot of zcon econ\n",
    "f, axes = plt.subplots(figsize = (2.42,0.55))\n",
    "sns.set(style=\"white\")\n",
    "sns.axes_style(\"white\")\n",
    "sns.set(font_scale=0.6)\n",
    "sns.boxplot(x='c', y='b', color=\"green\", data=df4, palette=\"Pastel1\",ax=axes)\n",
    "sns.stripplot(x='c', y='b', data=df4, color=\"red\", jitter=0.1, size=2.5,ax=axes)\n",
    "axes.set_xlim([0.35,1])\n",
    "plt.title(\"Dice Maybe\", loc=\"left\")\n",
    "plt.savefig('../reports/figures/Results/Dice/expcon_vs_zooncon_Maybe_distrib.svg')"
   ]
  },
  {
   "cell_type": "markdown",
   "metadata": {},
   "source": [
    "### Dice coef Zcon Econ Maybe"
   ]
  },
  {
   "cell_type": "code",
   "execution_count": 95,
   "metadata": {},
   "outputs": [
    {
     "data": {
      "text/html": [
       "<div>\n",
       "<style scoped>\n",
       "    .dataframe tbody tr th:only-of-type {\n",
       "        vertical-align: middle;\n",
       "    }\n",
       "\n",
       "    .dataframe tbody tr th {\n",
       "        vertical-align: top;\n",
       "    }\n",
       "\n",
       "    .dataframe thead th {\n",
       "        text-align: right;\n",
       "    }\n",
       "</style>\n",
       "<table border=\"1\" class=\"dataframe\">\n",
       "  <thead>\n",
       "    <tr style=\"text-align: right;\">\n",
       "      <th></th>\n",
       "      <th>R1</th>\n",
       "      <th>R2</th>\n",
       "      <th>R3</th>\n",
       "      <th>R4</th>\n",
       "      <th>R5</th>\n",
       "      <th>R6</th>\n",
       "      <th>R7</th>\n",
       "      <th>R8</th>\n",
       "      <th>R9</th>\n",
       "    </tr>\n",
       "  </thead>\n",
       "  <tbody>\n",
       "    <tr>\n",
       "      <th>Econ</th>\n",
       "      <td>0.800000</td>\n",
       "      <td>0.804878</td>\n",
       "      <td>0.729730</td>\n",
       "      <td>0.772727</td>\n",
       "      <td>0.686567</td>\n",
       "      <td>0.650000</td>\n",
       "      <td>0.589744</td>\n",
       "      <td>0.377358</td>\n",
       "      <td>0.675676</td>\n",
       "    </tr>\n",
       "    <tr>\n",
       "      <th>Zcon</th>\n",
       "      <td>0.776119</td>\n",
       "      <td>0.675676</td>\n",
       "      <td>0.636364</td>\n",
       "      <td>0.650000</td>\n",
       "      <td>0.508475</td>\n",
       "      <td>0.527778</td>\n",
       "      <td>0.400000</td>\n",
       "      <td>0.400000</td>\n",
       "      <td>0.636364</td>\n",
       "    </tr>\n",
       "  </tbody>\n",
       "</table>\n",
       "</div>"
      ],
      "text/plain": [
       "            R1        R2        R3        R4        R5        R6        R7  \\\n",
       "Econ  0.800000  0.804878  0.729730  0.772727  0.686567  0.650000  0.589744   \n",
       "Zcon  0.776119  0.675676  0.636364  0.650000  0.508475  0.527778  0.400000   \n",
       "\n",
       "            R8        R9  \n",
       "Econ  0.377358  0.675676  \n",
       "Zcon  0.400000  0.636364  "
      ]
     },
     "execution_count": 95,
     "metadata": {},
     "output_type": "execute_result"
    }
   ],
   "source": [
    "# Pivot table\n",
    "df5=df4.pivot_table(values=['c'], index=['a'],columns=['b'])\n",
    "# flaten hearers and rotate it \n",
    "df5.columns = df5.columns.levels[1].get_values()\n",
    "df5.index.name = None\n",
    "df5=df5.T\n",
    "#df5 = df5[['Surc','Jpau','Cmak','Edup','Abad','Atam','Jche','Pfer', 'Czwe']]\n",
    "df5"
   ]
  },
  {
   "cell_type": "code",
   "execution_count": 96,
   "metadata": {
    "scrolled": true
   },
   "outputs": [
    {
     "data": {
      "image/png": "[encoded data removed]",
      "text/plain": [
       "<Figure size 216x39.6 with 2 Axes>"
      ]
     },
     "metadata": {},
     "output_type": "display_data"
    }
   ],
   "source": [
    "# Plot Dice matrix for concensus exert and  zooniverse\n",
    "\n",
    "# Set up the matplotlib figure\n",
    "f, axes = plt.subplots(figsize = (3,0.55))\n",
    "f.subplots_adjust(hspace= .8)\n",
    "sns.set(font_scale=0.6)\n",
    "f.suptitle('Inter-consensus Dice Coefficent for Maybe ratings',x=0.49,y=1.5, fontsize=8, fontweight='bold')\n",
    "# Draw kappa heat map\n",
    "sns.set(font_scale=0.6)\n",
    "sns.heatmap(df5,vmin=0.1,vmax=0.8,cmap=\"YlGnBu_r\",\n",
    "            square=True,\n",
    "            annot=True,annot_kws={\"size\": 6},\n",
    "            linewidths=.5, \n",
    "            cbar_kws={\"shrink\": .9,\"label\": \"Dice Coef\"}, \n",
    "            ax=axes)\n",
    "sns.set(style=\"white\")\n",
    "sns.axes_style(\"white\")\n",
    "\n",
    "#axes.set_yticks([x+0.5 for x in range(len(dice_df.columns))])\n",
    "axes.set_yticklabels(df5.index,rotation=0,fontsize=7)\n",
    "axes.set_xticklabels(df5.columns,rotation=0,fontsize=7)\n",
    "\n",
    "# Caption\n",
    "txt = '''\n",
    "Fig1: Dice matrix for consensus expert raters vs Zooniverse raters''';\n",
    "f.text(0.1,-1,txt,fontsize=8);\n",
    "plt.title(\"Dice Maybe\", loc=\"left\",fontsize=7)\n",
    "# Save figure\n",
    "f.savefig('../reports/figures/Results/Dice/Full-Launch-consensus-experts-Vs-Zooniv_Maybe.svg')"
   ]
  },
  {
   "cell_type": "code",
   "execution_count": 97,
   "metadata": {},
   "outputs": [
    {
     "name": "stderr",
     "output_type": "stream",
     "text": [
      "/mnt/home_sq/yassinebha/.virtualenvs/zooniverse_qc/lib/python3.5/site-packages/scipy/stats/stats.py:1706: FutureWarning: Using a non-tuple sequence for multidimensional indexing is deprecated; use `arr[tuple(seq)]` instead of `arr[seq]`. In the future this will be interpreted as an array index, `arr[np.array(seq)]`, which will result either in an error or a different result.\n",
      "  return np.add.reduce(sorted[indexer] * weights, axis=axis) / sumval\n",
      "/mnt/home_sq/yassinebha/.virtualenvs/zooniverse_qc/lib/python3.5/site-packages/seaborn/axisgrid.py:1847: UserWarning: JointGrid annotation is deprecated and will be removed in a future release.\n",
      "  warnings.warn(UserWarning(msg))\n"
     ]
    },
    {
     "data": {
      "image/png": "[encoded data removed]",
      "text/plain": [
       "<Figure size 180x180 with 3 Axes>"
      ]
     },
     "metadata": {},
     "output_type": "display_data"
    }
   ],
   "source": [
    "import scipy.stats as stats\n",
    "sns.set(color_codes=True)\n",
    "sns.set(font_scale=0.6)\n",
    "joint = sns.jointplot(x='Econ', y='Zcon',data= df5.T,\n",
    "              kind=\"reg\",xlim=[0.35,1], ylim=[0.35,1])\n",
    "joint.annotate(stats.pearsonr,)\n",
    "\n",
    "joint.fig.set_figwidth(2.5)\n",
    "joint.fig.set_figheight(2.5)\n",
    "plt.savefig('../reports/figures/Results/Dice/expert_vs_zooniv_consensus_maybe.svg')"
   ]
  },
  {
   "cell_type": "markdown",
   "metadata": {},
   "source": [
    "## Dice for Fail category"
   ]
  },
  {
   "cell_type": "code",
   "execution_count": 98,
   "metadata": {},
   "outputs": [],
   "source": [
    "# Get Kappa score out of all different combination of ratings\n",
    "dice_df  = df_ratings.drop(['ID','EconVal','ZconVal','Econ','Zcon'],axis=1)\n",
    "dice_store, scales = dice_score(dice_df)"
   ]
  },
  {
   "cell_type": "code",
   "execution_count": 100,
   "metadata": {},
   "outputs": [
    {
     "name": "stdout",
     "output_type": "stream",
     "text": [
      "Dice range from 0.67 to 0.93 ,Mean dice : 0.81 , std : 0.06\n",
      "\n"
     ]
    }
   ],
   "source": [
    "dic_ = dice_store[:,:,2][np.triu_indices(len(dice_store[:,:,2]),k=1)]\n",
    "mean_dic = np.mean(dic_)\n",
    "std_dic = np.std(dic_)\n",
    "max_dic = np.max(dic_)\n",
    "min_dic = np.min(dic_)\n",
    "print('Dice range from {0:.2f} to {1:.2f} ,Mean dice : {2:.2f} , std : {3:.2f}\\n'.format(min_dic,max_dic,mean_dic, std_dic))"
   ]
  },
  {
   "cell_type": "code",
   "execution_count": 102,
   "metadata": {
    "scrolled": true
   },
   "outputs": [
    {
     "data": {
      "image/png": "[encoded data removed]",
      "text/plain": [
       "<Figure size 216x216 with 2 Axes>"
      ]
     },
     "metadata": {},
     "output_type": "display_data"
    }
   ],
   "source": [
    "# Plot kappa matrix for expert only\n",
    "dice_out = pd.DataFrame(dice_store[:,:,2], \n",
    "                         index=dice_df.columns.get_values(),\n",
    "                         columns=dice_df.columns.get_values())\n",
    "\n",
    "\n",
    "# Set up the matplotlib figure\n",
    "f, axes = plt.subplots(figsize = (3,3))\n",
    "f.subplots_adjust(hspace= .8)\n",
    "sns.set(font_scale=0.6)\n",
    "f.suptitle('Inter-Experts Dice Coefficent for Fail ratings',x=0.49,y=1.05, fontsize=10, fontweight='bold')\n",
    "# Draw kappa heat map\n",
    "mask = np.zeros_like(dice_out)\n",
    "mask[np.triu_indices_from(mask)] = True\n",
    "sns.heatmap(dice_out,vmin=0.1,vmax=0.8,cmap=\"YlGnBu_r\",\n",
    "            square=True,\n",
    "            annot=True,annot_kws={\"size\": 6},\n",
    "            mask = mask,\n",
    "            linewidths=.5, \n",
    "            cbar_kws={\"shrink\": .3,\"label\": \"Dice Coeff Fail\"}, \n",
    "            ax=axes)\n",
    "sns.set(style=\"white\")\n",
    "sns.axes_style(\"white\")\n",
    "\n",
    "axes.set_yticks([x+0.5 for x in range(len(dice_df.columns))])\n",
    "axes.set_yticklabels(dice_df.columns,rotation=0,fontsize=7)\n",
    "axes.set_xticklabels(dice_df.columns,rotation=0,fontsize=7)\n",
    "\n",
    "# Caption\n",
    "txt = '''\n",
    "Fig1: Dice matrix for {} images from {} QC expert raters'''.format(len(dice_df),len(dice_df.columns));\n",
    "f.text(0.1,-0.1,txt,fontsize=8);\n",
    "#f.text(0.11,0.88,'High',fontsize=12)\n",
    "#f.text(0.10,0.62,'Level of QC expertise',fontsize=12,rotation=90)\n",
    "# Save figure\n",
    "f.savefig('../reports/figures/Results/Dice/Full-Launch-experts_Fail.svg')"
   ]
  },
  {
   "cell_type": "markdown",
   "metadata": {},
   "source": [
    "### Boxplot of Fail Dice distribution between raters"
   ]
  },
  {
   "cell_type": "code",
   "execution_count": 103,
   "metadata": {
    "scrolled": true
   },
   "outputs": [
    {
     "data": {
      "text/html": [
       "<div>\n",
       "<style scoped>\n",
       "    .dataframe tbody tr th:only-of-type {\n",
       "        vertical-align: middle;\n",
       "    }\n",
       "\n",
       "    .dataframe tbody tr th {\n",
       "        vertical-align: top;\n",
       "    }\n",
       "\n",
       "    .dataframe thead th {\n",
       "        text-align: right;\n",
       "    }\n",
       "</style>\n",
       "<table border=\"1\" class=\"dataframe\">\n",
       "  <thead>\n",
       "    <tr style=\"text-align: right;\">\n",
       "      <th></th>\n",
       "      <th>R1</th>\n",
       "      <th>R2</th>\n",
       "      <th>R3</th>\n",
       "      <th>R4</th>\n",
       "      <th>R5</th>\n",
       "      <th>R6</th>\n",
       "      <th>R7</th>\n",
       "      <th>R8</th>\n",
       "      <th>R9</th>\n",
       "    </tr>\n",
       "  </thead>\n",
       "  <tbody>\n",
       "    <tr>\n",
       "      <th>R1</th>\n",
       "      <td>1.000000</td>\n",
       "      <td>0.904762</td>\n",
       "      <td>0.909091</td>\n",
       "      <td>0.933333</td>\n",
       "      <td>0.857143</td>\n",
       "      <td>0.823529</td>\n",
       "      <td>0.736842</td>\n",
       "      <td>0.844444</td>\n",
       "      <td>0.904762</td>\n",
       "    </tr>\n",
       "    <tr>\n",
       "      <th>R2</th>\n",
       "      <td>0.904762</td>\n",
       "      <td>1.000000</td>\n",
       "      <td>0.818182</td>\n",
       "      <td>0.844444</td>\n",
       "      <td>0.775510</td>\n",
       "      <td>0.784314</td>\n",
       "      <td>0.666667</td>\n",
       "      <td>0.800000</td>\n",
       "      <td>0.809524</td>\n",
       "    </tr>\n",
       "    <tr>\n",
       "      <th>R3</th>\n",
       "      <td>0.909091</td>\n",
       "      <td>0.818182</td>\n",
       "      <td>1.000000</td>\n",
       "      <td>0.851064</td>\n",
       "      <td>0.784314</td>\n",
       "      <td>0.754717</td>\n",
       "      <td>0.745763</td>\n",
       "      <td>0.851064</td>\n",
       "      <td>0.863636</td>\n",
       "    </tr>\n",
       "    <tr>\n",
       "      <th>R4</th>\n",
       "      <td>0.933333</td>\n",
       "      <td>0.844444</td>\n",
       "      <td>0.851064</td>\n",
       "      <td>1.000000</td>\n",
       "      <td>0.846154</td>\n",
       "      <td>0.814815</td>\n",
       "      <td>0.766667</td>\n",
       "      <td>0.791667</td>\n",
       "      <td>0.844444</td>\n",
       "    </tr>\n",
       "    <tr>\n",
       "      <th>R5</th>\n",
       "      <td>0.857143</td>\n",
       "      <td>0.775510</td>\n",
       "      <td>0.784314</td>\n",
       "      <td>0.846154</td>\n",
       "      <td>1.000000</td>\n",
       "      <td>0.896552</td>\n",
       "      <td>0.781250</td>\n",
       "      <td>0.846154</td>\n",
       "      <td>0.816327</td>\n",
       "    </tr>\n",
       "  </tbody>\n",
       "</table>\n",
       "</div>"
      ],
      "text/plain": [
       "          R1        R2        R3        R4        R5        R6        R7  \\\n",
       "R1  1.000000  0.904762  0.909091  0.933333  0.857143  0.823529  0.736842   \n",
       "R2  0.904762  1.000000  0.818182  0.844444  0.775510  0.784314  0.666667   \n",
       "R3  0.909091  0.818182  1.000000  0.851064  0.784314  0.754717  0.745763   \n",
       "R4  0.933333  0.844444  0.851064  1.000000  0.846154  0.814815  0.766667   \n",
       "R5  0.857143  0.775510  0.784314  0.846154  1.000000  0.896552  0.781250   \n",
       "\n",
       "          R8        R9  \n",
       "R1  0.844444  0.904762  \n",
       "R2  0.800000  0.809524  \n",
       "R3  0.851064  0.863636  \n",
       "R4  0.791667  0.844444  \n",
       "R5  0.846154  0.816327  "
      ]
     },
     "execution_count": 103,
     "metadata": {},
     "output_type": "execute_result"
    }
   ],
   "source": [
    "#compute Dice\n",
    "dice_df  = df_ratings.drop(['ID','EconVal','ZconVal','Econ','Zcon'],axis=1)\n",
    "dice_store, scales = dice_score(dice_df)\n",
    "# Get results into data frame\n",
    "df_resul= pd.DataFrame(dice_store[:,:,2],columns=dice_df.columns,index=dice_df.columns)\n",
    "df_resul.head()"
   ]
  },
  {
   "cell_type": "code",
   "execution_count": 104,
   "metadata": {},
   "outputs": [
    {
     "data": {
      "text/html": [
       "<div>\n",
       "<style scoped>\n",
       "    .dataframe tbody tr th:only-of-type {\n",
       "        vertical-align: middle;\n",
       "    }\n",
       "\n",
       "    .dataframe tbody tr th {\n",
       "        vertical-align: top;\n",
       "    }\n",
       "\n",
       "    .dataframe thead th {\n",
       "        text-align: right;\n",
       "    }\n",
       "</style>\n",
       "<table border=\"1\" class=\"dataframe\">\n",
       "  <thead>\n",
       "    <tr style=\"text-align: right;\">\n",
       "      <th></th>\n",
       "      <th>a</th>\n",
       "      <th>b</th>\n",
       "      <th>c</th>\n",
       "    </tr>\n",
       "  </thead>\n",
       "  <tbody>\n",
       "    <tr>\n",
       "      <th>1</th>\n",
       "      <td>R1</td>\n",
       "      <td>R2</td>\n",
       "      <td>0.904762</td>\n",
       "    </tr>\n",
       "    <tr>\n",
       "      <th>2</th>\n",
       "      <td>R1</td>\n",
       "      <td>R3</td>\n",
       "      <td>0.909091</td>\n",
       "    </tr>\n",
       "    <tr>\n",
       "      <th>3</th>\n",
       "      <td>R1</td>\n",
       "      <td>R4</td>\n",
       "      <td>0.933333</td>\n",
       "    </tr>\n",
       "    <tr>\n",
       "      <th>4</th>\n",
       "      <td>R1</td>\n",
       "      <td>R5</td>\n",
       "      <td>0.857143</td>\n",
       "    </tr>\n",
       "    <tr>\n",
       "      <th>5</th>\n",
       "      <td>R1</td>\n",
       "      <td>R6</td>\n",
       "      <td>0.823529</td>\n",
       "    </tr>\n",
       "  </tbody>\n",
       "</table>\n",
       "</div>"
      ],
      "text/plain": [
       "    a   b         c\n",
       "1  R1  R2  0.904762\n",
       "2  R1  R3  0.909091\n",
       "3  R1  R4  0.933333\n",
       "4  R1  R5  0.857143\n",
       "5  R1  R6  0.823529"
      ]
     },
     "execution_count": 104,
     "metadata": {},
     "output_type": "execute_result"
    }
   ],
   "source": [
    "# transform results from matrix like to column like  \n",
    "df1 = df_resul.stack().reset_index()\n",
    "#set column names\n",
    "df1.columns = ['a','b','c']\n",
    "#remove kappa for between the same rater ( kappa of 1)\n",
    "df1 = df1[~(df1.a == df1.b)]\n",
    "df1.head()"
   ]
  },
  {
   "cell_type": "code",
   "execution_count": 106,
   "metadata": {},
   "outputs": [
    {
     "data": {
      "image/png": "[encoded data removed]",
      "text/plain": [
       "<Figure size 172.8x144 with 1 Axes>"
      ]
     },
     "metadata": {},
     "output_type": "display_data"
    }
   ],
   "source": [
    "f, axes = plt.subplots(figsize = (2.4,2))\n",
    "sns.set(style=\"white\")\n",
    "sns.axes_style(\"white\")\n",
    "sns.set(font_scale=0.6)\n",
    "sns.boxplot(x='a', y='c', color=\"green\", data=df1,palette=\"Pastel1\")\n",
    "sns.stripplot(x='a', y='c', data=df1, color=\"red\", jitter=0.1, size=2.5)\n",
    "axes.set_xticklabels(df1.a.unique(),rotation=0,fontsize=7)\n",
    "axes.set_ylim([0.2,0.95])\n",
    "plt.title(\"Dice Distribution Fail\", loc=\"left\")\n",
    "plt.savefig('../reports/figures/Results/Dice/expert_distrib_Fail.svg')"
   ]
  },
  {
   "cell_type": "markdown",
   "metadata": {},
   "source": [
    "### Box plot of Fail Dice between expert and zooniverse consensus"
   ]
  },
  {
   "cell_type": "code",
   "execution_count": 107,
   "metadata": {},
   "outputs": [
    {
     "data": {
      "text/html": [
       "<div>\n",
       "<style scoped>\n",
       "    .dataframe tbody tr th:only-of-type {\n",
       "        vertical-align: middle;\n",
       "    }\n",
       "\n",
       "    .dataframe tbody tr th {\n",
       "        vertical-align: top;\n",
       "    }\n",
       "\n",
       "    .dataframe thead th {\n",
       "        text-align: right;\n",
       "    }\n",
       "</style>\n",
       "<table border=\"1\" class=\"dataframe\">\n",
       "  <thead>\n",
       "    <tr style=\"text-align: right;\">\n",
       "      <th></th>\n",
       "      <th>R1</th>\n",
       "      <th>R2</th>\n",
       "      <th>R3</th>\n",
       "      <th>R4</th>\n",
       "      <th>R5</th>\n",
       "      <th>R6</th>\n",
       "      <th>R7</th>\n",
       "      <th>R8</th>\n",
       "      <th>R9</th>\n",
       "      <th>Econ</th>\n",
       "      <th>Zcon</th>\n",
       "    </tr>\n",
       "  </thead>\n",
       "  <tbody>\n",
       "    <tr>\n",
       "      <th>R1</th>\n",
       "      <td>1.000000</td>\n",
       "      <td>0.904762</td>\n",
       "      <td>0.909091</td>\n",
       "      <td>0.933333</td>\n",
       "      <td>0.857143</td>\n",
       "      <td>0.823529</td>\n",
       "      <td>0.736842</td>\n",
       "      <td>0.844444</td>\n",
       "      <td>0.904762</td>\n",
       "      <td>0.976744</td>\n",
       "      <td>0.926829</td>\n",
       "    </tr>\n",
       "    <tr>\n",
       "      <th>R2</th>\n",
       "      <td>0.904762</td>\n",
       "      <td>1.000000</td>\n",
       "      <td>0.818182</td>\n",
       "      <td>0.844444</td>\n",
       "      <td>0.775510</td>\n",
       "      <td>0.784314</td>\n",
       "      <td>0.666667</td>\n",
       "      <td>0.800000</td>\n",
       "      <td>0.809524</td>\n",
       "      <td>0.883721</td>\n",
       "      <td>0.829268</td>\n",
       "    </tr>\n",
       "    <tr>\n",
       "      <th>R3</th>\n",
       "      <td>0.909091</td>\n",
       "      <td>0.818182</td>\n",
       "      <td>1.000000</td>\n",
       "      <td>0.851064</td>\n",
       "      <td>0.784314</td>\n",
       "      <td>0.754717</td>\n",
       "      <td>0.745763</td>\n",
       "      <td>0.851064</td>\n",
       "      <td>0.863636</td>\n",
       "      <td>0.888889</td>\n",
       "      <td>0.837209</td>\n",
       "    </tr>\n",
       "    <tr>\n",
       "      <th>R4</th>\n",
       "      <td>0.933333</td>\n",
       "      <td>0.844444</td>\n",
       "      <td>0.851064</td>\n",
       "      <td>1.000000</td>\n",
       "      <td>0.846154</td>\n",
       "      <td>0.814815</td>\n",
       "      <td>0.766667</td>\n",
       "      <td>0.791667</td>\n",
       "      <td>0.844444</td>\n",
       "      <td>0.956522</td>\n",
       "      <td>0.863636</td>\n",
       "    </tr>\n",
       "    <tr>\n",
       "      <th>R5</th>\n",
       "      <td>0.857143</td>\n",
       "      <td>0.775510</td>\n",
       "      <td>0.784314</td>\n",
       "      <td>0.846154</td>\n",
       "      <td>1.000000</td>\n",
       "      <td>0.896552</td>\n",
       "      <td>0.781250</td>\n",
       "      <td>0.846154</td>\n",
       "      <td>0.816327</td>\n",
       "      <td>0.880000</td>\n",
       "      <td>0.791667</td>\n",
       "    </tr>\n",
       "  </tbody>\n",
       "</table>\n",
       "</div>"
      ],
      "text/plain": [
       "          R1        R2        R3        R4        R5        R6        R7  \\\n",
       "R1  1.000000  0.904762  0.909091  0.933333  0.857143  0.823529  0.736842   \n",
       "R2  0.904762  1.000000  0.818182  0.844444  0.775510  0.784314  0.666667   \n",
       "R3  0.909091  0.818182  1.000000  0.851064  0.784314  0.754717  0.745763   \n",
       "R4  0.933333  0.844444  0.851064  1.000000  0.846154  0.814815  0.766667   \n",
       "R5  0.857143  0.775510  0.784314  0.846154  1.000000  0.896552  0.781250   \n",
       "\n",
       "          R8        R9      Econ      Zcon  \n",
       "R1  0.844444  0.904762  0.976744  0.926829  \n",
       "R2  0.800000  0.809524  0.883721  0.829268  \n",
       "R3  0.851064  0.863636  0.888889  0.837209  \n",
       "R4  0.791667  0.844444  0.956522  0.863636  \n",
       "R5  0.846154  0.816327  0.880000  0.791667  "
      ]
     },
     "execution_count": 107,
     "metadata": {},
     "output_type": "execute_result"
    }
   ],
   "source": [
    "# Get Dice\n",
    "dice_df  = df_ratings.drop(['ID','EconVal','ZconVal'],axis=1)\n",
    "dice_store, scales = dice_score(dice_df)\n",
    "# transform results from matrix like to column like  \n",
    "df= pd.DataFrame(dice_store[:,:,2],columns=dice_df.columns,index=dice_df.columns)\n",
    "df.head()"
   ]
  },
  {
   "cell_type": "code",
   "execution_count": 108,
   "metadata": {
    "scrolled": false
   },
   "outputs": [
    {
     "name": "stderr",
     "output_type": "stream",
     "text": [
      "/mnt/home_sq/yassinebha/.virtualenvs/zooniverse_qc/lib/python3.5/site-packages/ipykernel_launcher.py:10: UserWarning: Boolean Series key will be reindexed to match DataFrame index.\n",
      "  # Remove the CWD from sys.path while we load stuff.\n"
     ]
    },
    {
     "data": {
      "text/html": [
       "<div>\n",
       "<style scoped>\n",
       "    .dataframe tbody tr th:only-of-type {\n",
       "        vertical-align: middle;\n",
       "    }\n",
       "\n",
       "    .dataframe tbody tr th {\n",
       "        vertical-align: top;\n",
       "    }\n",
       "\n",
       "    .dataframe thead th {\n",
       "        text-align: right;\n",
       "    }\n",
       "</style>\n",
       "<table border=\"1\" class=\"dataframe\">\n",
       "  <thead>\n",
       "    <tr style=\"text-align: right;\">\n",
       "      <th></th>\n",
       "      <th>a</th>\n",
       "      <th>b</th>\n",
       "      <th>c</th>\n",
       "    </tr>\n",
       "  </thead>\n",
       "  <tbody>\n",
       "    <tr>\n",
       "      <th>9</th>\n",
       "      <td>R1</td>\n",
       "      <td>Econ</td>\n",
       "      <td>0.976744</td>\n",
       "    </tr>\n",
       "    <tr>\n",
       "      <th>10</th>\n",
       "      <td>R1</td>\n",
       "      <td>Zcon</td>\n",
       "      <td>0.926829</td>\n",
       "    </tr>\n",
       "    <tr>\n",
       "      <th>20</th>\n",
       "      <td>R2</td>\n",
       "      <td>Econ</td>\n",
       "      <td>0.883721</td>\n",
       "    </tr>\n",
       "    <tr>\n",
       "      <th>21</th>\n",
       "      <td>R2</td>\n",
       "      <td>Zcon</td>\n",
       "      <td>0.829268</td>\n",
       "    </tr>\n",
       "    <tr>\n",
       "      <th>31</th>\n",
       "      <td>R3</td>\n",
       "      <td>Econ</td>\n",
       "      <td>0.888889</td>\n",
       "    </tr>\n",
       "    <tr>\n",
       "      <th>32</th>\n",
       "      <td>R3</td>\n",
       "      <td>Zcon</td>\n",
       "      <td>0.837209</td>\n",
       "    </tr>\n",
       "    <tr>\n",
       "      <th>42</th>\n",
       "      <td>R4</td>\n",
       "      <td>Econ</td>\n",
       "      <td>0.956522</td>\n",
       "    </tr>\n",
       "    <tr>\n",
       "      <th>43</th>\n",
       "      <td>R4</td>\n",
       "      <td>Zcon</td>\n",
       "      <td>0.863636</td>\n",
       "    </tr>\n",
       "    <tr>\n",
       "      <th>53</th>\n",
       "      <td>R5</td>\n",
       "      <td>Econ</td>\n",
       "      <td>0.880000</td>\n",
       "    </tr>\n",
       "    <tr>\n",
       "      <th>54</th>\n",
       "      <td>R5</td>\n",
       "      <td>Zcon</td>\n",
       "      <td>0.791667</td>\n",
       "    </tr>\n",
       "    <tr>\n",
       "      <th>64</th>\n",
       "      <td>R6</td>\n",
       "      <td>Econ</td>\n",
       "      <td>0.846154</td>\n",
       "    </tr>\n",
       "    <tr>\n",
       "      <th>65</th>\n",
       "      <td>R6</td>\n",
       "      <td>Zcon</td>\n",
       "      <td>0.760000</td>\n",
       "    </tr>\n",
       "    <tr>\n",
       "      <th>75</th>\n",
       "      <td>R7</td>\n",
       "      <td>Econ</td>\n",
       "      <td>0.758621</td>\n",
       "    </tr>\n",
       "    <tr>\n",
       "      <th>76</th>\n",
       "      <td>R7</td>\n",
       "      <td>Zcon</td>\n",
       "      <td>0.678571</td>\n",
       "    </tr>\n",
       "    <tr>\n",
       "      <th>86</th>\n",
       "      <td>R8</td>\n",
       "      <td>Econ</td>\n",
       "      <td>0.826087</td>\n",
       "    </tr>\n",
       "    <tr>\n",
       "      <th>87</th>\n",
       "      <td>R8</td>\n",
       "      <td>Zcon</td>\n",
       "      <td>0.772727</td>\n",
       "    </tr>\n",
       "    <tr>\n",
       "      <th>97</th>\n",
       "      <td>R9</td>\n",
       "      <td>Econ</td>\n",
       "      <td>0.883721</td>\n",
       "    </tr>\n",
       "    <tr>\n",
       "      <th>98</th>\n",
       "      <td>R9</td>\n",
       "      <td>Zcon</td>\n",
       "      <td>0.878049</td>\n",
       "    </tr>\n",
       "  </tbody>\n",
       "</table>\n",
       "</div>"
      ],
      "text/plain": [
       "     a     b         c\n",
       "9   R1  Econ  0.976744\n",
       "10  R1  Zcon  0.926829\n",
       "20  R2  Econ  0.883721\n",
       "21  R2  Zcon  0.829268\n",
       "31  R3  Econ  0.888889\n",
       "32  R3  Zcon  0.837209\n",
       "42  R4  Econ  0.956522\n",
       "43  R4  Zcon  0.863636\n",
       "53  R5  Econ  0.880000\n",
       "54  R5  Zcon  0.791667\n",
       "64  R6  Econ  0.846154\n",
       "65  R6  Zcon  0.760000\n",
       "75  R7  Econ  0.758621\n",
       "76  R7  Zcon  0.678571\n",
       "86  R8  Econ  0.826087\n",
       "87  R8  Zcon  0.772727\n",
       "97  R9  Econ  0.883721\n",
       "98  R9  Zcon  0.878049"
      ]
     },
     "execution_count": 108,
     "metadata": {},
     "output_type": "execute_result"
    }
   ],
   "source": [
    "# transform results from matrix like to column like  \n",
    "df1 = df.stack().reset_index()\n",
    "#set column names\n",
    "df1.columns = ['a','b','c']\n",
    "# slect only Zcon and Econ \n",
    "df2 = df1[((df1.b == 'Zcon') | (df1.b == 'Econ'))]\n",
    "# remove kaa between the same rater\n",
    "df3 = df2[~(df2.a == df2.b)]\n",
    "# remove econ vs zcon kappa\n",
    "df4 = df3[~((df1.a == 'Zcon') | (df1.a == 'Econ'))]\n",
    "df4"
   ]
  },
  {
   "cell_type": "code",
   "execution_count": 109,
   "metadata": {
    "scrolled": false
   },
   "outputs": [
    {
     "data": {
      "image/png": "[encoded data removed]",
      "text/plain": [
       "<Figure size 174.24x39.6 with 1 Axes>"
      ]
     },
     "metadata": {},
     "output_type": "display_data"
    }
   ],
   "source": [
    "# box plot of zcon econ\n",
    "f, axes = plt.subplots(figsize = (2.42,0.55))\n",
    "sns.set(style=\"white\")\n",
    "sns.axes_style(\"white\")\n",
    "sns.set(font_scale=0.6)\n",
    "sns.boxplot(x='c', y='b', color=\"green\", data=df4, palette=\"Pastel1\",ax=axes)\n",
    "sns.stripplot(x='c', y='b', data=df4, color=\"red\", jitter=0.1, size=2.5,ax=axes)\n",
    "axes.set_xlim([0.35,1])\n",
    "plt.title(\"Dice Fail\", loc=\"left\")\n",
    "plt.savefig('../reports/figures/Results/Dice/expcon_vs_zooncon_Fail_distrib.svg')"
   ]
  },
  {
   "cell_type": "markdown",
   "metadata": {},
   "source": [
    "### Dice coef Zcon Econ Fail"
   ]
  },
  {
   "cell_type": "code",
   "execution_count": 112,
   "metadata": {},
   "outputs": [
    {
     "data": {
      "text/html": [
       "<div>\n",
       "<style scoped>\n",
       "    .dataframe tbody tr th:only-of-type {\n",
       "        vertical-align: middle;\n",
       "    }\n",
       "\n",
       "    .dataframe tbody tr th {\n",
       "        vertical-align: top;\n",
       "    }\n",
       "\n",
       "    .dataframe thead th {\n",
       "        text-align: right;\n",
       "    }\n",
       "</style>\n",
       "<table border=\"1\" class=\"dataframe\">\n",
       "  <thead>\n",
       "    <tr style=\"text-align: right;\">\n",
       "      <th></th>\n",
       "      <th>Econ</th>\n",
       "      <th>Zcon</th>\n",
       "    </tr>\n",
       "  </thead>\n",
       "  <tbody>\n",
       "    <tr>\n",
       "      <th>R1</th>\n",
       "      <td>0.976744</td>\n",
       "      <td>0.926829</td>\n",
       "    </tr>\n",
       "    <tr>\n",
       "      <th>R2</th>\n",
       "      <td>0.883721</td>\n",
       "      <td>0.829268</td>\n",
       "    </tr>\n",
       "    <tr>\n",
       "      <th>R3</th>\n",
       "      <td>0.888889</td>\n",
       "      <td>0.837209</td>\n",
       "    </tr>\n",
       "    <tr>\n",
       "      <th>R4</th>\n",
       "      <td>0.956522</td>\n",
       "      <td>0.863636</td>\n",
       "    </tr>\n",
       "    <tr>\n",
       "      <th>R5</th>\n",
       "      <td>0.880000</td>\n",
       "      <td>0.791667</td>\n",
       "    </tr>\n",
       "    <tr>\n",
       "      <th>R6</th>\n",
       "      <td>0.846154</td>\n",
       "      <td>0.760000</td>\n",
       "    </tr>\n",
       "    <tr>\n",
       "      <th>R7</th>\n",
       "      <td>0.758621</td>\n",
       "      <td>0.678571</td>\n",
       "    </tr>\n",
       "    <tr>\n",
       "      <th>R8</th>\n",
       "      <td>0.826087</td>\n",
       "      <td>0.772727</td>\n",
       "    </tr>\n",
       "    <tr>\n",
       "      <th>R9</th>\n",
       "      <td>0.883721</td>\n",
       "      <td>0.878049</td>\n",
       "    </tr>\n",
       "  </tbody>\n",
       "</table>\n",
       "</div>"
      ],
      "text/plain": [
       "        Econ      Zcon\n",
       "R1  0.976744  0.926829\n",
       "R2  0.883721  0.829268\n",
       "R3  0.888889  0.837209\n",
       "R4  0.956522  0.863636\n",
       "R5  0.880000  0.791667\n",
       "R6  0.846154  0.760000\n",
       "R7  0.758621  0.678571\n",
       "R8  0.826087  0.772727\n",
       "R9  0.883721  0.878049"
      ]
     },
     "execution_count": 112,
     "metadata": {},
     "output_type": "execute_result"
    }
   ],
   "source": [
    "# Pivot table\n",
    "df5=df4.pivot_table(values=['c'], index=['a'],columns=['b'])\n",
    "# flaten hearers and rotate it \n",
    "df5.columns = df5.columns.levels[1].get_values()\n",
    "df5.index.name = None\n",
    "df5=df5.T\n",
    "#df5 = df5[['Surc','Jpau','Cmak','Edup','Abad','Atam','Jche','Pfer', 'Czwe']]\n",
    "df5.T"
   ]
  },
  {
   "cell_type": "code",
   "execution_count": 121,
   "metadata": {},
   "outputs": [
    {
     "name": "stdout",
     "output_type": "stream",
     "text": [
      "Dice Ec for Fail range from 0.88 to 0.98 ,Mean dice : 0.88 , std : 0.06\n",
      "\n",
      "Dice Zc for Fail range from 0.82 to 0.93 ,Mean dice : 0.82 , std : 0.07\n",
      "\n"
     ]
    }
   ],
   "source": [
    "econ_ = df5.T.Econ\n",
    "zcon_ = df5.T.Zcon\n",
    "mean_e = np.mean(econ_)\n",
    "mean_z = np.mean(zcon_)\n",
    "std_e = np.std(econ_)\n",
    "std_z = np.std(zcon_)\n",
    "max_e = np.max(econ_); min_e = np.mean(econ_)\n",
    "max_z = np.max(zcon_); min_z = np.mean(zcon_)\n",
    "print('Dice Ec for Fail range from {0:.2f} to {1:.2f} ,Mean dice : {2:.2f} , std : {3:.2f}\\n'.format(min_e,\n",
    "                                                                                         max_e,\n",
    "                                                                                         mean_e,\n",
    "                                                                                         std_e))\n",
    "print('Dice Zc for Fail range from {0:.2f} to {1:.2f} ,Mean dice : {2:.2f} , std : {3:.2f}\\n'.format(min_z,\n",
    "                                                                                         max_z,\n",
    "                                                                                         mean_z,\n",
    "                                                                                         std_z))"
   ]
  },
  {
   "cell_type": "code",
   "execution_count": 122,
   "metadata": {},
   "outputs": [
    {
     "data": {
      "image/png": "[encoded data removed]",
      "text/plain": [
       "<Figure size 216x39.6 with 2 Axes>"
      ]
     },
     "metadata": {},
     "output_type": "display_data"
    }
   ],
   "source": [
    "# Plot Dice matrix for concensus exert and  zooniverse\n",
    "\n",
    "# Set up the matplotlib figure\n",
    "f, axes = plt.subplots(figsize = (3,0.55))\n",
    "f.subplots_adjust(hspace= .8)\n",
    "sns.set(font_scale=0.6)\n",
    "f.suptitle('Inter-consensus Dice Coefficent for Fail ratings',x=0.49,y=1.5, fontsize=8, fontweight='bold')\n",
    "# Draw kappa heat map\n",
    "sns.set(font_scale=0.6)\n",
    "sns.heatmap(df5,vmin=0.1,vmax=0.8,cmap=\"YlGnBu_r\",\n",
    "            square=True,\n",
    "            annot=True,annot_kws={\"size\": 6},\n",
    "            linewidths=.5, \n",
    "            cbar_kws={\"shrink\": .9,\"label\": \"Dice Coef\"}, \n",
    "            ax=axes)\n",
    "sns.set(style=\"white\")\n",
    "sns.axes_style(\"white\")\n",
    "\n",
    "#axes.set_yticks([x+0.5 for x in range(len(dice_df.columns))])\n",
    "axes.set_yticklabels(df5.index,rotation=0,fontsize=7)\n",
    "axes.set_xticklabels(df5.columns,rotation=0,fontsize=7)\n",
    "\n",
    "# Caption\n",
    "txt = '''\n",
    "Fig1: Dice matrix for consensus expert raters vs Zooniverse raters''';\n",
    "f.text(0.1,-1,txt,fontsize=8);\n",
    "plt.title(\"Dice Fail\", loc=\"left\",fontsize=7)\n",
    "# Save figure\n",
    "f.savefig('../reports/figures/Results/Dice/Full-Launch-consensus-experts-Vs-Zooniv_Fail.svg')"
   ]
  },
  {
   "cell_type": "code",
   "execution_count": 123,
   "metadata": {},
   "outputs": [
    {
     "name": "stderr",
     "output_type": "stream",
     "text": [
      "/mnt/home_sq/yassinebha/.virtualenvs/zooniverse_qc/lib/python3.5/site-packages/scipy/stats/stats.py:1706: FutureWarning: Using a non-tuple sequence for multidimensional indexing is deprecated; use `arr[tuple(seq)]` instead of `arr[seq]`. In the future this will be interpreted as an array index, `arr[np.array(seq)]`, which will result either in an error or a different result.\n",
      "  return np.add.reduce(sorted[indexer] * weights, axis=axis) / sumval\n",
      "/mnt/home_sq/yassinebha/.virtualenvs/zooniverse_qc/lib/python3.5/site-packages/seaborn/axisgrid.py:1847: UserWarning: JointGrid annotation is deprecated and will be removed in a future release.\n",
      "  warnings.warn(UserWarning(msg))\n"
     ]
    },
    {
     "data": {
      "image/png": "[encoded data removed]",
      "text/plain": [
       "<Figure size 180x180 with 3 Axes>"
      ]
     },
     "metadata": {},
     "output_type": "display_data"
    }
   ],
   "source": [
    "import scipy.stats as stats\n",
    "sns.set(color_codes=True)\n",
    "sns.set(font_scale=0.6)\n",
    "joint = sns.jointplot(x='Econ', y='Zcon',data= df5.T,\n",
    "              kind=\"reg\",xlim=[0.35,1], ylim=[0.35,1])\n",
    "joint.annotate(stats.pearsonr,)\n",
    "\n",
    "joint.fig.set_figwidth(2.5)\n",
    "joint.fig.set_figheight(2.5)\n",
    "plt.savefig('../reports/figures/Results/Dice/expert_vs_zooniv_consensus_fail.svg')"
   ]
  },
  {
   "cell_type": "code",
   "execution_count": null,
   "metadata": {},
   "outputs": [],
   "source": []
  }
 ],
 "metadata": {
  "kernelspec": {
   "display_name": "Python 3",
   "language": "python",
   "name": "python3"
  },
  "language_info": {
   "codemirror_mode": {
    "name": "ipython",
    "version": 3
   },
   "file_extension": ".py",
   "mimetype": "text/x-python",
   "name": "python",
   "nbconvert_exporter": "python",
   "pygments_lexer": "ipython3",
   "version": "3.5.2"
  }
 },
 "nbformat": 4,
 "nbformat_minor": 2
}
