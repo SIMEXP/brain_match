{
 "cells": [
  {
   "cell_type": "markdown",
   "metadata": {},
   "source": [
    "### EXP: Pilote QC rating "
   ]
  },
  {
   "cell_type": "markdown",
   "metadata": {},
   "source": [
    "- **Aim:** Test reliability of quality control (QC) of brain registration ratings between two experts raters (PB: Pierre Bellec, YB: Yassine Benahajali) based on internaly drafted qc protocol( ref: https://figshare.com/articles/Quality_Control_and_assessment_of_the_NIAK_functional_MRI_preprocessing_pipeline/4204845/1 ).\n",
    "\n",
    "- **Exp:** \n",
    "    - 220 anatomical brain images preprocced with two differents pipelines (NIAK and Athena).\n",
    "    - Each rater (PB and YB) rated (OK, Maybe or Fail) both NIAK and Athena images using volume based visualization tool (register) from minctools."
   ]
  },
  {
   "cell_type": "code",
   "execution_count": 68,
   "metadata": {},
   "outputs": [],
   "source": [
    "import os\n",
    "import pandas as pd\n",
    "import numpy as np\n",
    "import seaborn as sns\n",
    "from sklearn import metrics\n",
    "from matplotlib import gridspec as gs\n",
    "import matplotlib.pyplot as plt\n",
    "\n",
    "%matplotlib inline\n",
    "sns.set(style=\"white\")"
   ]
  },
  {
   "cell_type": "code",
   "execution_count": 30,
   "metadata": {},
   "outputs": [
    {
     "data": {
      "text/html": [
       "<div>\n",
       "<style scoped>\n",
       "    .dataframe tbody tr th:only-of-type {\n",
       "        vertical-align: middle;\n",
       "    }\n",
       "\n",
       "    .dataframe tbody tr th {\n",
       "        vertical-align: top;\n",
       "    }\n",
       "\n",
       "    .dataframe thead th {\n",
       "        text-align: right;\n",
       "    }\n",
       "</style>\n",
       "<table border=\"1\" class=\"dataframe\">\n",
       "  <thead>\n",
       "    <tr style=\"text-align: right;\">\n",
       "      <th></th>\n",
       "      <th>id_subject</th>\n",
       "      <th>status_Athena</th>\n",
       "      <th>status_NIAK</th>\n",
       "      <th>status_Athena.1</th>\n",
       "      <th>status_NIAK.1</th>\n",
       "    </tr>\n",
       "  </thead>\n",
       "  <tbody>\n",
       "    <tr>\n",
       "      <th>0</th>\n",
       "      <td>X0026001</td>\n",
       "      <td>Maybe</td>\n",
       "      <td>Maybe</td>\n",
       "      <td>Maybe</td>\n",
       "      <td>Maybe</td>\n",
       "    </tr>\n",
       "    <tr>\n",
       "      <th>1</th>\n",
       "      <td>X0026002</td>\n",
       "      <td>Maybe</td>\n",
       "      <td>Maybe</td>\n",
       "      <td>Maybe</td>\n",
       "      <td>Maybe</td>\n",
       "    </tr>\n",
       "    <tr>\n",
       "      <th>2</th>\n",
       "      <td>X0026004</td>\n",
       "      <td>Maybe</td>\n",
       "      <td>Maybe</td>\n",
       "      <td>Maybe</td>\n",
       "      <td>Maybe</td>\n",
       "    </tr>\n",
       "    <tr>\n",
       "      <th>3</th>\n",
       "      <td>X0026005</td>\n",
       "      <td>Maybe</td>\n",
       "      <td>Maybe</td>\n",
       "      <td>Maybe</td>\n",
       "      <td>Maybe</td>\n",
       "    </tr>\n",
       "    <tr>\n",
       "      <th>4</th>\n",
       "      <td>X0026009</td>\n",
       "      <td>Maybe</td>\n",
       "      <td>Maybe</td>\n",
       "      <td>Maybe</td>\n",
       "      <td>Maybe</td>\n",
       "    </tr>\n",
       "  </tbody>\n",
       "</table>\n",
       "</div>"
      ],
      "text/plain": [
       "  id_subject status_Athena status_NIAK status_Athena.1 status_NIAK.1\n",
       "0   X0026001         Maybe       Maybe           Maybe         Maybe\n",
       "1   X0026002         Maybe       Maybe           Maybe         Maybe\n",
       "2   X0026004         Maybe       Maybe           Maybe         Maybe\n",
       "3   X0026005         Maybe       Maybe           Maybe         Maybe\n",
       "4   X0026009         Maybe       Maybe           Maybe         Maybe"
      ]
     },
     "execution_count": 30,
     "metadata": {},
     "output_type": "execute_result"
    }
   ],
   "source": [
    "# Read raw table\n",
    "ratings = pd.read_csv('../data/rating/Pilot_QC_Pierre_Yassine-12-10-2018.csv')\n",
    "ratings.head()"
   ]
  },
  {
   "cell_type": "code",
   "execution_count": 31,
   "metadata": {},
   "outputs": [
    {
     "data": {
      "text/html": [
       "<div>\n",
       "<style scoped>\n",
       "    .dataframe tbody tr th:only-of-type {\n",
       "        vertical-align: middle;\n",
       "    }\n",
       "\n",
       "    .dataframe tbody tr th {\n",
       "        vertical-align: top;\n",
       "    }\n",
       "\n",
       "    .dataframe thead th {\n",
       "        text-align: right;\n",
       "    }\n",
       "</style>\n",
       "<table border=\"1\" class=\"dataframe\">\n",
       "  <thead>\n",
       "    <tr style=\"text-align: right;\">\n",
       "      <th></th>\n",
       "      <th>id_subject</th>\n",
       "      <th>PB_Athena</th>\n",
       "      <th>PB_NIAK</th>\n",
       "      <th>YB_Athena</th>\n",
       "      <th>YB_NIAK</th>\n",
       "    </tr>\n",
       "  </thead>\n",
       "  <tbody>\n",
       "    <tr>\n",
       "      <th>count</th>\n",
       "      <td>220</td>\n",
       "      <td>220</td>\n",
       "      <td>220</td>\n",
       "      <td>220</td>\n",
       "      <td>220</td>\n",
       "    </tr>\n",
       "    <tr>\n",
       "      <th>unique</th>\n",
       "      <td>220</td>\n",
       "      <td>4</td>\n",
       "      <td>4</td>\n",
       "      <td>3</td>\n",
       "      <td>3</td>\n",
       "    </tr>\n",
       "    <tr>\n",
       "      <th>top</th>\n",
       "      <td>X1735881</td>\n",
       "      <td>Maybe</td>\n",
       "      <td>OK</td>\n",
       "      <td>Maybe</td>\n",
       "      <td>OK</td>\n",
       "    </tr>\n",
       "    <tr>\n",
       "      <th>freq</th>\n",
       "      <td>1</td>\n",
       "      <td>109</td>\n",
       "      <td>147</td>\n",
       "      <td>110</td>\n",
       "      <td>146</td>\n",
       "    </tr>\n",
       "  </tbody>\n",
       "</table>\n",
       "</div>"
      ],
      "text/plain": [
       "       id_subject PB_Athena PB_NIAK YB_Athena YB_NIAK\n",
       "count         220       220     220       220     220\n",
       "unique        220         4       4         3       3\n",
       "top      X1735881     Maybe      OK     Maybe      OK\n",
       "freq            1       109     147       110     146"
      ]
     },
     "execution_count": 31,
     "metadata": {},
     "output_type": "execute_result"
    }
   ],
   "source": [
    "# Rename columns\n",
    "ratings.rename(index=str, columns={\"status_Athena\": \"PB_Athena\", \"status_NIAK\": \"PB_NIAK\",\n",
    "                                           \"status_Athena.1\": \"YB_Athena\", \"status_NIAK.1\": \"YB_NIAK\"},inplace=True)\n",
    "ratings.describe()"
   ]
  },
  {
   "cell_type": "code",
   "execution_count": 32,
   "metadata": {},
   "outputs": [
    {
     "data": {
      "text/html": [
       "<div>\n",
       "<style scoped>\n",
       "    .dataframe tbody tr th:only-of-type {\n",
       "        vertical-align: middle;\n",
       "    }\n",
       "\n",
       "    .dataframe tbody tr th {\n",
       "        vertical-align: top;\n",
       "    }\n",
       "\n",
       "    .dataframe thead th {\n",
       "        text-align: right;\n",
       "    }\n",
       "</style>\n",
       "<table border=\"1\" class=\"dataframe\">\n",
       "  <thead>\n",
       "    <tr style=\"text-align: right;\">\n",
       "      <th></th>\n",
       "      <th>id_subject</th>\n",
       "      <th>PB_Athena</th>\n",
       "      <th>PB_NIAK</th>\n",
       "      <th>YB_Athena</th>\n",
       "      <th>YB_NIAK</th>\n",
       "    </tr>\n",
       "  </thead>\n",
       "  <tbody>\n",
       "    <tr>\n",
       "      <th>count</th>\n",
       "      <td>220</td>\n",
       "      <td>220</td>\n",
       "      <td>220</td>\n",
       "      <td>220</td>\n",
       "      <td>220</td>\n",
       "    </tr>\n",
       "    <tr>\n",
       "      <th>unique</th>\n",
       "      <td>220</td>\n",
       "      <td>3</td>\n",
       "      <td>3</td>\n",
       "      <td>3</td>\n",
       "      <td>3</td>\n",
       "    </tr>\n",
       "    <tr>\n",
       "      <th>top</th>\n",
       "      <td>X1735881</td>\n",
       "      <td>Maybe</td>\n",
       "      <td>OK</td>\n",
       "      <td>Maybe</td>\n",
       "      <td>OK</td>\n",
       "    </tr>\n",
       "    <tr>\n",
       "      <th>freq</th>\n",
       "      <td>1</td>\n",
       "      <td>109</td>\n",
       "      <td>147</td>\n",
       "      <td>110</td>\n",
       "      <td>146</td>\n",
       "    </tr>\n",
       "  </tbody>\n",
       "</table>\n",
       "</div>"
      ],
      "text/plain": [
       "       id_subject PB_Athena PB_NIAK YB_Athena YB_NIAK\n",
       "count         220       220     220       220     220\n",
       "unique        220         3       3         3       3\n",
       "top      X1735881     Maybe      OK     Maybe      OK\n",
       "freq            1       109     147       110     146"
      ]
     },
     "execution_count": 32,
     "metadata": {},
     "output_type": "execute_result"
    }
   ],
   "source": [
    "# Strip wite sapces \n",
    "ratings['PB_Athena'] = ratings['PB_Athena'].str.strip()\n",
    "ratings['PB_NIAK'] = ratings['PB_NIAK'].str.strip()\n",
    "ratings.describe()"
   ]
  },
  {
   "cell_type": "code",
   "execution_count": 39,
   "metadata": {},
   "outputs": [],
   "source": [
    "# Add matching column between the raters for each of the preprocessing pipeline\n",
    "ratings.loc[:,\"rating_match_NIAK\"] = ratings.loc[:,['PB_NIAK','YB_NIAK']].apply(lambda x: len(set(x)) == 1, axis=1)\n",
    "ratings.loc[:,\"rating_match_Athena\"] = ratings.loc[:,['PB_Athena','YB_Athena']].apply(lambda x: len(set(x)) == 1, axis=1)"
   ]
  },
  {
   "cell_type": "code",
   "execution_count": 40,
   "metadata": {},
   "outputs": [
    {
     "data": {
      "text/html": [
       "<div>\n",
       "<style scoped>\n",
       "    .dataframe tbody tr th:only-of-type {\n",
       "        vertical-align: middle;\n",
       "    }\n",
       "\n",
       "    .dataframe tbody tr th {\n",
       "        vertical-align: top;\n",
       "    }\n",
       "\n",
       "    .dataframe thead th {\n",
       "        text-align: right;\n",
       "    }\n",
       "</style>\n",
       "<table border=\"1\" class=\"dataframe\">\n",
       "  <thead>\n",
       "    <tr style=\"text-align: right;\">\n",
       "      <th></th>\n",
       "      <th>id_subject</th>\n",
       "      <th>PB_Athena</th>\n",
       "      <th>PB_NIAK</th>\n",
       "      <th>YB_Athena</th>\n",
       "      <th>YB_NIAK</th>\n",
       "      <th>rating_match_NIAK</th>\n",
       "      <th>rating_match_Athena</th>\n",
       "    </tr>\n",
       "  </thead>\n",
       "  <tbody>\n",
       "    <tr>\n",
       "      <th>0</th>\n",
       "      <td>X0026001</td>\n",
       "      <td>2</td>\n",
       "      <td>2</td>\n",
       "      <td>2</td>\n",
       "      <td>2</td>\n",
       "      <td>True</td>\n",
       "      <td>True</td>\n",
       "    </tr>\n",
       "    <tr>\n",
       "      <th>1</th>\n",
       "      <td>X0026002</td>\n",
       "      <td>2</td>\n",
       "      <td>2</td>\n",
       "      <td>2</td>\n",
       "      <td>2</td>\n",
       "      <td>True</td>\n",
       "      <td>True</td>\n",
       "    </tr>\n",
       "    <tr>\n",
       "      <th>2</th>\n",
       "      <td>X0026004</td>\n",
       "      <td>2</td>\n",
       "      <td>2</td>\n",
       "      <td>2</td>\n",
       "      <td>2</td>\n",
       "      <td>True</td>\n",
       "      <td>True</td>\n",
       "    </tr>\n",
       "    <tr>\n",
       "      <th>3</th>\n",
       "      <td>X0026005</td>\n",
       "      <td>2</td>\n",
       "      <td>2</td>\n",
       "      <td>2</td>\n",
       "      <td>2</td>\n",
       "      <td>True</td>\n",
       "      <td>True</td>\n",
       "    </tr>\n",
       "    <tr>\n",
       "      <th>4</th>\n",
       "      <td>X0026009</td>\n",
       "      <td>2</td>\n",
       "      <td>2</td>\n",
       "      <td>2</td>\n",
       "      <td>2</td>\n",
       "      <td>True</td>\n",
       "      <td>True</td>\n",
       "    </tr>\n",
       "  </tbody>\n",
       "</table>\n",
       "</div>"
      ],
      "text/plain": [
       "  id_subject  PB_Athena  PB_NIAK  YB_Athena  YB_NIAK  rating_match_NIAK  \\\n",
       "0   X0026001          2        2          2        2               True   \n",
       "1   X0026002          2        2          2        2               True   \n",
       "2   X0026004          2        2          2        2               True   \n",
       "3   X0026005          2        2          2        2               True   \n",
       "4   X0026009          2        2          2        2               True   \n",
       "\n",
       "   rating_match_Athena  \n",
       "0                 True  \n",
       "1                 True  \n",
       "2                 True  \n",
       "3                 True  \n",
       "4                 True  "
      ]
     },
     "execution_count": 40,
     "metadata": {},
     "output_type": "execute_result"
    }
   ],
   "source": [
    "# Replace OK with 1 , Maybe with 2 and Fail with 3\n",
    "ratings.replace({'OK':1,'Maybe':2, 'Fail':3}, inplace=True)\n",
    "ratings.head()"
   ]
  },
  {
   "cell_type": "code",
   "execution_count": 43,
   "metadata": {},
   "outputs": [
    {
     "name": "stdout",
     "output_type": "stream",
     "text": [
      "The percentage of agreement for Athena preprocessed images is: 76.82\n",
      "The percentage of agreement for NIAK preprocessed images is: 85.45\n"
     ]
    }
   ],
   "source": [
    "# calculate the percentage of agreement  between raters for each pipeline\n",
    "agreem_ = (ratings.rating_match_Athena.sum()/ratings.id_subject.count())*100\n",
    "print(\"The percentage of agreement for Athena preprocessed images is: {:.2f}\".format(agreem_))\n",
    "agreem_ = (ratings.rating_match_NIAK.sum()/ratings.id_subject.count())*100\n",
    "print(\"The percentage of agreement for NIAK preprocessed images is: {:.2f}\".format(agreem_))"
   ]
  },
  {
   "cell_type": "code",
   "execution_count": 44,
   "metadata": {},
   "outputs": [],
   "source": [
    "kappa_df  = ratings[['PB_Athena','PB_NIAK','YB_Athena','YB_NIAK']]"
   ]
  },
  {
   "cell_type": "code",
   "execution_count": 51,
   "metadata": {},
   "outputs": [
    {
     "data": {
      "text/plain": [
       "4"
      ]
     },
     "execution_count": 51,
     "metadata": {},
     "output_type": "execute_result"
    }
   ],
   "source": [
    "len(kappa_df.columns)"
   ]
  },
  {
   "cell_type": "code",
   "execution_count": 59,
   "metadata": {},
   "outputs": [
    {
     "name": "stdout",
     "output_type": "stream",
     "text": [
      "0 PB_Athena\n",
      "1 PB_NIAK\n",
      "2 YB_Athena\n",
      "3 YB_NIAK\n"
     ]
    }
   ],
   "source": [
    "for i,x in enumerate(kappa_df.columns):\n",
    "    print(i,x)"
   ]
  },
  {
   "cell_type": "code",
   "execution_count": null,
   "metadata": {},
   "outputs": [],
   "source": [
    "for net_id in range(len(name_users_kappa))"
   ]
  },
  {
   "cell_type": "code",
   "execution_count": 125,
   "metadata": {},
   "outputs": [],
   "source": [
    "# Get Kappa score out of all different combination of ratings\n",
    "kappa_df  = ratings[['PB_Athena','YB_Athena','PB_NIAK','YB_NIAK']]\n",
    "kappa_store = np.zeros((len(kappa_df.columns), len(kappa_df.columns)))\n",
    "for user1_id, user1 in enumerate(kappa_df.columns):\n",
    "    for user2_id, user2 in enumerate(kappa_df.columns):\n",
    "        kappa = metrics.cohen_kappa_score(kappa_df[[user1]],kappa_df[[user2]])\n",
    "        # Save the kappa\n",
    "        kappa_store[user1_id, user2_id] = kappa"
   ]
  },
  {
   "cell_type": "code",
   "execution_count": 126,
   "metadata": {},
   "outputs": [
    {
     "name": "stdout",
     "output_type": "stream",
     "text": [
      "Mean Kappa : 0.57 , std : 0.28\n"
     ]
    }
   ],
   "source": [
    "print('Mean Kappa : {0:.2f} , std : {1:.2f}'.format(kappa_store.mean(), kappa_store.std()))"
   ]
  },
  {
   "cell_type": "code",
   "execution_count": 161,
   "metadata": {},
   "outputs": [
    {
     "data": {
      "image/png": "[encoded data removed]",
      "text/plain": [
       "<Figure size 504x504 with 2 Axes>"
      ]
     },
     "metadata": {},
     "output_type": "display_data"
    }
   ],
   "source": [
    "# Plot kappa matrix\n",
    "kappa_out = pd.DataFrame(kappa_store, \n",
    "                         index=kappa_df.columns.get_values(),\n",
    "                         columns=kappa_df.columns.get_values())\n",
    "\n",
    "# Set up the matplotlib figure\n",
    "f, ax = plt.subplots(figsize=(7, 7))\n",
    "f.suptitle('Pilot QC',x=0.45,y=.95, fontsize=14, fontweight='bold')\n",
    "# Draw kappa heat map\n",
    "sns.heatmap(kappa_out,vmin=0,vmax=1,cmap=\"YlGnBu\",\n",
    "            square=True,annot=True,\n",
    "            linewidths=.5, cbar_kws={\"shrink\": .8}, ax=ax)\n",
    "ax.set_yticks([x+0.5 for x in range(len(kappa_df.columns))])\n",
    "ax.set_yticklabels(kappa_df.columns,rotation=0)\n",
    "ax.set_title('Kappa matrix for 2 raters (PB & YB)',pad=20,fontsize=12)\n",
    "# Save figure\n",
    "f.savefig('../reports/figures/pilot_qc.svg')\n"
   ]
  },
  {
   "cell_type": "code",
   "execution_count": 163,
   "metadata": {},
   "outputs": [
    {
     "data": {
      "text/html": [
       "<img src=\"https://i.stack.imgur.com/kYNd6.png\" width=\"600\" height=\"600\"/>"
      ],
      "text/plain": [
       "<IPython.core.display.Image object>"
      ]
     },
     "execution_count": 163,
     "metadata": {},
     "output_type": "execute_result"
    }
   ],
   "source": [
    "from IPython.display import Image\n",
    "Image(url= \"https://i.stack.imgur.com/kYNd6.png\" ,width=600, height=600)"
   ]
  },
  {
   "cell_type": "code",
   "execution_count": null,
   "metadata": {},
   "outputs": [],
   "source": []
  }
 ],
 "metadata": {
  "kernelspec": {
   "display_name": "Python 3",
   "language": "python",
   "name": "python3"
  },
  "language_info": {
   "codemirror_mode": {
    "name": "ipython",
    "version": 3
   },
   "file_extension": ".py",
   "mimetype": "text/x-python",
   "name": "python",
   "nbconvert_exporter": "python",
   "pygments_lexer": "ipython3",
   "version": "3.5.2"
  }
 },
 "nbformat": 4,
 "nbformat_minor": 2
}
